{
  "cells": [
    {
      "cell_type": "code",
      "execution_count": 1,
      "metadata": {
        "colab": {
          "base_uri": "https://localhost:8080/"
        },
        "id": "P68kcBzFO0e5",
        "outputId": "8a769196-6d72-495d-f709-d0d8872d4ae5"
      },
      "outputs": [
        {
          "name": "stdout",
          "output_type": "stream",
          "text": [
            "Drive already mounted at /content/gdrive; to attempt to forcibly remount, call drive.mount(\"/content/gdrive\", force_remount=True).\n"
          ]
        }
      ],
      "source": [
        "# Mount Google Drive\n",
        "from google.colab import drive\n",
        "import os\n",
        "\n",
        "drive.mount('/content/gdrive')\n",
        "# Define base folder path\n",
        "base_path = '/content/gdrive/MyDrive/RGB_data_stream'"
      ]
    },
    {
      "cell_type": "code",
      "execution_count": 2,
      "metadata": {
        "id": "gB4ohAuZOulE"
      },
      "outputs": [],
      "source": [
        "import os\n",
        "\n",
        "# Gets label\n",
        "csv_path = os.path.join(base_path,'data/3DYoga90_corrected.csv')\n",
        "\n",
        "# Gets valid samples\n",
        "sequence_path = os.path.join(base_path, 'short/downloaded_log.txt')\n",
        "\n",
        "# Path to save the model\n",
        "save_path = os.path.join(base_path, 'nov11_bi_lstm')\n",
        "os.makedirs(save_path, exist_ok=True)\n",
        "\n",
        "# Classification classes\n",
        "pose_list = ['mountain', 'half-way-lift', 'standing-forward-bend', 'downward-dog']\n",
        "NUM_CLASSES = len(pose_list)\n",
        "\n",
        "# Original Downloaded Seqeuence\n",
        "video_dir = os.path.join(base_path, 'short')\n",
        "\n",
        "# Pre_processed to tensor to make training fast # Makes video_dir redundant\n",
        "preprocessed_dir = os.path.join(base_path, 'complete_pre_processed')\n",
        "# os.makedirs(preprocessed_dir, exist_ok=True)\n",
        "assert os.path.isdir(preprocessed_dir), f\"Directory '{preprocessed_dir}' does not exist.\"\n",
        "\n",
        "# Horizontal Flip\n",
        "horz_aug = os.path.join(base_path, 'horz_aug')\n",
        "assert os.path.isdir(horz_aug), f\"Directory '{horz_aug}' does not exist.\"\n",
        "\n",
        "# Gaussian Blur\n",
        "gaussian_blur_aug = os.path.join(base_path, 'gaussian_blur_aug')\n",
        "assert os.path.isdir(gaussian_blur_aug), f\"Directory '{gaussian_blur_aug}' does not exist.\"\n",
        "\n",
        "# Random Resize Crop\n",
        "resize_aug = os.path.join(base_path, 'complete_pre_processed')\n",
        "assert os.path.isdir(resize_aug), f\"Directory '{resize_aug}' does not exist.\"\n"
      ]
    },
    {
      "cell_type": "code",
      "execution_count": 3,
      "metadata": {
        "id": "59PIZHOqO-CK"
      },
      "outputs": [],
      "source": [
        "# Constants\n",
        "FRAME_HEIGHT = 224\n",
        "FRAME_WIDTH = 224\n",
        "SEQUENCE_LENGTH = 16\n",
        "\n",
        "BATCH_SIZE = 16\n",
        "LEARNING_RATE = 0.0001\n",
        "VALIDATION_SPLIT = 0.2\n",
        "TEST_SPLIT = 0.1\n",
        "NUM_EPOCHS = 50"
      ]
    },
    {
      "cell_type": "markdown",
      "metadata": {
        "id": "xxUMJ-OkKc4H"
      },
      "source": [
        "# Dataset\n",
        "\n",
        "Work Left\n",
        "1. Data Augmentation\n",
        "2. Expanding to more classes"
      ]
    },
    {
      "cell_type": "code",
      "execution_count": null,
      "metadata": {},
      "outputs": [],
      "source": [
        "\n",
        "import torch\n",
        "import torch.nn as nn\n",
        "import torchvision.transforms.v2 as T\n",
        "import random\n",
        "\n",
        "class VideoAugmentationPipeline:\n",
        "    \"\"\"Video augmentation pipeline using batch transforms from torchvision.transforms.v2\"\"\"\n",
        "    def __init__(self, spatial_aug_config=None, temporal_aug_config=None):\n",
        "\n",
        "        self.spatial_aug_config = spatial_aug_config or {\n",
        "            'random_resized_crop': {'enabled': False, 'scale': (0.9, 1.0)},  # Changed scale to (0.9, 1.0)\n",
        "            'random_horizontal_flip': {'enabled': True, 'p': 0.3},  # Changed probability to 0.3\n",
        "            'color_jitter': {'enabled': True, 'brightness': 0.1, 'contrast': 0.1, 'saturation': 0.1, 'p': 0.5},  # Reduced values\n",
        "            'gaussian_blur': {'enabled': True, 'p': 0.1},  # Changed probability to 0.1\n",
        "            'random_rotation': {'enabled': True, 'degrees': (-5, 5)},  # Reduced rotation degrees\n",
        "        }\n",
        "        \n",
        "        self.temporal_aug_config = temporal_aug_config or {\n",
        "            'temporal_crop': {'enabled': True, 'crop_size': 0.9},  # Changed crop size to 0.9\n",
        "            'temporal_mask': {'enabled': True, 'n_masks': 1, 'mask_size': 0.05},  # Reduced number of masks and size\n",
        "        }\n",
        "\n",
        "        \n",
        "        # Build transforms that can handle batch inputs\n",
        "        self.spatial_transforms = self._build_spatial_transforms()\n",
        "        \n",
        "    def _build_spatial_transforms(self):\n",
        "        \"\"\"Build composition of spatial transforms that support batch processing\"\"\"\n",
        "        transform_list = []\n",
        "        \n",
        "        if self.spatial_aug_config['random_resized_crop']['enabled']:\n",
        "            transform_list.append(\n",
        "                T.RandomResizedCrop(\n",
        "                    size=(224, 224),\n",
        "                    scale=self.spatial_aug_config['random_resized_crop']['scale'],\n",
        "                    antialias=True\n",
        "                )\n",
        "            )\n",
        "            \n",
        "        if self.spatial_aug_config['random_horizontal_flip']['enabled']:\n",
        "            transform_list.append(\n",
        "                T.RandomHorizontalFlip(p=self.spatial_aug_config['random_horizontal_flip']['p'])\n",
        "            )\n",
        "            \n",
        "        if self.spatial_aug_config['color_jitter']['enabled']:\n",
        "            transform_list.append(\n",
        "                T.ColorJitter(\n",
        "                    brightness=self.spatial_aug_config['color_jitter']['brightness'],\n",
        "                    contrast=self.spatial_aug_config['color_jitter']['contrast'],\n",
        "                    saturation=self.spatial_aug_config['color_jitter']['saturation']\n",
        "                )\n",
        "            )\n",
        "            \n",
        "        if self.spatial_aug_config['gaussian_blur']['enabled']:\n",
        "            transform_list.append(\n",
        "                T.GaussianBlur(\n",
        "                    kernel_size=(5, 5),\n",
        "                    sigma=(0.1, 1.0)\n",
        "                )\n",
        "            )\n",
        "            \n",
        "        if self.spatial_aug_config['random_rotation']['enabled']:\n",
        "            transform_list.append(\n",
        "                T.RandomRotation(\n",
        "                    degrees=self.spatial_aug_config['random_rotation']['degrees'],\n",
        "                    interpolation=T.InterpolationMode.BILINEAR\n",
        "                )\n",
        "            )\n",
        "            \n",
        "        # Always normalize at the end\n",
        "        transform_list.extend([\n",
        "            T.ConvertImageDtype(torch.float32),\n",
        "            T.Normalize(mean=[0.485, 0.456, 0.406], std=[0.229, 0.224, 0.225])\n",
        "        ])\n",
        "        \n",
        "        return T.Compose(transform_list)\n",
        "    \n",
        "    def apply_temporal_augmentation(self, video_tensor):\n",
        "        \"\"\"Apply temporal augmentations to video tensor\"\"\"\n",
        "        if not any(cfg['enabled'] for cfg in self.temporal_aug_config.values()):\n",
        "            return video_tensor\n",
        "            \n",
        "        T, C, H, W = video_tensor.shape\n",
        "        \n",
        "        # Temporal crop\n",
        "        if self.temporal_aug_config['temporal_crop']['enabled']:\n",
        "            crop_size = int(T * self.temporal_aug_config['temporal_crop']['crop_size'])\n",
        "            start_idx = random.randint(0, T - crop_size)\n",
        "            video_tensor = video_tensor[start_idx:start_idx + crop_size]\n",
        "            \n",
        "        # Temporal masking\n",
        "        if self.temporal_aug_config['temporal_mask']['enabled']:\n",
        "            T = len(video_tensor)\n",
        "            mask_size = int(T * self.temporal_aug_config['temporal_mask']['mask_size'])\n",
        "            for _ in range(self.temporal_aug_config['temporal_mask']['n_masks']):\n",
        "                if random.random() < 0.5:\n",
        "                    start_idx = random.randint(0, T - mask_size)\n",
        "                    video_tensor[start_idx:start_idx + mask_size] = 0\n",
        "                    \n",
        "        return video_tensor\n",
        "    \n",
        "    def __call__(self, video_tensor):\n",
        "        \"\"\"Apply transforms to entire video tensor at once\"\"\"\n",
        "        # Input shape: [T, C, H, W]\n",
        "        # Reshape to [T, C, H, W] -> [1, T, C, H, W] for batch processing\n",
        "        video_tensor = video_tensor.unsqueeze(0)\n",
        "        \n",
        "        # Apply spatial transforms to entire video tensor at once\n",
        "        # transforms.v2 will maintain temporal consistency automatically\n",
        "        video_tensor = self.spatial_transforms(video_tensor)\n",
        "        \n",
        "        # Remove batch dimension\n",
        "        video_tensor = video_tensor.squeeze(0)\n",
        "        \n",
        "        # Apply temporal augmentations\n",
        "        # video_tensor = self.apply_temporal_augmentation(video_tensor)\n",
        "        \n",
        "        return video_tensor"
      ]
    },
    {
      "cell_type": "code",
      "execution_count": 4,
      "metadata": {
        "id": "i-weN6y5Kc4J"
      },
      "outputs": [],
      "source": [
        "import os\n",
        "import torch\n",
        "import pandas as pd\n",
        "import numpy as np\n",
        "from torchvision.transforms import transforms\n",
        "from torch.utils.data import Dataset, DataLoader\n",
        "from PIL import Image\n",
        "import imageio\n",
        "import random\n",
        "\n",
        "class YogaVideoDataset(Dataset):\n",
        "    def __init__(self, csv_path, sequence_path, pose_list, video_dir, preprocessed_dir,\n",
        "                 spatial_aug_config=None, temporal_aug_config=None, use_augmentation=True, aug_ratio = 0.5):\n",
        "        with open(sequence_path) as f:\n",
        "            sequence_list = f.read().splitlines()\n",
        "            sequence_list = [int(x) for x in sequence_list]\n",
        "            \n",
        "        self.df = pd.read_csv(csv_path)\n",
        "        self.df = self.df[self.df['sequence_id'].isin(sequence_list)]\n",
        "        self.df = self.df[self.df['l3_pose'].isin(pose_list)]\n",
        "        \n",
        "        self.pose_to_idx = {pose: idx for idx, pose in enumerate(pose_list)}\n",
        "        self.length_of_dataset = len(self.df)\n",
        "        \n",
        "        self.video_dir = video_dir\n",
        "        self.preprocessed_dir = preprocessed_dir\n",
        "        self.use_augmentation = use_augmentation\n",
        "        \n",
        "        # Initialize augmentation pipeline\n",
        "        self.augmentation_pipeline = VideoAugmentationPipeline(\n",
        "            spatial_aug_config=spatial_aug_config,\n",
        "            temporal_aug_config=temporal_aug_config\n",
        "        )\n",
        "        \n",
        "        self.cache = dict()\n",
        "        self.augmentation_ratio = aug_ratio\n",
        "        \n",
        "    def __len__(self):\n",
        "        return self.length_of_dataset\n",
        "        \n",
        "    def __getitem__(self, i):\n",
        "        sequence_id = self.df.iloc[i]['sequence_id']\n",
        "        pose = self.df.iloc[i]['l3_pose']\n",
        "        label = self.pose_to_idx[pose]\n",
        "        \n",
        "        # Load preprocessed frames\n",
        "        if sequence_id in self.cache:\n",
        "            frames = self.cache[sequence_id]\n",
        "        else:\n",
        "            file_path = os.path.join(self.preprocessed_dir, f\"{sequence_id}.pt\")\n",
        "            frames = torch.load(file_path, weights_only=True)\n",
        "            self.cache[sequence_id] = frames\n",
        "        \n",
        "        # Choose whether to use augmented or original data\n",
        "        use_augmented_data = self.use_augmentation and self.augmentation_ratio < random.random()\n",
        "        if use_augmented_data:\n",
        "            frames = self.augmentation_pipeline(frames)\n",
        "            \n",
        "        # save_path = os.path.join(horz_aug, f'{sequence_id}.pt')\n",
        "        # torch.save(frames, save_path)\n",
        "        return frames, label"
      ]
    },
    {
      "cell_type": "code",
      "execution_count": 5,
      "metadata": {
        "id": "5SkHpViw8X3r"
      },
      "outputs": [],
      "source": [
        "from torch.nn.utils.rnn import pad_sequence\n",
        "\n",
        "def collate_fn(batch):\n",
        "    frames, labels = zip(*batch)  # Separate frames and labels\n",
        "\n",
        "    # Pad the sequences of frames for each video in the batch along the sequence dimension\n",
        "    frames_padded = pad_sequence(frames, batch_first=True, padding_value=0)  # Shape: [batch_size, max_seq_len, 3, 224, 224]\n",
        "    lengths = torch.tensor([len(seq) for seq in frames])  # Record original sequence lengths\n",
        "\n",
        "    labels = torch.tensor(labels)\n",
        "\n",
        "    return frames_padded, labels, lengths  # Return lengths for packing"
      ]
    },
    {
      "cell_type": "markdown",
      "metadata": {
        "id": "7U4u_UQWKc4K"
      },
      "source": [
        "# Model\n",
        "``` (mobile_net to get feature map and LSTM to go through the frame sequences)```\n",
        "Trying out average of LSTM from each time_step\n",
        "Work Left\n",
        "1. Using only last time step output from LSTM to using average value, max value, using attention mechanism\n",
        "2. Using other imagenet model to extract the feature map"
      ]
    },
    {
      "cell_type": "code",
      "execution_count": 6,
      "metadata": {
        "id": "NKgHTKgpSDny"
      },
      "outputs": [],
      "source": [
        "import torch\n",
        "import torch.nn as nn\n",
        "import torchvision.models as models\n",
        "import torch.nn.functional as F\n",
        "import torch.nn.utils.rnn as rnn_utils\n",
        "\n",
        "class CNNLSTM(nn.Module):\n",
        "    def __init__(self, num_classes, lstm_hidden_size=512, lstm_layers=2, dropout=0.5):\n",
        "        super(CNNLSTM, self).__init__()\n",
        "\n",
        "        # Load pretrained ResNet18\n",
        "        resnet = models.resnet18(weights=models.ResNet18_Weights.DEFAULT)\n",
        "        # Extract all layers except the final fully connected layer\n",
        "        self.features = nn.Sequential(*list(resnet.children())[:-2])\n",
        "        self.pool = nn.AdaptiveAvgPool2d((1, 1))\n",
        "\n",
        "        # Initially freeze all ResNet parameters\n",
        "        self._freeze_features()\n",
        "\n",
        "        # ResNet18 outputs 512 features after pooling\n",
        "        self.feature_size = 512\n",
        "\n",
        "        # Bidirectional LSTM layers\n",
        "        self.lstm = nn.LSTM(\n",
        "            input_size=self.feature_size,\n",
        "            hidden_size=lstm_hidden_size,\n",
        "            num_layers=lstm_layers,\n",
        "            batch_first=True,\n",
        "            bidirectional=True,  # Enable bidirectional\n",
        "            dropout=dropout if lstm_layers > 1 else 0\n",
        "        )\n",
        "\n",
        "        # Double the classifier input size due to bidirectional LSTM\n",
        "        lstm_output_size = lstm_hidden_size * 2  # * 2 because of bidirectional\n",
        "\n",
        "        # Modified classifier to handle bidirectional LSTM output\n",
        "        self.classifier = nn.Sequential(\n",
        "            nn.Linear(lstm_output_size, 512),\n",
        "            nn.BatchNorm1d(512),\n",
        "            nn.ReLU(),\n",
        "            nn.Dropout(dropout),\n",
        "\n",
        "            nn.Linear(512, 256),\n",
        "            nn.BatchNorm1d(256),\n",
        "            nn.ReLU(),\n",
        "            nn.Dropout(dropout),\n",
        "\n",
        "            nn.Linear(256, 128),\n",
        "            nn.BatchNorm1d(128),\n",
        "            nn.ReLU(),\n",
        "            nn.Dropout(dropout / 2),\n",
        "\n",
        "            nn.Linear(128, num_classes)\n",
        "        )\n",
        "\n",
        "        # Initialize weights for the classifier layers\n",
        "        self._initialize_weights()\n",
        "\n",
        "    def _initialize_weights(self):\n",
        "        for m in self.classifier.modules():\n",
        "            if isinstance(m, nn.Linear):\n",
        "                nn.init.kaiming_normal_(m.weight, mode='fan_out', nonlinearity='relu')\n",
        "                if m.bias is not None:\n",
        "                    nn.init.constant_(m.bias, 0)\n",
        "            elif isinstance(m, nn.BatchNorm1d):\n",
        "                nn.init.constant_(m.weight, 1)\n",
        "                nn.init.constant_(m.bias, 0)\n",
        "\n",
        "    def _freeze_features(self):\n",
        "        for param in self.features.parameters():\n",
        "            param.requires_grad = False\n",
        "\n",
        "    def unfreeze_features_gradually(self, num_layers=3, start_from_end=True):\n",
        "        \"\"\"\n",
        "        Unfreeze a specified number of convolutional layers from ResNet.\n",
        "        Args:\n",
        "            num_layers: Number of layers to unfreeze\n",
        "            start_from_end: If True, start unfreezing from the end (default)\n",
        "        \"\"\"\n",
        "        # First freeze all layers\n",
        "        self._freeze_features()\n",
        "\n",
        "        # Get list of all feature layers\n",
        "        features_list = list(self.features.modules())\n",
        "        conv_layers = [m for m in features_list if isinstance(m, nn.Conv2d)]\n",
        "\n",
        "        # Determine which layers to unfreeze\n",
        "        if start_from_end:\n",
        "            layers_to_unfreeze = conv_layers[-num_layers:]\n",
        "        else:\n",
        "            layers_to_unfreeze = conv_layers[:num_layers]\n",
        "\n",
        "        # Unfreeze the selected layers\n",
        "        for layer in layers_to_unfreeze:\n",
        "            for param in layer.parameters():\n",
        "                param.requires_grad = True\n",
        "\n",
        "    def forward(self, x, lengths):\n",
        "        batch_size, seq_length, c, h, w = x.size()\n",
        "\n",
        "        # Process each frame through the CNN feature extractor\n",
        "        x = x.view(batch_size * seq_length, c, h, w)\n",
        "        x = self.features(x)\n",
        "        x = self.pool(x)\n",
        "        x = x.view(batch_size, seq_length, self.feature_size)\n",
        "\n",
        "        # Pack the sequence for LSTM to handle variable sequence lengths\n",
        "        packed_x = rnn_utils.pack_padded_sequence(x, lengths.cpu(), batch_first=True, enforce_sorted=False)\n",
        "\n",
        "        # Bidirectional LSTM processing\n",
        "        packed_lstm_out, (h_n, c_n) = self.lstm(packed_x)\n",
        "        lstm_out, _ = rnn_utils.pad_packed_sequence(packed_lstm_out, batch_first=True)\n",
        "\n",
        "        # Modified temporal pooling for bidirectional output\n",
        "        # Option 1: Concatenate forward and backward states for last timestamp\n",
        "        forward_out = lstm_out[:, -1, :self.lstm.hidden_size]\n",
        "        backward_out = lstm_out[:, 0, self.lstm.hidden_size:]\n",
        "        x = torch.cat([forward_out, backward_out], dim=1)\n",
        "\n",
        "        # Alternative pooling strategies (commented out):\n",
        "        # Option 2: Mean pooling over time\n",
        "        # x = torch.stack([torch.mean(lstm_out[i, :length], dim=0) for i, length in enumerate(lengths)], dim=0)\n",
        "\n",
        "        # Option 3: Max pooling over time\n",
        "        # x = torch.stack([torch.max(lstm_out[i, :length], dim=0)[0] for i, length in enumerate(lengths)], dim=0)\n",
        "\n",
        "        # Classification\n",
        "        x = self.classifier(x)\n",
        "        return x\n",
        "\n",
        "    def get_trainable_params(self):\n",
        "        \"\"\"Return the number of trainable parameters\"\"\"\n",
        "        return sum(p.numel() for p in self.parameters() if p.requires_grad)\n",
        "\n",
        "    def count_parameters(self):\n",
        "        total_params = 0\n",
        "        for name, parameter in self.named_parameters():\n",
        "            if parameter.requires_grad:\n",
        "                params = parameter.numel()\n",
        "                print(f\"{name}: {params}\")\n",
        "                total_params += params\n",
        "        print(f\"Total Trainable Params: {total_params}\")"
      ]
    },
    {
      "cell_type": "code",
      "execution_count": 8,
      "metadata": {
        "id": "MeGvP73aKc4L"
      },
      "outputs": [],
      "source": [
        "from torch.utils.data import random_split\n",
        "\n",
        "def train_val_test_split(dataset):\n",
        "    total_size = len(dataset)\n",
        "    test_size = int(TEST_SPLIT * total_size)\n",
        "    val_size = int(VALIDATION_SPLIT * total_size)\n",
        "    train_size = total_size - val_size - test_size\n",
        "\n",
        "    train_dataset, val_dataset, test_dataset = random_split(\n",
        "        dataset,\n",
        "        [train_size, val_size, test_size],\n",
        "        generator=torch.Generator().manual_seed(42)  # For reproducibility\n",
        "    )\n",
        "\n",
        "    return train_dataset, val_dataset, test_dataset\n",
        "\n",
        "def create_data_loaders(train_dataset, val_dataset, test_dataset):\n",
        "    train_loader = DataLoader(\n",
        "        train_dataset,\n",
        "        batch_size=BATCH_SIZE,\n",
        "        shuffle=True,\n",
        "        num_workers=2,\n",
        "        pin_memory = True,\n",
        "        collate_fn = collate_fn\n",
        "    )\n",
        "\n",
        "    val_loader = DataLoader(\n",
        "        val_dataset,\n",
        "        batch_size=BATCH_SIZE,\n",
        "        shuffle=False,\n",
        "        num_workers=2,\n",
        "        pin_memory = True,\n",
        "        collate_fn = collate_fn\n",
        "    )\n",
        "\n",
        "    test_loader = DataLoader(\n",
        "        test_dataset,\n",
        "        batch_size=BATCH_SIZE,\n",
        "        shuffle=False,\n",
        "        num_workers=2,\n",
        "        pin_memory = True,\n",
        "        collate_fn = collate_fn\n",
        "    )\n",
        "\n",
        "    return train_loader, val_loader, test_loader"
      ]
    },
    {
      "cell_type": "code",
      "execution_count": 9,
      "metadata": {
        "id": "Yu8Wt-JWKc4M"
      },
      "outputs": [],
      "source": [
        "def plot_training_curves(history, fsave='training_curves.png'):\n",
        "    tsave = os.path.join(save_path, fsave)\n",
        "    # plt.style.use('seaborn')\n",
        "    fig, axs = plt.subplots(2, 3, figsize=(18, 10))\n",
        "\n",
        "    # Loss curves\n",
        "    axs[0, 0].plot(history['train_loss'], label='Train Loss', marker='o')\n",
        "    axs[0, 0].plot(history['val_loss'], label='Validation Loss', marker='o')\n",
        "    axs[0, 0].set_title('Loss')\n",
        "    axs[0, 0].legend()\n",
        "\n",
        "    # Accuracy curves\n",
        "    axs[0, 1].plot(history['train_acc'], label='Train Accuracy', marker='o')\n",
        "    axs[0, 1].plot(history['val_acc'], label='Validation Accuracy', marker='o')\n",
        "    axs[0, 1].set_title('Accuracy')\n",
        "    axs[0, 1].legend()\n",
        "\n",
        "    # Learning rate\n",
        "    axs[0, 2].plot(history['learning_rates'], label='Learning Rate', marker='o')\n",
        "    axs[0, 2].set_title('Learning Rate')\n",
        "    axs[0, 2].set_yscale('log')\n",
        "    axs[0, 2].legend()\n",
        "\n",
        "    # Precision\n",
        "    axs[1, 0].plot(history['train_precision'], label='Train Precision', marker='o')\n",
        "    axs[1, 0].plot(history['val_precision'], label='Validation Precision', marker='o')\n",
        "    axs[1, 0].set_title('Precision')\n",
        "    axs[1, 0].legend()\n",
        "\n",
        "    # Recall\n",
        "    axs[1, 1].plot(history['train_recall'], label='Train Recall', marker='o')\n",
        "    axs[1, 1].plot(history['val_recall'], label='Validation Recall', marker='o')\n",
        "    axs[1, 1].set_title('Recall')\n",
        "    axs[1, 1].legend()\n",
        "\n",
        "    # F1 Score\n",
        "    axs[1, 2].plot(history['train_f1'], label='Train F1', marker='o')\n",
        "    axs[1, 2].plot(history['val_f1'], label='Validation F1', marker='o')\n",
        "    axs[1, 2].set_title('F1 Score')\n",
        "    axs[1, 2].legend()\n",
        "\n",
        "    for ax in axs.flat:\n",
        "        ax.set_xlabel('Epoch')\n",
        "        ax.grid(True)\n",
        "\n",
        "    plt.tight_layout()\n",
        "    plt.savefig(tsave)\n",
        "    plt.show()\n",
        "    plt.close()\n"
      ]
    },
    {
      "cell_type": "code",
      "execution_count": 10,
      "metadata": {
        "id": "C9hI_YPeKc4M"
      },
      "outputs": [],
      "source": [
        "class EarlyStopping:\n",
        "    \"\"\"Early stopping to prevent overfitting\"\"\"\n",
        "    def __init__(self, patience=7, min_delta=0):\n",
        "        self.patience = patience\n",
        "        self.min_delta = min_delta\n",
        "        self.counter = 0\n",
        "        self.best_loss = None\n",
        "        self.early_stop = False\n",
        "\n",
        "    def __call__(self, val_loss):\n",
        "        if self.best_loss is None:\n",
        "            self.best_loss = val_loss\n",
        "        # on default = 7 successive val_loss increase stop\n",
        "        elif val_loss > self.best_loss - self.min_delta:\n",
        "            self.counter += 1\n",
        "            if self.counter >= self.patience:\n",
        "                self.early_stop = True\n",
        "        else:\n",
        "            self.best_loss = val_loss\n",
        "            self.counter = 0"
      ]
    },
    {
      "cell_type": "code",
      "execution_count": 11,
      "metadata": {
        "id": "Ym8hfKK7YpbC"
      },
      "outputs": [],
      "source": [
        "import os\n",
        "import torch\n",
        "def save_checkpoint(model, optimizer, epoch, history, best_path=None):\n",
        "    if best_path is not None:\n",
        "        chk_path = os.path.join(save_path, f'best_model.pth')\n",
        "        print(f\"Saving checkpoint to {chk_path}\")\n",
        "    else:\n",
        "        chk_path = os.path.join(save_path, f'checkpath_model.pth')\n",
        "        print(f\"Saving checkpoint to {chk_path}\")\n",
        "\n",
        "    # Combine model, optimizer, and history into one dictionary\n",
        "    checkpoint = {\n",
        "        'epoch': epoch + 1,  # Save the next epoch number for resuming\n",
        "        'model_state_dict': model.state_dict(),\n",
        "        'optimizer_state_dict': optimizer.state_dict(),\n",
        "        'history': history  # Save history along with the model and optimizer\n",
        "    }\n",
        "\n",
        "    # Save everything in a single file using torch.save\n",
        "    torch.save(checkpoint, chk_path)\n",
        "    print(f\"Checkpoint saved at epoch {epoch + 1}\")"
      ]
    },
    {
      "cell_type": "code",
      "execution_count": 12,
      "metadata": {
        "id": "gTWiSzTLPAGj"
      },
      "outputs": [],
      "source": [
        "def load_checkpoint(model, optimizer, checkpoint_path):\n",
        "    \"\"\"\n",
        "    Load model and training state from a checkpoint\n",
        "    \"\"\"\n",
        "    print(f\"Loading checkpoint from {checkpoint_path}\")\n",
        "    checkpoint = torch.load(checkpoint_path)\n",
        "\n",
        "    # Load model and optimizer states\n",
        "    model.load_state_dict(checkpoint['model_state_dict'])\n",
        "    optimizer.load_state_dict(checkpoint['optimizer_state_dict'])\n",
        "\n",
        "    # Get the epoch number to resume from\n",
        "    start_epoch = checkpoint['epoch']\n",
        "\n",
        "    # Load training history with new metrics\n",
        "    history = checkpoint.get('history', {\n",
        "        'train_loss': [], 'val_loss': [],\n",
        "        'train_acc': [], 'val_acc': [],\n",
        "        'train_precision': [], 'train_recall': [], 'train_f1': [],\n",
        "        'val_precision': [], 'val_recall': [], 'val_f1': [],\n",
        "        'learning_rates': []\n",
        "    })\n",
        "\n",
        "    return model, optimizer, start_epoch, history\n"
      ]
    },
    {
      "cell_type": "code",
      "execution_count": 13,
      "metadata": {
        "id": "LWy0HheUKc4M"
      },
      "outputs": [],
      "source": [
        "import os\n",
        "import torch\n",
        "from torch.optim import lr_scheduler\n",
        "from sklearn.metrics import precision_score, recall_score, f1_score\n",
        "from tqdm import tqdm\n",
        "\n",
        "def train_model(model, train_loader, val_loader, criterion, optimizer, dataset, num_epochs=50, patience=18, log_interval=10, checkpoint_path=None, unfreeze_epoch=5, num_layers_unfreeze=3):\n",
        "    device = torch.device(\"cuda\" if torch.cuda.is_available() else \"cpu\")\n",
        "    model = model.to(device)\n",
        "    print(\"Using device:\", device)\n",
        "\n",
        "    # Initialize scheduler\n",
        "    scheduler = lr_scheduler.ReduceLROnPlateau(optimizer, mode='min', factor=0.1, patience=4)\n",
        "\n",
        "    # Initialize early stopping\n",
        "    early_stopping = EarlyStopping(patience=patience, min_delta=1e-4)\n",
        "\n",
        "    start_epoch = 0\n",
        "    best_val_loss = float('inf')\n",
        "\n",
        "    # Initialize history for loss, accuracy, precision, recall, and F1\n",
        "    history = {\n",
        "        'train_loss': [], 'val_loss': [],\n",
        "        'train_acc': [], 'val_acc': [],\n",
        "        'train_precision': [], 'train_recall': [], 'train_f1': [],\n",
        "        'val_precision': [], 'val_recall': [], 'val_f1': [],\n",
        "        'learning_rates': []\n",
        "    }\n",
        "\n",
        "    # Check for checkpoint and load if available\n",
        "    if checkpoint_path and os.path.exists(checkpoint_path):\n",
        "        model, optimizer, start_epoch, history = load_checkpoint(model, optimizer, checkpoint_path)\n",
        "        print(f\"Resuming training from epoch {start_epoch}\")\n",
        "        torch.cuda.empty_cache()\n",
        "\n",
        "    for epoch in range(start_epoch, num_epochs):\n",
        "        if epoch == unfreeze_epoch:\n",
        "            print(f\"Unfreezing last {num_layers_unfreeze} layers of CNN\")\n",
        "            model.unfreeze_features_gradually(num_layers=num_layers_unfreeze)\n",
        "        print(f'\\nEpoch {epoch + 1}/{num_epochs}')\n",
        "        # print(\"Augmeneted Use:\", dataset.use_augmented)\n",
        "        dataset.use_augmented = True\n",
        "\n",
        "        current_lr = optimizer.param_groups[0]['lr']\n",
        "        history['learning_rates'].append(current_lr)\n",
        "        print(f\"Current Learning Rate: {current_lr}\")\n",
        "\n",
        "        # Training phase\n",
        "        model.train()\n",
        "        train_loss, train_correct, train_total = 0.0, 0, 0\n",
        "        train_true, train_pred = [], []\n",
        "\n",
        "        train_loader_tqdm = tqdm(enumerate(train_loader), total=len(train_loader), desc=\"Training\")\n",
        "        for batch_idx, (inputs, labels, lengths) in train_loader_tqdm:\n",
        "            inputs, labels, lengths = inputs.to(device), labels.to(device), lengths.to(device)\n",
        "            optimizer.zero_grad()\n",
        "            outputs = model(inputs, lengths)  # Pass sequence lengths to model forward function\n",
        "            loss = criterion(outputs, labels)\n",
        "            loss.backward()\n",
        "            torch.nn.utils.clip_grad_norm_(model.parameters(), max_norm=1.0)\n",
        "            optimizer.step()\n",
        "\n",
        "            train_loss += loss.item() * inputs.size(0)\n",
        "            _, predicted = torch.max(outputs, 1)\n",
        "            train_correct += (predicted == labels).sum().item()\n",
        "            train_total += labels.size(0)\n",
        "\n",
        "            # Collect true and predicted labels for precision/recall\n",
        "            train_true.extend(labels.cpu().numpy())\n",
        "            train_pred.extend(predicted.cpu().numpy())\n",
        "\n",
        "            # Log batch-level updates\n",
        "            if batch_idx % log_interval == 0:\n",
        "                train_loader_tqdm.set_postfix({\n",
        "                    'loss': train_loss / (batch_idx + 1),\n",
        "                    'accuracy': 100.0 * train_correct / train_total\n",
        "                })\n",
        "\n",
        "        # Calculate training metrics\n",
        "        train_loss /= len(train_loader.dataset)\n",
        "        train_acc = 100.0 * train_correct / train_total\n",
        "        train_precision = precision_score(train_true, train_pred, average='weighted')\n",
        "        train_recall = recall_score(train_true, train_pred, average='weighted')\n",
        "        train_f1 = f1_score(train_true, train_pred, average='weighted')\n",
        "\n",
        "        dataset.use_augmented = False\n",
        "        # Validation phase\n",
        "        model.eval()\n",
        "        val_loss, val_correct, val_total = 0.0, 0, 0\n",
        "        val_true, val_pred = [], []\n",
        "\n",
        "        val_loader_tqdm = tqdm(enumerate(val_loader), total=len(val_loader), desc=\"Validation\")\n",
        "        with torch.no_grad():\n",
        "            for batch_idx, (inputs, labels, lengths) in val_loader_tqdm:\n",
        "                inputs, labels, lengths = inputs.to(device), labels.to(device), lengths.to(device)\n",
        "                outputs = model(inputs, lengths)  # Pass sequence lengths to model forward function\n",
        "                loss = criterion(outputs, labels)\n",
        "\n",
        "                val_loss += loss.item() * inputs.size(0)\n",
        "                _, predicted = torch.max(outputs, 1)\n",
        "                val_correct += (predicted == labels).sum().item()\n",
        "                val_total += labels.size(0)\n",
        "\n",
        "                # Collect true and predicted labels for precision/recall\n",
        "                val_true.extend(labels.cpu().numpy())\n",
        "                val_pred.extend(predicted.cpu().numpy())\n",
        "\n",
        "                # Log batch-level updates for validation\n",
        "                if batch_idx % log_interval == 0:\n",
        "                    val_loader_tqdm.set_postfix({\n",
        "                        'loss': val_loss / (batch_idx + 1),\n",
        "                        'accuracy': 100.0 * val_correct / val_total\n",
        "                    })\n",
        "\n",
        "        # Calculate validation metrics\n",
        "        val_loss /= len(val_loader.dataset)\n",
        "        val_acc = 100.0 * val_correct / val_total\n",
        "        val_precision = precision_score(val_true, val_pred, average='weighted')\n",
        "        val_recall = recall_score(val_true, val_pred, average='weighted')\n",
        "        val_f1 = f1_score(val_true, val_pred, average='weighted')\n",
        "\n",
        "        # Update history\n",
        "        history['train_loss'].append(train_loss)\n",
        "        history['val_loss'].append(val_loss)\n",
        "        history['train_acc'].append(train_acc)\n",
        "        history['val_acc'].append(val_acc)\n",
        "        history['train_precision'].append(train_precision)\n",
        "        history['train_recall'].append(train_recall)\n",
        "        history['train_f1'].append(train_f1)\n",
        "        history['val_precision'].append(val_precision)\n",
        "        history['val_recall'].append(val_recall)\n",
        "        history['val_f1'].append(val_f1)\n",
        "\n",
        "        # Print metrics at the end of the epoch\n",
        "        print(f'\\nEpoch {epoch + 1}/{num_epochs} Summary:')\n",
        "        print(f'Train Loss: {train_loss:.4f} | Train Acc: {train_acc:.2f}% | Train Precision: {train_precision:.2f} | Train Recall: {train_recall:.2f} | Train F1: {train_f1:.2f}')\n",
        "        print(f'Val Loss: {val_loss:.4f} | Val Acc: {val_acc:.2f}% | Val Precision: {val_precision:.2f} | Val Recall: {val_recall:.2f} | Val F1: {val_f1:.2f}')\n",
        "\n",
        "        # Save the best model checkpoint\n",
        "        if val_loss < best_val_loss:\n",
        "            best_val_loss = val_loss\n",
        "            best_model_path = os.path.join(save_path, 'best_model.pth')\n",
        "            save_checkpoint(model, optimizer, epoch, history, best_model_path)\n",
        "            print(f\"New best model saved! Validation Loss: {best_val_loss:.4f}\")\n",
        "\n",
        "        # Adjust learning rate based on validation loss\n",
        "        scheduler.step(val_loss)\n",
        "\n",
        "        # Check for early stopping\n",
        "        early_stopping(val_loss)\n",
        "        if early_stopping.early_stop:\n",
        "            print(\"Early stopping triggered\")\n",
        "            break\n",
        "\n",
        "    return model, history\n",
        "\n"
      ]
    },
    {
      "cell_type": "code",
      "execution_count": 14,
      "metadata": {
        "id": "0Qt54or3XzJE"
      },
      "outputs": [],
      "source": [
        "import matplotlib.pyplot as plt\n",
        "from sklearn.metrics import confusion_matrix\n",
        "import seaborn as sns\n",
        "import torch\n",
        "import numpy as np\n",
        "import os\n",
        "from tqdm import tqdm\n",
        "\n",
        "def evaluate_model(model, test_loader, criterion, class_names,spath=save_path, fsave='confusion_matrix.png'):\n",
        "    \"\"\"\n",
        "    Evaluate model on test set\n",
        "\n",
        "    Args:\n",
        "        model: PyTorch model\n",
        "        test_loader: DataLoader for test data\n",
        "        criterion: Loss function\n",
        "        class_names: List of class names\n",
        "        save_path: Directory to save the plot\n",
        "        fsave: Filename for confusion matrix plot\n",
        "    \"\"\"\n",
        "    csave = os.path.join(spath, fsave)\n",
        "    device = torch.device(\"cuda\" if torch.cuda.is_available() else \"cpu\")\n",
        "    model = model.to(device)\n",
        "    model.eval()\n",
        "\n",
        "    test_loss = 0.0\n",
        "    test_correct = 0\n",
        "    test_total = 0\n",
        "    all_predictions = []\n",
        "    all_labels = []\n",
        "\n",
        "    # Create progress bar\n",
        "    test_loader_tqdm = tqdm(test_loader, desc=\"Testing\")\n",
        "\n",
        "    with torch.no_grad():\n",
        "        for inputs, labels, length in test_loader_tqdm:\n",
        "            inputs = inputs.to(device)\n",
        "            labels = labels.to(device)\n",
        "            length = length.to(device)\n",
        "\n",
        "            # Forward pass\n",
        "            outputs = model(inputs, length)\n",
        "            loss = criterion(outputs, labels)\n",
        "            test_loss += loss.item() * inputs.size(0)\n",
        "\n",
        "            # Get predictions\n",
        "            _, predicted = torch.max(outputs, 1)\n",
        "            # Calculate accuracy\n",
        "            test_correct += (predicted == labels).sum().item()\n",
        "            test_total += labels.size(0)\n",
        "\n",
        "            # Store predictions and labels for confusion matrix\n",
        "            all_predictions.extend(predicted.cpu().numpy())\n",
        "            all_labels.extend(labels.cpu().numpy())\n",
        "\n",
        "    # Calculate metrics\n",
        "    test_loss = test_loss / len(test_loader.dataset)\n",
        "    accuracy = 100 * test_correct / test_total\n",
        "\n",
        "    # Create confusion matrix\n",
        "    cm = confusion_matrix(all_labels, all_predictions)\n",
        "\n",
        "    # Plot confusion matrix\n",
        "    plt.figure(figsize=(10, 8))\n",
        "    sns.heatmap(cm, annot=True, fmt='d', cmap='Blues',\n",
        "                xticklabels=class_names, yticklabels=class_names)\n",
        "    plt.title('Confusion Matrix')\n",
        "    plt.xlabel('Predicted')\n",
        "    plt.ylabel('True')\n",
        "\n",
        "    # Save the plot\n",
        "    plt.savefig(csave)\n",
        "    plt.show()\n",
        "    plt.close()\n",
        "\n",
        "    print(f'Test Loss: {test_loss:.4f}')\n",
        "    print(f'Test Accuracy: {accuracy:.2f}%')\n",
        "\n",
        "    return test_loss, accuracy"
      ]
    },
    {
      "cell_type": "code",
      "execution_count": 15,
      "metadata": {
        "collapsed": true,
        "id": "t2DtznLJKc4N"
      },
      "outputs": [],
      "source": [
        "def main():\n",
        "    dataset = YogaVideoDataset(csv_path, sequence_path, pose_list, video_dir, preprocessed_dir)\n",
        "    train_dataset, val_dataset, test_dataset = train_val_test_split(dataset)\n",
        "    train_loader, val_loader, test_loader = create_data_loaders(train_dataset, val_dataset, test_dataset)\n",
        "\n",
        "    model = CNNLSTM(num_classes=NUM_CLASSES)\n",
        "    criterion = nn.CrossEntropyLoss()\n",
        "    optimizer = torch.optim.Adam(model.parameters(), lr=LEARNING_RATE)\n",
        "\n",
        "    print(\"Training the model\")\n",
        "    checkpoint_path = os.path.join(save_path, 'best_model.pth')\n",
        "    model, history = train_model(\n",
        "        model,\n",
        "        train_loader,\n",
        "        val_loader,\n",
        "        criterion,\n",
        "        optimizer,\n",
        "        dataset,\n",
        "        NUM_EPOCHS,\n",
        "        patience=18,\n",
        "        log_interval=10,\n",
        "        checkpoint_path=checkpoint_path\n",
        "    )\n",
        "    # Plot the training curves\n",
        "    plot_training_curves(history)\n",
        "    if checkpoint_path and os.path.exists(checkpoint_path):\n",
        "            model, optimizer, start_epoch, history = load_checkpoint(\n",
        "                model, optimizer, checkpoint_path\n",
        "            )\n",
        "            print(f\"Resuming training from epoch {start_epoch}\")\n",
        "    evaluate_model(model, test_loader, criterion, pose_list)\n",
        "\n",
        "    model_save_path = os.path.join(save_path, 'my_model.pth')\n",
        "    torch.save(model.state_dict(), model_save_path)"
      ]
    },
    {
      "cell_type": "code",
      "execution_count": 16,
      "metadata": {
        "collapsed": true,
        "id": "i2SzQwOvollu"
      },
      "outputs": [],
      "source": [
        "def eval_best_model():\n",
        "    print(\"Loading Data\")\n",
        "\n",
        "    dataset = YogaVideoDataset(csv_path, sequence_path, pose_list, video_dir, preprocessed_dir)\n",
        "    train_dataset, val_dataset, test_dataset = train_val_test_split(dataset)\n",
        "    train_loader, val_loader, test_loader = create_data_loaders(train_dataset, val_dataset, test_dataset)\n",
        "    model = CNNLSTM(num_classes=NUM_CLASSES)\n",
        "    criterion = nn.CrossEntropyLoss()\n",
        "    optimizer = torch.optim.Adam(model.parameters(), lr=LEARNING_RATE)\n",
        "    checkpoint_path = os.path.join(save_path, 'best_model.pth')\n",
        "    if checkpoint_path and os.path.exists(checkpoint_path):\n",
        "            model, optimizer, start_epoch, history = load_checkpoint(\n",
        "                model, optimizer, checkpoint_path\n",
        "            )\n",
        "            print(f\"Resuming training from epoch {start_epoch}\")\n",
        "    evaluate_model(model, test_loader, criterion, pose_list)"
      ]
    },
    {
      "cell_type": "code",
      "execution_count": 17,
      "metadata": {
        "id": "T9IqJISBeJbG"
      },
      "outputs": [],
      "source": [
        "# %pip install opencv-python\n",
        "# %pip install imageio[ffmpeg]\n",
        "# %pip install tqdm"
      ]
    },
    {
      "cell_type": "code",
      "execution_count": 18,
      "metadata": {
        "colab": {
          "base_uri": "https://localhost:8080/",
          "height": 1000
        },
        "id": "tJoK4yzae_8C",
        "outputId": "cc30681e-3fd2-47b3-9dee-93f73fed13a3"
      },
      "outputs": [
        {
          "name": "stdout",
          "output_type": "stream",
          "text": [
            "Loading Data\n",
            "Finished Loading Data\n",
            "Training the model\n",
            "Using device: cuda\n",
            "\n",
            "Epoch 1/50\n",
            "Current Learning Rate: 0.0001\n"
          ]
        },
        {
          "name": "stderr",
          "output_type": "stream",
          "text": [
            "Training: 100%|██████████| 31/31 [03:06<00:00,  6.01s/it, loss=92, accuracy=27.8]\n",
            "Validation: 100%|██████████| 9/9 [01:03<00:00,  7.05s/it, loss=33.2, accuracy=25]\n",
            "/usr/local/lib/python3.10/dist-packages/sklearn/metrics/_classification.py:1531: UndefinedMetricWarning: Precision is ill-defined and being set to 0.0 in labels with no predicted samples. Use `zero_division` parameter to control this behavior.\n",
            "  _warn_prf(average, modifier, f\"{metric.capitalize()} is\", len(result))\n"
          ]
        },
        {
          "name": "stdout",
          "output_type": "stream",
          "text": [
            "\n",
            "Epoch 1/50 Summary:\n",
            "Train Loss: 5.8783 | Train Acc: 27.84% | Train Precision: 0.28 | Train Recall: 0.28 | Train F1: 0.26\n",
            "Val Loss: 2.0360 | Val Acc: 22.46% | Val Precision: 0.25 | Val Recall: 0.22 | Val F1: 0.19\n",
            "Saving checkpoint to /content/gdrive/MyDrive/RGB_data_stream/nov11_bi_lstm/best_model.pth\n",
            "Checkpoint saved at epoch 1\n",
            "New best model saved! Validation Loss: 2.0360\n",
            "\n",
            "Epoch 2/50\n",
            "Current Learning Rate: 0.0001\n"
          ]
        },
        {
          "name": "stderr",
          "output_type": "stream",
          "text": [
            "Training: 100%|██████████| 31/31 [02:42<00:00,  5.25s/it, loss=90.6, accuracy=28]\n",
            "Validation: 100%|██████████| 9/9 [00:17<00:00,  1.93s/it, loss=30.4, accuracy=43.8]"
          ]
        },
        {
          "name": "stdout",
          "output_type": "stream",
          "text": [
            "\n",
            "Epoch 2/50 Summary:\n",
            "Train Loss: 5.7886 | Train Acc: 28.04% | Train Precision: 0.30 | Train Recall: 0.28 | Train F1: 0.27\n",
            "Val Loss: 2.1069 | Val Acc: 24.64% | Val Precision: 0.35 | Val Recall: 0.25 | Val F1: 0.22\n",
            "\n",
            "Epoch 3/50\n",
            "Current Learning Rate: 0.0001\n"
          ]
        },
        {
          "name": "stderr",
          "output_type": "stream",
          "text": [
            "\n",
            "Training: 100%|██████████| 31/31 [03:02<00:00,  5.88s/it, loss=88.5, accuracy=28.2]\n",
            "Validation: 100%|██████████| 9/9 [00:16<00:00,  1.88s/it, loss=33, accuracy=37.5]"
          ]
        },
        {
          "name": "stdout",
          "output_type": "stream",
          "text": [
            "\n",
            "Epoch 3/50 Summary:\n",
            "Train Loss: 5.6560 | Train Acc: 28.25% | Train Precision: 0.29 | Train Recall: 0.28 | Train F1: 0.27\n",
            "Val Loss: 2.0630 | Val Acc: 28.99% | Val Precision: 0.23 | Val Recall: 0.29 | Val F1: 0.24\n",
            "\n",
            "Epoch 4/50\n",
            "Current Learning Rate: 0.0001\n"
          ]
        },
        {
          "name": "stderr",
          "output_type": "stream",
          "text": [
            "\n",
            "Training: 100%|██████████| 31/31 [02:33<00:00,  4.96s/it, loss=78, accuracy=28.7]\n",
            "Validation: 100%|██████████| 9/9 [00:17<00:00,  1.93s/it, loss=38.1, accuracy=12.5]"
          ]
        },
        {
          "name": "stdout",
          "output_type": "stream",
          "text": [
            "\n",
            "Epoch 4/50 Summary:\n",
            "Train Loss: 4.9856 | Train Acc: 28.66% | Train Precision: 0.27 | Train Recall: 0.29 | Train F1: 0.27\n",
            "Val Loss: 2.4317 | Val Acc: 29.71% | Val Precision: 0.52 | Val Recall: 0.30 | Val F1: 0.26\n",
            "\n",
            "Epoch 5/50\n",
            "Current Learning Rate: 0.0001\n"
          ]
        },
        {
          "name": "stderr",
          "output_type": "stream",
          "text": [
            "\n",
            "Training: 100%|██████████| 31/31 [02:53<00:00,  5.60s/it, loss=76.9, accuracy=33.2]\n",
            "Validation: 100%|██████████| 9/9 [00:16<00:00,  1.80s/it, loss=32.6, accuracy=31.2]"
          ]
        },
        {
          "name": "stdout",
          "output_type": "stream",
          "text": [
            "\n",
            "Epoch 5/50 Summary:\n",
            "Train Loss: 4.9141 | Train Acc: 33.20% | Train Precision: 0.33 | Train Recall: 0.33 | Train F1: 0.33\n",
            "Val Loss: 2.2605 | Val Acc: 36.96% | Val Precision: 0.41 | Val Recall: 0.37 | Val F1: 0.32\n",
            "Unfreezing last 3 layers of CNN\n",
            "\n",
            "Epoch 6/50\n",
            "Current Learning Rate: 0.0001\n"
          ]
        },
        {
          "name": "stderr",
          "output_type": "stream",
          "text": [
            "\n",
            "Training: 100%|██████████| 31/31 [02:56<00:00,  5.68s/it, loss=72.1, accuracy=33.8]\n",
            "Validation: 100%|██████████| 9/9 [00:18<00:00,  2.00s/it, loss=29.4, accuracy=31.2]\n"
          ]
        },
        {
          "name": "stdout",
          "output_type": "stream",
          "text": [
            "\n",
            "Epoch 6/50 Summary:\n",
            "Train Loss: 4.6061 | Train Acc: 33.81% | Train Precision: 0.34 | Train Recall: 0.34 | Train F1: 0.33\n",
            "Val Loss: 1.8772 | Val Acc: 39.13% | Val Precision: 0.37 | Val Recall: 0.39 | Val F1: 0.32\n",
            "Saving checkpoint to /content/gdrive/MyDrive/RGB_data_stream/nov11_bi_lstm/best_model.pth\n",
            "Checkpoint saved at epoch 6\n",
            "New best model saved! Validation Loss: 1.8772\n",
            "\n",
            "Epoch 7/50\n",
            "Current Learning Rate: 0.0001\n"
          ]
        },
        {
          "name": "stderr",
          "output_type": "stream",
          "text": [
            "Training: 100%|██████████| 31/31 [03:07<00:00,  6.05s/it, loss=70.4, accuracy=30.9]\n",
            "Validation: 100%|██████████| 9/9 [00:15<00:00,  1.77s/it, loss=27.8, accuracy=37.5]\n"
          ]
        },
        {
          "name": "stdout",
          "output_type": "stream",
          "text": [
            "\n",
            "Epoch 7/50 Summary:\n",
            "Train Loss: 4.5000 | Train Acc: 30.93% | Train Precision: 0.30 | Train Recall: 0.31 | Train F1: 0.30\n",
            "Val Loss: 1.7228 | Val Acc: 45.65% | Val Precision: 0.49 | Val Recall: 0.46 | Val F1: 0.42\n",
            "Saving checkpoint to /content/gdrive/MyDrive/RGB_data_stream/nov11_bi_lstm/best_model.pth\n",
            "Checkpoint saved at epoch 7\n",
            "New best model saved! Validation Loss: 1.7228\n",
            "\n",
            "Epoch 8/50\n",
            "Current Learning Rate: 0.0001\n"
          ]
        },
        {
          "name": "stderr",
          "output_type": "stream",
          "text": [
            "Training: 100%|██████████| 31/31 [03:03<00:00,  5.91s/it, loss=65.9, accuracy=37.7]\n",
            "Validation: 100%|██████████| 9/9 [00:18<00:00,  2.02s/it, loss=26, accuracy=37.5]\n"
          ]
        },
        {
          "name": "stdout",
          "output_type": "stream",
          "text": [
            "\n",
            "Epoch 8/50 Summary:\n",
            "Train Loss: 4.2149 | Train Acc: 37.73% | Train Precision: 0.38 | Train Recall: 0.38 | Train F1: 0.37\n",
            "Val Loss: 1.5668 | Val Acc: 44.93% | Val Precision: 0.47 | Val Recall: 0.45 | Val F1: 0.41\n",
            "Saving checkpoint to /content/gdrive/MyDrive/RGB_data_stream/nov11_bi_lstm/best_model.pth\n",
            "Checkpoint saved at epoch 8\n",
            "New best model saved! Validation Loss: 1.5668\n",
            "\n",
            "Epoch 9/50\n",
            "Current Learning Rate: 0.0001\n"
          ]
        },
        {
          "name": "stderr",
          "output_type": "stream",
          "text": [
            "Training: 100%|██████████| 31/31 [02:57<00:00,  5.73s/it, loss=60, accuracy=38.6]\n",
            "Validation: 100%|██████████| 9/9 [00:17<00:00,  1.99s/it, loss=34.9, accuracy=25]\n"
          ]
        },
        {
          "name": "stdout",
          "output_type": "stream",
          "text": [
            "\n",
            "Epoch 9/50 Summary:\n",
            "Train Loss: 3.8319 | Train Acc: 38.56% | Train Precision: 0.39 | Train Recall: 0.39 | Train F1: 0.38\n",
            "Val Loss: 1.8630 | Val Acc: 44.93% | Val Precision: 0.53 | Val Recall: 0.45 | Val F1: 0.41\n",
            "\n",
            "Epoch 10/50\n",
            "Current Learning Rate: 0.0001\n"
          ]
        },
        {
          "name": "stderr",
          "output_type": "stream",
          "text": [
            "Training: 100%|██████████| 31/31 [02:54<00:00,  5.64s/it, loss=54.3, accuracy=45.8]\n",
            "Validation: 100%|██████████| 9/9 [00:17<00:00,  1.92s/it, loss=33.8, accuracy=43.8]"
          ]
        },
        {
          "name": "stdout",
          "output_type": "stream",
          "text": [
            "\n",
            "Epoch 10/50 Summary:\n",
            "Train Loss: 3.4695 | Train Acc: 45.77% | Train Precision: 0.46 | Train Recall: 0.46 | Train F1: 0.45\n",
            "Val Loss: 1.6861 | Val Acc: 50.72% | Val Precision: 0.56 | Val Recall: 0.51 | Val F1: 0.48\n",
            "\n",
            "Epoch 11/50\n",
            "Current Learning Rate: 0.0001\n"
          ]
        },
        {
          "name": "stderr",
          "output_type": "stream",
          "text": [
            "\n",
            "Training: 100%|██████████| 31/31 [02:57<00:00,  5.71s/it, loss=49.9, accuracy=45.4]\n",
            "Validation: 100%|██████████| 9/9 [00:17<00:00,  1.90s/it, loss=39.7, accuracy=25]"
          ]
        },
        {
          "name": "stdout",
          "output_type": "stream",
          "text": [
            "\n",
            "Epoch 11/50 Summary:\n",
            "Train Loss: 3.1897 | Train Acc: 45.36% | Train Precision: 0.46 | Train Recall: 0.45 | Train F1: 0.45\n",
            "Val Loss: 1.7378 | Val Acc: 47.83% | Val Precision: 0.58 | Val Recall: 0.48 | Val F1: 0.48\n",
            "\n",
            "Epoch 12/50\n",
            "Current Learning Rate: 0.0001\n"
          ]
        },
        {
          "name": "stderr",
          "output_type": "stream",
          "text": [
            "\n",
            "Training: 100%|██████████| 31/31 [02:35<00:00,  5.01s/it, loss=45.8, accuracy=47.2]\n",
            "Validation: 100%|██████████| 9/9 [00:17<00:00,  1.94s/it, loss=26.9, accuracy=56.2]\n"
          ]
        },
        {
          "name": "stdout",
          "output_type": "stream",
          "text": [
            "\n",
            "Epoch 12/50 Summary:\n",
            "Train Loss: 2.9288 | Train Acc: 47.22% | Train Precision: 0.47 | Train Recall: 0.47 | Train F1: 0.46\n",
            "Val Loss: 1.2082 | Val Acc: 63.77% | Val Precision: 0.67 | Val Recall: 0.64 | Val F1: 0.63\n",
            "Saving checkpoint to /content/gdrive/MyDrive/RGB_data_stream/nov11_bi_lstm/best_model.pth\n",
            "Checkpoint saved at epoch 12\n",
            "New best model saved! Validation Loss: 1.2082\n",
            "\n",
            "Epoch 13/50\n",
            "Current Learning Rate: 0.0001\n"
          ]
        },
        {
          "name": "stderr",
          "output_type": "stream",
          "text": [
            "Training: 100%|██████████| 31/31 [02:47<00:00,  5.39s/it, loss=45.3, accuracy=50.3]\n",
            "Validation: 100%|██████████| 9/9 [00:17<00:00,  1.98s/it, loss=27.9, accuracy=56.2]"
          ]
        },
        {
          "name": "stdout",
          "output_type": "stream",
          "text": [
            "\n",
            "Epoch 13/50 Summary:\n",
            "Train Loss: 2.8979 | Train Acc: 50.31% | Train Precision: 0.51 | Train Recall: 0.50 | Train F1: 0.51\n",
            "Val Loss: 1.4651 | Val Acc: 59.42% | Val Precision: 0.82 | Val Recall: 0.59 | Val F1: 0.57\n",
            "\n",
            "Epoch 14/50\n",
            "Current Learning Rate: 0.0001\n"
          ]
        },
        {
          "name": "stderr",
          "output_type": "stream",
          "text": [
            "\n",
            "Training: 100%|██████████| 31/31 [02:39<00:00,  5.15s/it, loss=41.6, accuracy=52.2]\n",
            "Validation: 100%|██████████| 9/9 [00:17<00:00,  1.93s/it, loss=15.8, accuracy=62.5]\n"
          ]
        },
        {
          "name": "stdout",
          "output_type": "stream",
          "text": [
            "\n",
            "Epoch 14/50 Summary:\n",
            "Train Loss: 2.6558 | Train Acc: 52.16% | Train Precision: 0.53 | Train Recall: 0.52 | Train F1: 0.52\n",
            "Val Loss: 1.1818 | Val Acc: 60.14% | Val Precision: 0.66 | Val Recall: 0.60 | Val F1: 0.62\n",
            "Saving checkpoint to /content/gdrive/MyDrive/RGB_data_stream/nov11_bi_lstm/best_model.pth\n",
            "Checkpoint saved at epoch 14\n",
            "New best model saved! Validation Loss: 1.1818\n",
            "\n",
            "Epoch 15/50\n",
            "Current Learning Rate: 0.0001\n"
          ]
        },
        {
          "name": "stderr",
          "output_type": "stream",
          "text": [
            "Training: 100%|██████████| 31/31 [02:49<00:00,  5.48s/it, loss=34.6, accuracy=54.8]\n",
            "Validation: 100%|██████████| 9/9 [00:17<00:00,  1.90s/it, loss=13, accuracy=56.2]\n"
          ]
        },
        {
          "name": "stdout",
          "output_type": "stream",
          "text": [
            "\n",
            "Epoch 15/50 Summary:\n",
            "Train Loss: 2.2110 | Train Acc: 54.85% | Train Precision: 0.56 | Train Recall: 0.55 | Train F1: 0.55\n",
            "Val Loss: 1.2524 | Val Acc: 66.67% | Val Precision: 0.69 | Val Recall: 0.67 | Val F1: 0.65\n",
            "\n",
            "Epoch 16/50\n",
            "Current Learning Rate: 0.0001\n"
          ]
        },
        {
          "name": "stderr",
          "output_type": "stream",
          "text": [
            "Training: 100%|██████████| 31/31 [03:13<00:00,  6.23s/it, loss=37, accuracy=56.3]\n",
            "Validation: 100%|██████████| 9/9 [00:18<00:00,  2.02s/it, loss=14.9, accuracy=62.5]\n"
          ]
        },
        {
          "name": "stdout",
          "output_type": "stream",
          "text": [
            "\n",
            "Epoch 16/50 Summary:\n",
            "Train Loss: 2.3637 | Train Acc: 56.29% | Train Precision: 0.56 | Train Recall: 0.56 | Train F1: 0.56\n",
            "Val Loss: 1.1205 | Val Acc: 64.49% | Val Precision: 0.66 | Val Recall: 0.64 | Val F1: 0.65\n",
            "Saving checkpoint to /content/gdrive/MyDrive/RGB_data_stream/nov11_bi_lstm/best_model.pth\n",
            "Checkpoint saved at epoch 16\n",
            "New best model saved! Validation Loss: 1.1205\n",
            "\n",
            "Epoch 17/50\n",
            "Current Learning Rate: 0.0001\n"
          ]
        },
        {
          "name": "stderr",
          "output_type": "stream",
          "text": [
            "Training: 100%|██████████| 31/31 [03:02<00:00,  5.89s/it, loss=37, accuracy=56.5]\n",
            "Validation: 100%|██████████| 9/9 [00:17<00:00,  1.99s/it, loss=14.1, accuracy=68.8]\n"
          ]
        },
        {
          "name": "stdout",
          "output_type": "stream",
          "text": [
            "\n",
            "Epoch 17/50 Summary:\n",
            "Train Loss: 2.3636 | Train Acc: 56.49% | Train Precision: 0.57 | Train Recall: 0.56 | Train F1: 0.57\n",
            "Val Loss: 1.0581 | Val Acc: 70.29% | Val Precision: 0.72 | Val Recall: 0.70 | Val F1: 0.71\n",
            "Saving checkpoint to /content/gdrive/MyDrive/RGB_data_stream/nov11_bi_lstm/best_model.pth\n",
            "Checkpoint saved at epoch 17\n",
            "New best model saved! Validation Loss: 1.0581\n",
            "\n",
            "Epoch 18/50\n",
            "Current Learning Rate: 0.0001\n"
          ]
        },
        {
          "name": "stderr",
          "output_type": "stream",
          "text": [
            "Training: 100%|██████████| 31/31 [02:43<00:00,  5.28s/it, loss=29.9, accuracy=60.6]\n",
            "Validation: 100%|██████████| 9/9 [00:17<00:00,  1.94s/it, loss=18.5, accuracy=75]"
          ]
        },
        {
          "name": "stdout",
          "output_type": "stream",
          "text": [
            "\n",
            "Epoch 18/50 Summary:\n",
            "Train Loss: 1.9112 | Train Acc: 60.62% | Train Precision: 0.61 | Train Recall: 0.61 | Train F1: 0.61\n",
            "Val Loss: 1.0861 | Val Acc: 68.84% | Val Precision: 0.71 | Val Recall: 0.69 | Val F1: 0.70\n",
            "\n",
            "Epoch 19/50\n",
            "Current Learning Rate: 0.0001\n"
          ]
        },
        {
          "name": "stderr",
          "output_type": "stream",
          "text": [
            "\n",
            "Training: 100%|██████████| 31/31 [02:46<00:00,  5.36s/it, loss=35.7, accuracy=58.6]\n",
            "Validation: 100%|██████████| 9/9 [00:17<00:00,  1.93s/it, loss=15.2, accuracy=81.2]\n"
          ]
        },
        {
          "name": "stdout",
          "output_type": "stream",
          "text": [
            "\n",
            "Epoch 19/50 Summary:\n",
            "Train Loss: 2.2787 | Train Acc: 58.56% | Train Precision: 0.59 | Train Recall: 0.59 | Train F1: 0.59\n",
            "Val Loss: 0.8971 | Val Acc: 74.64% | Val Precision: 0.76 | Val Recall: 0.75 | Val F1: 0.75\n",
            "Saving checkpoint to /content/gdrive/MyDrive/RGB_data_stream/nov11_bi_lstm/best_model.pth\n",
            "Checkpoint saved at epoch 19\n",
            "New best model saved! Validation Loss: 0.8971\n",
            "\n",
            "Epoch 20/50\n",
            "Current Learning Rate: 0.0001\n"
          ]
        },
        {
          "name": "stderr",
          "output_type": "stream",
          "text": [
            "Training: 100%|██████████| 31/31 [02:42<00:00,  5.25s/it, loss=33.9, accuracy=59.6]\n",
            "Validation: 100%|██████████| 9/9 [00:17<00:00,  1.91s/it, loss=12.3, accuracy=68.8]"
          ]
        },
        {
          "name": "stdout",
          "output_type": "stream",
          "text": [
            "\n",
            "Epoch 20/50 Summary:\n",
            "Train Loss: 2.1699 | Train Acc: 59.59% | Train Precision: 0.60 | Train Recall: 0.60 | Train F1: 0.60\n",
            "Val Loss: 1.1889 | Val Acc: 70.29% | Val Precision: 0.72 | Val Recall: 0.70 | Val F1: 0.71\n",
            "\n",
            "Epoch 21/50\n",
            "Current Learning Rate: 0.0001\n"
          ]
        },
        {
          "name": "stderr",
          "output_type": "stream",
          "text": [
            "\n",
            "Training: 100%|██████████| 31/31 [02:37<00:00,  5.08s/it, loss=26.4, accuracy=64.5]\n",
            "Validation: 100%|██████████| 9/9 [00:17<00:00,  1.95s/it, loss=24.5, accuracy=87.5]"
          ]
        },
        {
          "name": "stdout",
          "output_type": "stream",
          "text": [
            "\n",
            "Epoch 21/50 Summary:\n",
            "Train Loss: 1.6872 | Train Acc: 64.54% | Train Precision: 0.64 | Train Recall: 0.65 | Train F1: 0.64\n",
            "Val Loss: 1.0458 | Val Acc: 76.09% | Val Precision: 0.77 | Val Recall: 0.76 | Val F1: 0.76\n",
            "\n",
            "Epoch 22/50\n",
            "Current Learning Rate: 0.0001\n"
          ]
        },
        {
          "name": "stderr",
          "output_type": "stream",
          "text": [
            "\n",
            "Training: 100%|██████████| 31/31 [02:35<00:00,  5.03s/it, loss=23.5, accuracy=67.8]\n",
            "Validation: 100%|██████████| 9/9 [00:17<00:00,  1.93s/it, loss=17.4, accuracy=75]\n"
          ]
        },
        {
          "name": "stdout",
          "output_type": "stream",
          "text": [
            "\n",
            "Epoch 22/50 Summary:\n",
            "Train Loss: 1.5010 | Train Acc: 67.84% | Train Precision: 0.68 | Train Recall: 0.68 | Train F1: 0.68\n",
            "Val Loss: 1.1606 | Val Acc: 71.01% | Val Precision: 0.75 | Val Recall: 0.71 | Val F1: 0.72\n",
            "\n",
            "Epoch 23/50\n",
            "Current Learning Rate: 0.0001\n"
          ]
        },
        {
          "name": "stderr",
          "output_type": "stream",
          "text": [
            "Training: 100%|██████████| 31/31 [03:01<00:00,  5.84s/it, loss=23.9, accuracy=70.3]\n",
            "Validation: 100%|██████████| 9/9 [00:18<00:00,  2.05s/it, loss=26.9, accuracy=75]"
          ]
        },
        {
          "name": "stdout",
          "output_type": "stream",
          "text": [
            "\n",
            "Epoch 23/50 Summary:\n",
            "Train Loss: 1.5257 | Train Acc: 70.31% | Train Precision: 0.70 | Train Recall: 0.70 | Train F1: 0.70\n",
            "Val Loss: 1.2753 | Val Acc: 69.57% | Val Precision: 0.75 | Val Recall: 0.70 | Val F1: 0.71\n",
            "\n",
            "Epoch 24/50\n",
            "Current Learning Rate: 0.0001\n"
          ]
        },
        {
          "name": "stderr",
          "output_type": "stream",
          "text": [
            "\n",
            "Training: 100%|██████████| 31/31 [03:04<00:00,  5.95s/it, loss=23.9, accuracy=68.7]\n",
            "Validation: 100%|██████████| 9/9 [00:18<00:00,  2.04s/it, loss=20, accuracy=87.5]\n"
          ]
        },
        {
          "name": "stdout",
          "output_type": "stream",
          "text": [
            "\n",
            "Epoch 24/50 Summary:\n",
            "Train Loss: 1.5260 | Train Acc: 68.66% | Train Precision: 0.70 | Train Recall: 0.69 | Train F1: 0.69\n",
            "Val Loss: 0.8617 | Val Acc: 81.16% | Val Precision: 0.82 | Val Recall: 0.81 | Val F1: 0.82\n",
            "Saving checkpoint to /content/gdrive/MyDrive/RGB_data_stream/nov11_bi_lstm/best_model.pth\n",
            "Checkpoint saved at epoch 24\n",
            "New best model saved! Validation Loss: 0.8617\n",
            "\n",
            "Epoch 25/50\n",
            "Current Learning Rate: 0.0001\n"
          ]
        },
        {
          "name": "stderr",
          "output_type": "stream",
          "text": [
            "Training: 100%|██████████| 31/31 [03:14<00:00,  6.27s/it, loss=20.3, accuracy=72.2]\n",
            "Validation: 100%|██████████| 9/9 [00:16<00:00,  1.85s/it, loss=18.2, accuracy=87.5]\n"
          ]
        },
        {
          "name": "stdout",
          "output_type": "stream",
          "text": [
            "\n",
            "Epoch 25/50 Summary:\n",
            "Train Loss: 1.2956 | Train Acc: 72.16% | Train Precision: 0.72 | Train Recall: 0.72 | Train F1: 0.72\n",
            "Val Loss: 0.8003 | Val Acc: 80.43% | Val Precision: 0.81 | Val Recall: 0.80 | Val F1: 0.81\n",
            "Saving checkpoint to /content/gdrive/MyDrive/RGB_data_stream/nov11_bi_lstm/best_model.pth\n",
            "Checkpoint saved at epoch 25\n",
            "New best model saved! Validation Loss: 0.8003\n",
            "\n",
            "Epoch 26/50\n",
            "Current Learning Rate: 0.0001\n"
          ]
        },
        {
          "name": "stderr",
          "output_type": "stream",
          "text": [
            "Training: 100%|██████████| 31/31 [02:58<00:00,  5.76s/it, loss=20.6, accuracy=73]\n",
            "Validation: 100%|██████████| 9/9 [00:18<00:00,  2.02s/it, loss=14.2, accuracy=87.5]\n"
          ]
        },
        {
          "name": "stdout",
          "output_type": "stream",
          "text": [
            "\n",
            "Epoch 26/50 Summary:\n",
            "Train Loss: 1.3194 | Train Acc: 72.99% | Train Precision: 0.74 | Train Recall: 0.73 | Train F1: 0.73\n",
            "Val Loss: 0.9695 | Val Acc: 81.16% | Val Precision: 0.82 | Val Recall: 0.81 | Val F1: 0.81\n",
            "\n",
            "Epoch 27/50\n",
            "Current Learning Rate: 0.0001\n"
          ]
        },
        {
          "name": "stderr",
          "output_type": "stream",
          "text": [
            "Training: 100%|██████████| 31/31 [02:39<00:00,  5.14s/it, loss=17.3, accuracy=78.1]\n",
            "Validation: 100%|██████████| 9/9 [00:16<00:00,  1.87s/it, loss=23.9, accuracy=87.5]\n"
          ]
        },
        {
          "name": "stdout",
          "output_type": "stream",
          "text": [
            "\n",
            "Epoch 27/50 Summary:\n",
            "Train Loss: 1.1059 | Train Acc: 78.14% | Train Precision: 0.78 | Train Recall: 0.78 | Train F1: 0.78\n",
            "Val Loss: 0.9986 | Val Acc: 81.88% | Val Precision: 0.83 | Val Recall: 0.82 | Val F1: 0.82\n",
            "\n",
            "Epoch 28/50\n",
            "Current Learning Rate: 0.0001\n"
          ]
        },
        {
          "name": "stderr",
          "output_type": "stream",
          "text": [
            "Training: 100%|██████████| 31/31 [02:45<00:00,  5.32s/it, loss=13.3, accuracy=82.3]\n",
            "Validation: 100%|██████████| 9/9 [00:17<00:00,  1.99s/it, loss=25.8, accuracy=81.2]\n"
          ]
        },
        {
          "name": "stdout",
          "output_type": "stream",
          "text": [
            "\n",
            "Epoch 28/50 Summary:\n",
            "Train Loss: 0.8475 | Train Acc: 82.27% | Train Precision: 0.82 | Train Recall: 0.82 | Train F1: 0.82\n",
            "Val Loss: 1.0859 | Val Acc: 84.06% | Val Precision: 0.85 | Val Recall: 0.84 | Val F1: 0.84\n",
            "\n",
            "Epoch 29/50\n",
            "Current Learning Rate: 0.0001\n"
          ]
        },
        {
          "name": "stderr",
          "output_type": "stream",
          "text": [
            "Training: 100%|██████████| 31/31 [02:49<00:00,  5.47s/it, loss=13.8, accuracy=79.2]\n",
            "Validation: 100%|██████████| 9/9 [00:18<00:00,  2.05s/it, loss=29.2, accuracy=81.2]\n"
          ]
        },
        {
          "name": "stdout",
          "output_type": "stream",
          "text": [
            "\n",
            "Epoch 29/50 Summary:\n",
            "Train Loss: 0.8842 | Train Acc: 79.18% | Train Precision: 0.80 | Train Recall: 0.79 | Train F1: 0.79\n",
            "Val Loss: 0.9753 | Val Acc: 84.06% | Val Precision: 0.85 | Val Recall: 0.84 | Val F1: 0.84\n",
            "\n",
            "Epoch 30/50\n",
            "Current Learning Rate: 0.0001\n"
          ]
        },
        {
          "name": "stderr",
          "output_type": "stream",
          "text": [
            "Training: 100%|██████████| 31/31 [02:36<00:00,  5.04s/it, loss=13.1, accuracy=82.3]\n",
            "Validation: 100%|██████████| 9/9 [00:16<00:00,  1.89s/it, loss=23, accuracy=75]"
          ]
        },
        {
          "name": "stdout",
          "output_type": "stream",
          "text": [
            "\n",
            "Epoch 30/50 Summary:\n",
            "Train Loss: 0.8387 | Train Acc: 82.27% | Train Precision: 0.82 | Train Recall: 0.82 | Train F1: 0.82\n",
            "Val Loss: 1.0563 | Val Acc: 78.26% | Val Precision: 0.81 | Val Recall: 0.78 | Val F1: 0.78\n",
            "\n",
            "Epoch 31/50\n",
            "Current Learning Rate: 1e-05\n"
          ]
        },
        {
          "name": "stderr",
          "output_type": "stream",
          "text": [
            "\n",
            "Training: 100%|██████████| 31/31 [02:45<00:00,  5.34s/it, loss=12.5, accuracy=82.5]\n",
            "Validation: 100%|██████████| 9/9 [00:17<00:00,  1.97s/it, loss=19.8, accuracy=87.5]\n"
          ]
        },
        {
          "name": "stdout",
          "output_type": "stream",
          "text": [
            "\n",
            "Epoch 31/50 Summary:\n",
            "Train Loss: 0.7992 | Train Acc: 82.47% | Train Precision: 0.83 | Train Recall: 0.82 | Train F1: 0.82\n",
            "Val Loss: 0.8872 | Val Acc: 86.96% | Val Precision: 0.88 | Val Recall: 0.87 | Val F1: 0.87\n",
            "\n",
            "Epoch 32/50\n",
            "Current Learning Rate: 1e-05\n"
          ]
        },
        {
          "name": "stderr",
          "output_type": "stream",
          "text": [
            "Training: 100%|██████████| 31/31 [02:52<00:00,  5.55s/it, loss=12.3, accuracy=82.7]\n",
            "Validation: 100%|██████████| 9/9 [00:18<00:00,  2.01s/it, loss=26.5, accuracy=87.5]"
          ]
        },
        {
          "name": "stdout",
          "output_type": "stream",
          "text": [
            "\n",
            "Epoch 32/50 Summary:\n",
            "Train Loss: 0.7841 | Train Acc: 82.68% | Train Precision: 0.83 | Train Recall: 0.83 | Train F1: 0.83\n",
            "Val Loss: 0.8549 | Val Acc: 86.96% | Val Precision: 0.88 | Val Recall: 0.87 | Val F1: 0.87\n",
            "\n",
            "Epoch 33/50\n",
            "Current Learning Rate: 1e-05\n"
          ]
        },
        {
          "name": "stderr",
          "output_type": "stream",
          "text": [
            "\n",
            "Training: 100%|██████████| 31/31 [02:47<00:00,  5.39s/it, loss=13.9, accuracy=80.8]\n",
            "Validation: 100%|██████████| 9/9 [00:17<00:00,  1.96s/it, loss=23.3, accuracy=87.5]"
          ]
        },
        {
          "name": "stdout",
          "output_type": "stream",
          "text": [
            "\n",
            "Epoch 33/50 Summary:\n",
            "Train Loss: 0.8895 | Train Acc: 80.82% | Train Precision: 0.81 | Train Recall: 0.81 | Train F1: 0.81\n",
            "Val Loss: 0.9152 | Val Acc: 86.96% | Val Precision: 0.88 | Val Recall: 0.87 | Val F1: 0.87\n",
            "\n",
            "Epoch 34/50\n",
            "Current Learning Rate: 1e-05\n"
          ]
        },
        {
          "name": "stderr",
          "output_type": "stream",
          "text": [
            "\n",
            "Training: 100%|██████████| 31/31 [02:39<00:00,  5.14s/it, loss=11.2, accuracy=84.9]\n",
            "Validation: 100%|██████████| 9/9 [00:18<00:00,  2.08s/it, loss=21.2, accuracy=87.5]"
          ]
        },
        {
          "name": "stdout",
          "output_type": "stream",
          "text": [
            "\n",
            "Epoch 34/50 Summary:\n",
            "Train Loss: 0.7171 | Train Acc: 84.95% | Train Precision: 0.85 | Train Recall: 0.85 | Train F1: 0.85\n",
            "Val Loss: 0.9403 | Val Acc: 86.96% | Val Precision: 0.88 | Val Recall: 0.87 | Val F1: 0.87\n",
            "\n",
            "Epoch 35/50\n",
            "Current Learning Rate: 1e-05\n"
          ]
        },
        {
          "name": "stderr",
          "output_type": "stream",
          "text": [
            "\n",
            "Training: 100%|██████████| 31/31 [02:45<00:00,  5.34s/it, loss=9.41, accuracy=87.2]\n",
            "Validation: 100%|██████████| 9/9 [00:17<00:00,  1.91s/it, loss=24.3, accuracy=87.5]"
          ]
        },
        {
          "name": "stdout",
          "output_type": "stream",
          "text": [
            "\n",
            "Epoch 35/50 Summary:\n",
            "Train Loss: 0.6016 | Train Acc: 87.22% | Train Precision: 0.87 | Train Recall: 0.87 | Train F1: 0.87\n",
            "Val Loss: 0.9524 | Val Acc: 86.96% | Val Precision: 0.88 | Val Recall: 0.87 | Val F1: 0.87\n",
            "\n",
            "Epoch 36/50\n",
            "Current Learning Rate: 1.0000000000000002e-06\n"
          ]
        },
        {
          "name": "stderr",
          "output_type": "stream",
          "text": [
            "\n",
            "Training: 100%|██████████| 31/31 [02:53<00:00,  5.59s/it, loss=12.8, accuracy=85.2]\n",
            "Validation: 100%|██████████| 9/9 [00:18<00:00,  2.05s/it, loss=24.3, accuracy=87.5]\n"
          ]
        },
        {
          "name": "stdout",
          "output_type": "stream",
          "text": [
            "\n",
            "Epoch 36/50 Summary:\n",
            "Train Loss: 0.8199 | Train Acc: 85.15% | Train Precision: 0.85 | Train Recall: 0.85 | Train F1: 0.85\n",
            "Val Loss: 0.8600 | Val Acc: 86.23% | Val Precision: 0.87 | Val Recall: 0.86 | Val F1: 0.86\n",
            "\n",
            "Epoch 37/50\n",
            "Current Learning Rate: 1.0000000000000002e-06\n"
          ]
        },
        {
          "name": "stderr",
          "output_type": "stream",
          "text": [
            "Training: 100%|██████████| 31/31 [02:59<00:00,  5.78s/it, loss=10.3, accuracy=83.7]\n",
            "Validation: 100%|██████████| 9/9 [00:17<00:00,  1.99s/it, loss=25.5, accuracy=87.5]\n"
          ]
        },
        {
          "name": "stdout",
          "output_type": "stream",
          "text": [
            "\n",
            "Epoch 37/50 Summary:\n",
            "Train Loss: 0.6577 | Train Acc: 83.71% | Train Precision: 0.84 | Train Recall: 0.84 | Train F1: 0.84\n",
            "Val Loss: 0.9042 | Val Acc: 86.96% | Val Precision: 0.88 | Val Recall: 0.87 | Val F1: 0.87\n",
            "\n",
            "Epoch 38/50\n",
            "Current Learning Rate: 1.0000000000000002e-06\n"
          ]
        },
        {
          "name": "stderr",
          "output_type": "stream",
          "text": [
            "Training: 100%|██████████| 31/31 [02:29<00:00,  4.81s/it, loss=11.6, accuracy=83.7]\n",
            "Validation: 100%|██████████| 9/9 [00:17<00:00,  1.94s/it, loss=25.6, accuracy=87.5]"
          ]
        },
        {
          "name": "stdout",
          "output_type": "stream",
          "text": [
            "\n",
            "Epoch 38/50 Summary:\n",
            "Train Loss: 0.7425 | Train Acc: 83.71% | Train Precision: 0.84 | Train Recall: 0.84 | Train F1: 0.84\n",
            "Val Loss: 0.9051 | Val Acc: 85.51% | Val Precision: 0.87 | Val Recall: 0.86 | Val F1: 0.86\n",
            "\n",
            "Epoch 39/50\n",
            "Current Learning Rate: 1.0000000000000002e-06\n"
          ]
        },
        {
          "name": "stderr",
          "output_type": "stream",
          "text": [
            "\n",
            "Training: 100%|██████████| 31/31 [02:39<00:00,  5.16s/it, loss=9.33, accuracy=86]\n",
            "Validation: 100%|██████████| 9/9 [00:18<00:00,  2.04s/it, loss=24, accuracy=87.5]"
          ]
        },
        {
          "name": "stdout",
          "output_type": "stream",
          "text": [
            "\n",
            "Epoch 39/50 Summary:\n",
            "Train Loss: 0.5966 | Train Acc: 85.98% | Train Precision: 0.86 | Train Recall: 0.86 | Train F1: 0.86\n",
            "Val Loss: 0.8747 | Val Acc: 85.51% | Val Precision: 0.87 | Val Recall: 0.86 | Val F1: 0.86\n",
            "\n",
            "Epoch 40/50\n",
            "Current Learning Rate: 1.0000000000000002e-06\n"
          ]
        },
        {
          "name": "stderr",
          "output_type": "stream",
          "text": [
            "\n",
            "Training: 100%|██████████| 31/31 [03:03<00:00,  5.93s/it, loss=10.2, accuracy=84.7]\n",
            "Validation: 100%|██████████| 9/9 [00:17<00:00,  1.95s/it, loss=22.3, accuracy=87.5]\n"
          ]
        },
        {
          "name": "stdout",
          "output_type": "stream",
          "text": [
            "\n",
            "Epoch 40/50 Summary:\n",
            "Train Loss: 0.6500 | Train Acc: 84.74% | Train Precision: 0.85 | Train Recall: 0.85 | Train F1: 0.85\n",
            "Val Loss: 0.9084 | Val Acc: 86.23% | Val Precision: 0.87 | Val Recall: 0.86 | Val F1: 0.86\n",
            "\n",
            "Epoch 41/50\n",
            "Current Learning Rate: 1.0000000000000002e-07\n"
          ]
        },
        {
          "name": "stderr",
          "output_type": "stream",
          "text": [
            "Training: 100%|██████████| 31/31 [02:45<00:00,  5.35s/it, loss=11.4, accuracy=84.1]\n",
            "Validation: 100%|██████████| 9/9 [00:18<00:00,  2.01s/it, loss=25.9, accuracy=87.5]\n"
          ]
        },
        {
          "name": "stdout",
          "output_type": "stream",
          "text": [
            "\n",
            "Epoch 41/50 Summary:\n",
            "Train Loss: 0.7294 | Train Acc: 84.12% | Train Precision: 0.84 | Train Recall: 0.84 | Train F1: 0.84\n",
            "Val Loss: 0.9729 | Val Acc: 84.78% | Val Precision: 0.86 | Val Recall: 0.85 | Val F1: 0.85\n",
            "\n",
            "Epoch 42/50\n",
            "Current Learning Rate: 1.0000000000000002e-07\n"
          ]
        },
        {
          "name": "stderr",
          "output_type": "stream",
          "text": [
            "Training: 100%|██████████| 31/31 [02:46<00:00,  5.38s/it, loss=9.09, accuracy=88]\n",
            "Validation: 100%|██████████| 9/9 [00:19<00:00,  2.15s/it, loss=23.1, accuracy=87.5]\n"
          ]
        },
        {
          "name": "stdout",
          "output_type": "stream",
          "text": [
            "\n",
            "Epoch 42/50 Summary:\n",
            "Train Loss: 0.5810 | Train Acc: 88.04% | Train Precision: 0.88 | Train Recall: 0.88 | Train F1: 0.88\n",
            "Val Loss: 0.8356 | Val Acc: 86.23% | Val Precision: 0.87 | Val Recall: 0.86 | Val F1: 0.86\n",
            "\n",
            "Epoch 43/50\n",
            "Current Learning Rate: 1.0000000000000002e-07\n"
          ]
        },
        {
          "name": "stderr",
          "output_type": "stream",
          "text": [
            "Training: 100%|██████████| 31/31 [02:51<00:00,  5.54s/it, loss=11.5, accuracy=86.6]\n",
            "Validation: 100%|██████████| 9/9 [00:19<00:00,  2.14s/it, loss=22.3, accuracy=87.5]\n"
          ]
        },
        {
          "name": "stdout",
          "output_type": "stream",
          "text": [
            "\n",
            "Epoch 43/50 Summary:\n",
            "Train Loss: 0.7320 | Train Acc: 86.60% | Train Precision: 0.87 | Train Recall: 0.87 | Train F1: 0.87\n",
            "Val Loss: 0.9187 | Val Acc: 86.96% | Val Precision: 0.88 | Val Recall: 0.87 | Val F1: 0.87\n",
            "Early stopping triggered\n"
          ]
        },
        {
          "data": {
            "image/png": "[encoded data removed]",
            "text/plain": [
              "<Figure size 1800x1000 with 6 Axes>"
            ]
          },
          "metadata": {},
          "output_type": "display_data"
        },
        {
          "name": "stdout",
          "output_type": "stream",
          "text": [
            "Loading checkpoint from /content/gdrive/MyDrive/RGB_data_stream/nov11_bi_lstm/best_model.pth\n"
          ]
        },
        {
          "name": "stderr",
          "output_type": "stream",
          "text": [
            "<ipython-input-12-04d0bcd412bb>:6: FutureWarning: You are using `torch.load` with `weights_only=False` (the current default value), which uses the default pickle module implicitly. It is possible to construct malicious pickle data which will execute arbitrary code during unpickling (See https://github.com/pytorch/pytorch/blob/main/SECURITY.md#untrusted-models for more details). In a future release, the default value for `weights_only` will be flipped to `True`. This limits the functions that could be executed during unpickling. Arbitrary objects will no longer be allowed to be loaded via this mode unless they are explicitly allowlisted by the user via `torch.serialization.add_safe_globals`. We recommend you start setting `weights_only=True` for any use case where you don't have full control of the loaded file. Please open an issue on GitHub for any issues related to this experimental feature.\n",
            "  checkpoint = torch.load(checkpoint_path)\n"
          ]
        },
        {
          "name": "stdout",
          "output_type": "stream",
          "text": [
            "Resuming training from epoch 25\n"
          ]
        },
        {
          "name": "stderr",
          "output_type": "stream",
          "text": [
            "Testing: 100%|██████████| 5/5 [00:55<00:00, 11.17s/it]\n"
          ]
        },
        {
          "data": {
            "image/png": "[encoded data removed]",
            "text/plain": [
              "<Figure size 1000x800 with 2 Axes>"
            ]
          },
          "metadata": {},
          "output_type": "display_data"
        },
        {
          "name": "stdout",
          "output_type": "stream",
          "text": [
            "Test Loss: 1.3573\n",
            "Test Accuracy: 71.01%\n"
          ]
        }
      ],
      "source": [
        "main()"
      ]
    },
    {
      "cell_type": "code",
      "execution_count": 19,
      "metadata": {
        "id": "GQj4F6ZbfCDU"
      },
      "outputs": [],
      "source": [
        "# plot_training_curves(history)\n",
        "# evaluate_model(model, test_loader, criterion, pose_list)"
      ]
    },
    {
      "cell_type": "code",
      "execution_count": 20,
      "metadata": {
        "colab": {
          "base_uri": "https://localhost:8080/",
          "height": 877
        },
        "id": "7rQIBPV-fEnr",
        "outputId": "d7054eda-5ae3-451f-83c3-eb6a75d4b647"
      },
      "outputs": [
        {
          "name": "stdout",
          "output_type": "stream",
          "text": [
            "Loading Data\n",
            "Loading checkpoint from /content/gdrive/MyDrive/RGB_data_stream/nov11_bi_lstm/best_model.pth\n"
          ]
        },
        {
          "name": "stderr",
          "output_type": "stream",
          "text": [
            "<ipython-input-12-04d0bcd412bb>:6: FutureWarning: You are using `torch.load` with `weights_only=False` (the current default value), which uses the default pickle module implicitly. It is possible to construct malicious pickle data which will execute arbitrary code during unpickling (See https://github.com/pytorch/pytorch/blob/main/SECURITY.md#untrusted-models for more details). In a future release, the default value for `weights_only` will be flipped to `True`. This limits the functions that could be executed during unpickling. Arbitrary objects will no longer be allowed to be loaded via this mode unless they are explicitly allowlisted by the user via `torch.serialization.add_safe_globals`. We recommend you start setting `weights_only=True` for any use case where you don't have full control of the loaded file. Please open an issue on GitHub for any issues related to this experimental feature.\n",
            "  checkpoint = torch.load(checkpoint_path)\n"
          ]
        },
        {
          "name": "stdout",
          "output_type": "stream",
          "text": [
            "Resuming training from epoch 25\n"
          ]
        },
        {
          "name": "stderr",
          "output_type": "stream",
          "text": [
            "Testing: 100%|██████████| 5/5 [00:18<00:00,  3.78s/it]\n"
          ]
        },
        {
          "data": {
            "image/png": "[encoded data removed]",
            "text/plain": [
              "<Figure size 1000x800 with 2 Axes>"
            ]
          },
          "metadata": {},
          "output_type": "display_data"
        },
        {
          "name": "stdout",
          "output_type": "stream",
          "text": [
            "Test Loss: 1.2572\n",
            "Test Accuracy: 72.46%\n"
          ]
        }
      ],
      "source": [
        "eval_best_model()"
      ]
    },
    {
      "cell_type": "markdown",
      "metadata": {
        "id": "CNlzK-nG9Kzn"
      },
      "source": [
        "# TO EXAMINE THE DATASET FOR FAULTS\n"
      ]
    },
    {
      "cell_type": "code",
      "execution_count": null,
      "metadata": {
        "collapsed": true,
        "id": "rFuA0ugooxk1"
      },
      "outputs": [],
      "source": [
        "from tqdm import tqdm\n",
        "\n",
        "def find_potential_label_errors(model, dataset, dataloader, threshold=0.9, device='cuda'):\n",
        "    # Move model to GPU\n",
        "    model = model.to(device)\n",
        "    model.eval()\n",
        "\n",
        "    potential_errors = {\n",
        "        'sequence_id': [],\n",
        "        'predicted_pose': [],\n",
        "        'given_pose': [],\n",
        "        'confidence': []\n",
        "    }\n",
        "\n",
        "    # Reverse mapping from index to pose name\n",
        "    idx_to_pose = {v: k for k, v in dataset.pose_to_idx.items()}\n",
        "\n",
        "    with torch.no_grad():\n",
        "        for batch_idx, (sequences, labels, length) in enumerate(tqdm(dataloader, desc=\"Analyzing sequences\")):\n",
        "            # Move tensors to GPU\n",
        "            sequences = sequences.to(device)\n",
        "            labels = labels.to(device)\n",
        "            length = length.to(device)\n",
        "\n",
        "            # Get model predictions\n",
        "            logits = model(sequences,length)  # Your raw logits\n",
        "            probabilities = torch.nn.functional.softmax(logits, dim=1)\n",
        "            predictions = torch.argmax(probabilities, dim=1)\n",
        "\n",
        "            # Find high confidence disagreements\n",
        "            for idx, (pred, true_label, prob) in enumerate(zip(predictions, labels, probabilities)):\n",
        "                confidence = prob[pred].item()\n",
        "\n",
        "                if pred != true_label and confidence > threshold:\n",
        "                    # Get global index and sequence_id\n",
        "                    global_idx = batch_idx * dataloader.batch_size + idx\n",
        "                    sequence_id = dataset.df.iloc[global_idx]['sequence_id']\n",
        "\n",
        "                    potential_errors['sequence_id'].append(sequence_id)\n",
        "                    potential_errors['predicted_pose'].append(idx_to_pose[pred.item()])\n",
        "                    potential_errors['given_pose'].append(idx_to_pose[true_label.item()])\n",
        "                    potential_errors['confidence'].append(confidence)\n",
        "\n",
        "    return potential_errors\n",
        "\n",
        "def analyze_yoga_errors(potential_errors):\n",
        "    \"\"\"Analyze patterns in potential errors for yoga poses\"\"\"\n",
        "    error_df = pd.DataFrame(potential_errors)\n",
        "\n",
        "    print(f\"Found {len(error_df)} potential errors\")\n",
        "\n",
        "    # Analyze pose-wise errors\n",
        "    print(\"\\nMost common incorrect labelings:\")\n",
        "    error_counts = error_df.groupby(['given_pose', 'predicted_pose']).size().sort_values(ascending=False)\n",
        "    print(error_counts.head(10))\n",
        "\n",
        "    # High confidence errors\n",
        "    print(\"\\nHighest confidence disagreements:\")\n",
        "    high_conf_errors = error_df.sort_values('confidence', ascending=False)\n",
        "    print(high_conf_errors.head(10))\n",
        "\n",
        "    return error_df\n",
        "\n",
        "def validate_yoga_dataset(model, dataset, batch_size=8, threshold=0.9):\n",
        "    dataloader = DataLoader(\n",
        "        dataset,\n",
        "        batch_size=batch_size,\n",
        "        shuffle=False,\n",
        "        collate_fn = collate_fn\n",
        "    )\n",
        "\n",
        "    # Find potential errors\n",
        "    errors = find_potential_label_errors(model, dataset, dataloader, threshold)\n",
        "\n",
        "    # Analyze and get DataFrame of errors\n",
        "    error_df = analyze_yoga_errors(errors)\n",
        "\n",
        "    return error_df\n",
        "import torchvision.transforms as transforms\n",
        "from PIL import Image\n",
        "import torch\n",
        "\n",
        "# Define de-normalization transform\n",
        "imagenet_mean = [0.485, 0.456, 0.406]\n",
        "imagenet_std = [0.229, 0.224, 0.225]\n",
        "denormalize = transforms.Normalize(\n",
        "    mean=[-m/s for m, s in zip(imagenet_mean, imagenet_std)],\n",
        "    std=[1/s for s in imagenet_std]\n",
        ")\n",
        "\n",
        "def save_suspicious_sequences(error_df, dataset, save_dir, max_samples=5):\n",
        "    \"\"\"Save frames from suspicious sequences for manual review\"\"\"\n",
        "    os.makedirs(save_dir, exist_ok=True)\n",
        "\n",
        "    # Group by pose pairs to save examples of each type of error\n",
        "    grouped_errors = error_df.groupby(['given_pose', 'predicted_pose'])\n",
        "\n",
        "    for (given_pose, pred_pose), group in grouped_errors:\n",
        "        # Take up to max_samples highest confidence examples for each error type\n",
        "        samples = group.nlargest(max_samples, 'confidence')\n",
        "\n",
        "        for idx, row in samples.iterrows():\n",
        "            sequence_id = row['sequence_id']\n",
        "            confidence = row['confidence']\n",
        "\n",
        "            # Create directory for this error type\n",
        "            error_dir = os.path.join(save_dir, f\"{given_pose}_to_{pred_pose}\")\n",
        "            os.makedirs(error_dir, exist_ok=True)\n",
        "\n",
        "            try:\n",
        "                # Find the index in dataset.df that matches this sequence_id\n",
        "                dataset_idx = dataset.df[dataset.df['sequence_id'] == sequence_id].index\n",
        "\n",
        "                if len(dataset_idx) > 0:\n",
        "                    # Get the sequence frames\n",
        "                    frames, _ = dataset[dataset_idx[0]]\n",
        "\n",
        "                    # Move frames to CPU if they're on GPU\n",
        "                    if frames.is_cuda:\n",
        "                        frames = frames.cpu()\n",
        "\n",
        "                    # Save middle frame as representative image\n",
        "                    middle_frame = frames[len(frames)//2]\n",
        "\n",
        "                    # De-normalize the frame\n",
        "                    middle_frame = denormalize(middle_frame)\n",
        "\n",
        "                    # Clip the values to the valid range [0, 1] for image saving\n",
        "                    middle_frame = torch.clamp(middle_frame, 0, 1)\n",
        "\n",
        "                    save_path = os.path.join(error_dir, f'seq_{sequence_id}_conf_{confidence:.2f}.png')\n",
        "\n",
        "                    # Convert tensor to PIL Image and save\n",
        "                    middle_frame = transforms.ToPILImage()(middle_frame)\n",
        "                    middle_frame.save(save_path)\n",
        "                else:\n",
        "                    print(f\"Warning: Sequence ID {sequence_id} not found in dataset\")\n",
        "\n",
        "            except Exception as e:\n",
        "                print(f\"Error processing sequence {sequence_id}: {str(e)}\")\n",
        "                continue\n",
        "\n",
        "# Usage example:\n",
        "\n",
        "def search_all_the_faults():\n",
        "    model = CNNLSTM(num_classes=NUM_CLASSES)\n",
        "    aug_dirs={\n",
        "        'flip': horz_aug,\n",
        "        'blur': gaussian_blur_aug,\n",
        "        'resize_crop': resize_aug\n",
        "    }\n",
        "    dataset = YogaVideoDataset(csv_path, sequence_path, pose_list, video_dir, preprocessed_dir, aug_dirs)\n",
        "    checkpoint_path = os.path.join(save_path, 'best_model.pth')\n",
        "    optimizer = torch.optim.Adam(model.parameters(), lr=LEARNING_RATE)\n",
        "    if checkpoint_path and os.path.exists(checkpoint_path):\n",
        "      model, optimizer, start_epoch, history = load_checkpoint(\n",
        "                model, optimizer, checkpoint_path\n",
        "      )\n",
        "      print(f\"Resuming training from epoch {start_epoch}\")\n",
        "        # Find and analyze errors\n",
        "    error_df = validate_yoga_dataset(model, dataset, batch_size=8, threshold=0.9)\n",
        "\n",
        "        # Save suspicious sequences for manual review\n",
        "    save_dir=os.path.join(save_path,'suspicious_sequences')\n",
        "    save_suspicious_sequences(error_df, dataset, save_dir)\n",
        "\n",
        "    csv_path_file = os.path.join(save_path, 'potential_label_errors.csv')\n",
        "        # Export results to CSV for further analysis\n",
        "    error_df.to_csv(csv_path_file, index=False)\n",
        "\n",
        "        # Print some statistics\n",
        "    print(\"\\nMost frequently mislabeled sequences:\")\n",
        "    sequence_counts = error_df['sequence_id'].value_counts()\n",
        "    print(sequence_counts.head())"
      ]
    },
    {
      "cell_type": "code",
      "execution_count": null,
      "metadata": {
        "id": "-umTOlDwfXE4"
      },
      "outputs": [],
      "source": [
        "search_all_the_faults()"
      ]
    },
    {
      "cell_type": "code",
      "execution_count": null,
      "metadata": {
        "id": "3IrgCOYOijTs"
      },
      "outputs": [],
      "source": []
    }
  ],
  "metadata": {
    "accelerator": "GPU",
    "colab": {
      "gpuType": "T4",
      "provenance": []
    },
    "kernelspec": {
      "display_name": "Python 3",
      "name": "python3"
    },
    "language_info": {
      "codemirror_mode": {
        "name": "ipython",
        "version": 3
      },
      "file_extension": ".py",
      "mimetype": "text/x-python",
      "name": "python",
      "nbconvert_exporter": "python",
      "pygments_lexer": "ipython3",
      "version": "3.12.4"
    }
  },
  "nbformat": 4,
  "nbformat_minor": 0
}
