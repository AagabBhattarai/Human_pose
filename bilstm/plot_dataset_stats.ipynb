{
 "cells": [
  {
   "cell_type": "code",
   "execution_count": 54,
   "metadata": {},
   "outputs": [],
   "source": [
    "base_path = '../'"
   ]
  },
  {
   "cell_type": "code",
   "execution_count": null,
   "metadata": {},
   "outputs": [],
   "source": [
    "# p = ['downward-dog',\n",
    "# 'high-lunge',\n",
    "# 'low-lunge',\n",
    "# 'warrior-3',\n",
    "# 'side-plank',\n",
    "# 'balancing-table',\n",
    "# 'child',\n",
    "# 'tree',\n",
    "# 'extended-triangle',\n",
    "# 'bridge']\n",
    "\n",
    "# for "
   ]
  },
  {
   "cell_type": "code",
   "execution_count": 55,
   "metadata": {},
   "outputs": [],
   "source": [
    "\n",
    "import os\n",
    "\n",
    "# Gets label\n",
    "csv_path = os.path.join(base_path,'data/3DYoga90_corrected.csv')\n",
    "\n",
    "# Gets valid samples\n",
    "sequence_path = os.path.join(base_path, 'short/downloaded_log.txt')\n",
    "\n",
    "# Path to save the model\n",
    "# save_path = os.path.join(base_path, 'nov11_bi_lstm')\n",
    "# os.makedirs(save_path, exist_ok=True)\n",
    "\n",
    "# Classification classes\n",
    "pose_list = ['mountain', 'half-way-lift', 'standing-forward-bend', 'downward-dog']\n",
    "NUM_CLASSES = len(pose_list)\n",
    "\n",
    "# Original Downloaded Seqeuence\n",
    "video_dir = os.path.join(base_path, 'short')\n",
    "\n",
    "# Pre_processed to tensor to make training fast # Makes video_dir redundant\n",
    "preprocessed_dir = os.path.join(base_path, 'complete_pre_processed')\n",
    "# os.makedirs(preprocessed_dir, exist_ok=True)\n",
    "assert os.path.isdir(preprocessed_dir), f\"Directory '{preprocessed_dir}' does not exist.\"\n",
    "\n",
    "# # Horizontal Flip\n",
    "# horz_aug = os.path.join(base_path, 'horz_aug')\n",
    "# assert os.path.isdir(horz_aug), f\"Directory '{horz_aug}' does not exist.\"\n",
    "\n",
    "# # Gaussian Blur\n",
    "# gaussian_blur_aug = os.path.join(base_path, 'gaussian_blur_aug')\n",
    "# assert os.path.isdir(gaussian_blur_aug), f\"Directory '{gaussian_blur_aug}' does not exist.\"\n",
    "\n",
    "# # Random Resize Crop\n",
    "# resize_aug = os.path.join(base_path, 'complete_pre_processed')\n",
    "# assert os.path.isdir(resize_aug), f\"Directory '{resize_aug}' does not exist.\"\n"
   ]
  },
  {
   "cell_type": "code",
   "execution_count": 56,
   "metadata": {},
   "outputs": [],
   "source": [
    "# Constants\n",
    "FRAME_HEIGHT = 224\n",
    "FRAME_WIDTH = 224\n",
    "SEQUENCE_LENGTH = 16\n",
    "\n",
    "BATCH_SIZE = 16\n",
    "LEARNING_RATE = 0.0001\n",
    "VALIDATION_SPLIT = 0.2\n",
    "TEST_SPLIT = 0.1\n",
    "NUM_EPOCHS = 50"
   ]
  },
  {
   "cell_type": "code",
   "execution_count": 68,
   "metadata": {},
   "outputs": [],
   "source": [
    "\n",
    "import os\n",
    "import torch\n",
    "import pandas as pd\n",
    "import numpy as np\n",
    "from torchvision.transforms import transforms\n",
    "from torch.utils.data import Dataset, DataLoader\n",
    "from PIL import Image\n",
    "import imageio\n",
    "import random\n",
    "\n",
    "class YogaVideoDataset(Dataset):\n",
    "    def __init__(self, csv_path, sequence_path, pose_list, video_dir, preprocessed_dir, aug_dirs, use_augmented=True, aug_probability=0.5):\n",
    "        with open(sequence_path) as f:\n",
    "            sequence_list = f.read().splitlines()\n",
    "            sequence_list = [int(x) for x in sequence_list]\n",
    "\n",
    "        self.df = pd.read_csv(csv_path)\n",
    "        self.df = self.df[self.df['sequence_id'].isin(sequence_list)]\n",
    "        # self.df = self.df[self.df['l3_pose'].isin(pose_list)]\n",
    "\n",
    "        self.pose_to_idx = {pose: idx for idx, pose in enumerate(pose_list)}\n",
    "        self.length_of_dataset = len(self.df)\n",
    "\n",
    "        self.video_dir = video_dir\n",
    "        self.preprocessed_dir = preprocessed_dir\n",
    "        self.aug_dirs = aug_dirs  # Dictionary of augmentation directories\n",
    "        self.use_augmented = use_augmented\n",
    "        self.aug_probability = aug_probability\n",
    "\n",
    "        # os.makedirs(self.preprocessed_dir, exist_ok=True)\n",
    "\n",
    "        self.transforms = transforms.Compose([\n",
    "            transforms.Resize((FRAME_HEIGHT, FRAME_WIDTH)),\n",
    "            transforms.ToTensor(),\n",
    "            transforms.Normalize(mean=[0.485, 0.456, 0.406],\n",
    "                                 std=[0.229, 0.224, 0.225])\n",
    "        ])\n",
    "        self.cache = dict()\n",
    "\n",
    "    \n",
    "    def __len__(self):\n",
    "        return self.length_of_dataset\n",
    "\n",
    "    def __getitem__(self, i):\n",
    "        sequence_id = self.df.iloc[i]['sequence_id']\n",
    "        pose = self.df.iloc[i]['l3_pose']\n",
    "        label = self.pose_to_idx[pose]\n",
    "        sequence_duration = self.df.iloc[i]['sequence_duration']\n",
    "\n",
    "\n",
    "        # frames = torch.randn((1))\n",
    "        return pose, sequence_duration\n",
    "\n",
    "    def _get_frames(self, video_path):\n",
    "        reader = imageio.get_reader(video_path, 'ffmpeg')\n",
    "        fps = imageio.get_reader(video_path, 'ffmpeg').get_meta_data()['fps'] // 1\n",
    "        total_frames = reader.count_frames()\n",
    "\n",
    "        # print(fps)\n",
    "        # print(total_frames)\n",
    "        # Sample SEQUENCE_LENGTH = 7 frames per second\n",
    "        # indices = np.linspace(0, fps - 1, SEQUENCE_LENGTH, dtype=int)\n",
    "        # print(video_path)\n",
    "        indices = np.arange(0, fps - 1, fps // SEQUENCE_LENGTH, dtype=int)\n",
    "\n",
    "        # print(indices)\n",
    "        frames = []\n",
    "        for i, frame in enumerate(reader):\n",
    "            if i % fps in indices:\n",
    "                frame = Image.fromarray(frame)\n",
    "                frame = self.transforms(frame)\n",
    "                frames.append(frame)\n",
    "                # print('Frame number', i % fps, 'Frame', i)\n",
    "\n",
    "        reader.close()\n",
    "        # print('Frame Length', len(frames))\n",
    "        frames = torch.stack(frames)\n",
    "        return frames"
   ]
  },
  {
   "cell_type": "code",
   "execution_count": 58,
   "metadata": {},
   "outputs": [],
   "source": [
    "# Add this import at the top of your file if not already present\n",
    "import matplotlib.pyplot as plt\n",
    "\n",
    "# Add this function to your code\n",
    "def plot_dataset_statistics(train_dataset, val_dataset, test_dataset):\n",
    "    # Calculate the number of samples in each dataset\n",
    "    num_train_samples = len(train_dataset)\n",
    "    num_val_samples = len(val_dataset)\n",
    "    num_test_samples = len(test_dataset)\n",
    "\n",
    "    # Data for plotting\n",
    "    categories = ['Training', 'Validation', 'Test']\n",
    "    counts = [num_train_samples, num_val_samples, num_test_samples]\n",
    "\n",
    "    # Create a bar plot\n",
    "    plt.figure(figsize=(8, 5))\n",
    "    plt.bar(categories, counts, color=['blue', 'orange', 'green'])\n",
    "    plt.title('Dataset Statistics')\n",
    "    plt.xlabel('Dataset Split')\n",
    "    plt.ylabel('Number of Samples')\n",
    "    plt.ylim(0, max(counts) + 10)  # Add some space above the highest bar\n",
    "    plt.grid(axis='y')\n",
    "\n",
    "    # Show the plot\n",
    "    plt.show()"
   ]
  },
  {
   "cell_type": "code",
   "execution_count": 59,
   "metadata": {},
   "outputs": [],
   "source": [
    "\n",
    "from torch.utils.data import random_split\n",
    "\n",
    "def train_val_test_split(dataset):\n",
    "    total_size = len(dataset)\n",
    "    test_size = int(TEST_SPLIT * total_size)\n",
    "    val_size = int(VALIDATION_SPLIT * total_size)\n",
    "    train_size = total_size - val_size - test_size\n",
    "\n",
    "    train_dataset, val_dataset, test_dataset = random_split(\n",
    "        dataset,\n",
    "        [train_size, val_size, test_size],\n",
    "        generator=torch.Generator().manual_seed(42)  # For reproducibility\n",
    "    )\n",
    "\n",
    "    return train_dataset, val_dataset, test_dataset"
   ]
  },
  {
   "cell_type": "code",
   "execution_count": 67,
   "metadata": {},
   "outputs": [
    {
     "name": "stdout",
     "output_type": "stream",
     "text": [
      "1147\n"
     ]
    }
   ],
   "source": [
    "dataset = YogaVideoDataset(csv_path, sequence_path, pose_list, video_dir, preprocessed_dir, {})\n",
    "\n",
    "train_d, val_d, test_d = train_val_test_split(dataset)"
   ]
  },
  {
   "cell_type": "code",
   "execution_count": 61,
   "metadata": {},
   "outputs": [
    {
     "data": {
      "text/plain": [
       "{'mountain': [133, 484],\n",
       " 'half-way-lift': [171, 486],\n",
       " 'standing-forward-bend': [185, 791],\n",
       " 'downward-dog': [203, 968]}"
      ]
     },
     "execution_count": 61,
     "metadata": {},
     "output_type": "execute_result"
    }
   ],
   "source": [
    "dataset_stats = {\n",
    "    key: [0, 0] for key in pose_list\n",
    "}\n",
    "for label, seq_duration in dataset:\n",
    "    dataset_stats[label][0] += 1\n",
    "    dataset_stats[label][1] += seq_duration\n",
    "dataset_stats"
   ]
  },
  {
   "cell_type": "code",
   "execution_count": 65,
   "metadata": {},
   "outputs": [
    {
     "data": {
      "image/png": "[encoded data removed]",
      "text/plain": [
       "<Figure size 1000x600 with 1 Axes>"
      ]
     },
     "metadata": {},
     "output_type": "display_data"
    }
   ],
   "source": [
    "def plot_count_plus_duration(stats):\n",
    "    # Extracting data from the stats dictionary\n",
    "    poses = list(stats.keys())\n",
    "    counts = [value[0] for value in stats.values()]\n",
    "    durations = [value[1] for value in stats.values()]\n",
    "\n",
    "    # Setting the x-axis positions\n",
    "    x = range(len(poses))\n",
    "\n",
    "    # Creating a bar plot for counts and durations\n",
    "    plt.figure(figsize=(10, 6))\n",
    "    bars1 = plt.bar(x, counts, width=0.4, label='Count', color='blue', align='center')\n",
    "    bars2 = plt.bar([p + 0.4 for p in x], durations, width=0.4, label='Total Duration in seconds', color='orange', align='center')\n",
    "\n",
    "    # Adding labels and title\n",
    "    plt.xlabel('Pose')\n",
    "    plt.ylabel('Count / Total Duration')\n",
    "    plt.title('Count and Total Duration for Each Pose')\n",
    "    plt.xticks([p + 0.2 for p in x], poses)  # Centering the x-ticks\n",
    "    plt.legend()\n",
    "    plt.grid(axis='y')\n",
    "\n",
    "    # Adding raw numbers on top of the bars\n",
    "    for bar in bars1:\n",
    "        yval = bar.get_height()\n",
    "        plt.text(bar.get_x() + bar.get_width()/2, yval, int(yval), ha='center', va='bottom')  # Count\n",
    "\n",
    "    for bar in bars2:\n",
    "        yval = bar.get_height()\n",
    "        plt.text(bar.get_x() + bar.get_width()/2, yval, int(yval), ha='center', va='bottom')  # Total Duration\n",
    "\n",
    "    # Show the plot\n",
    "    plt.show()\n",
    "\n",
    "# Call the function with your dataset_stats\n",
    "plot_count_plus_duration(dataset_stats)"
   ]
  },
  {
   "cell_type": "code",
   "execution_count": 63,
   "metadata": {},
   "outputs": [
    {
     "data": {
      "image/png": "[encoded data removed]",
      "text/plain": [
       "<Figure size 800x500 with 1 Axes>"
      ]
     },
     "metadata": {},
     "output_type": "display_data"
    }
   ],
   "source": [
    "plot_dataset_statistics(train_d, val_d, test_d)"
   ]
  },
  {
   "cell_type": "code",
   "execution_count": null,
   "metadata": {},
   "outputs": [],
   "source": []
  }
 ],
 "metadata": {
  "kernelspec": {
   "display_name": "base",
   "language": "python",
   "name": "python3"
  },
  "language_info": {
   "codemirror_mode": {
    "name": "ipython",
    "version": 3
   },
   "file_extension": ".py",
   "mimetype": "text/x-python",
   "name": "python",
   "nbconvert_exporter": "python",
   "pygments_lexer": "ipython3",
   "version": "3.12.4"
  }
 },
 "nbformat": 4,
 "nbformat_minor": 2
}
