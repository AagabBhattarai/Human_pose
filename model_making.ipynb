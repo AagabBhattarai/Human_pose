{
 "cells": [
  {
   "cell_type": "code",
   "execution_count": null,
   "metadata": {},
   "outputs": [],
   "source": [
    "import torch\n",
    "import numpy as np\n",
    "from matplotlib import pyplot as plt\n",
    "import pandas as pd\n",
    "import os"
   ]
  },
  {
   "cell_type": "code",
   "execution_count": null,
   "metadata": {},
   "outputs": [],
   "source": [
    "print(torch.__version__)\n",
    "device = 'cuda' if torch.cuda.is_available() else 'cpu'"
   ]
  },
  {
   "cell_type": "code",
   "execution_count": null,
   "metadata": {},
   "outputs": [],
   "source": [
    "meta_info_path = 'data'\n",
    "pose_index = pd.read_csv(f'{meta_info_path}/pose-index.csv')\n",
    "sequence_index = pd.read_csv(f'{meta_info_path}/3DYoga90.csv')\n",
    "pose_index.head()"
   ]
  },
  {
   "cell_type": "code",
   "execution_count": null,
   "metadata": {},
   "outputs": [],
   "source": [
    "sequence_index.head()"
   ]
  },
  {
   "cell_type": "code",
   "execution_count": null,
   "metadata": {},
   "outputs": [],
   "source": [
    "pd.read_parquet(r\"official_dataset\\1000.parquet\").head()"
   ]
  },
  {
   "cell_type": "markdown",
   "metadata": {},
   "source": [
    "What does each file tell? \n",
    "1.) pose-index.csv -> Shows Heirarchical organization (THEN NOTHING MORE)\n",
    "2.) 3DYoga90.csv -> Total Main Info(i.e. along with RGB stream){\n",
    "    SequneceID: Parquet_FILE_NAME,\n",
    "    URL, \n",
    "    Frame Start and Frame Stop,\n",
    "    Pose Name, Training Test Split\n",
    "} `Difference between train and test? where to get the validation set from? How to do data augmentation?\n",
    "3.) Parquet Files -> {\n",
    "    Frame Number {\n",
    "        33 Landmarks\n",
    "    },\n",
    "    row-id: FrameNumber-TYPE-Landmark_index,\n",
    "    Coordinates: {x, y, z}\n",
    "}"
   ]
  },
  {
   "cell_type": "code",
   "execution_count": null,
   "metadata": {},
   "outputs": [],
   "source": []
  }
 ],
 "metadata": {
  "kernelspec": {
   "display_name": "base",
   "language": "python",
   "name": "python3"
  },
  "language_info": {
   "codemirror_mode": {
    "name": "ipython",
    "version": 3
   },
   "file_extension": ".py",
   "mimetype": "text/x-python",
   "name": "python",
   "nbconvert_exporter": "python",
   "pygments_lexer": "ipython3",
   "version": "3.12.4"
  }
 },
 "nbformat": 4,
 "nbformat_minor": 2
}
