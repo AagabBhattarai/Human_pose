{
 "cells": [
  {
   "cell_type": "code",
   "execution_count": 2,
   "metadata": {},
   "outputs": [],
   "source": [
    "import pandas as pd\n",
    "\n",
    "yoga_data = pd.read_csv('3DYoga90.csv', sep=',')\n",
    "corrected_labels = pd.read_csv('corrected_label.csv', sep=',')\n",
    "pose_index = pd.read_csv('pose-index.csv', sep=',')"
   ]
  },
  {
   "cell_type": "code",
   "execution_count": null,
   "metadata": {},
   "outputs": [],
   "source": [
    "yoga_data"
   ]
  },
  {
   "cell_type": "code",
   "execution_count": null,
   "metadata": {},
   "outputs": [],
   "source": [
    "pose_index"
   ]
  },
  {
   "cell_type": "code",
   "execution_count": null,
   "metadata": {},
   "outputs": [],
   "source": [
    "corrected_labels = corrected_labels[corrected_labels['predicted_pose'] != 'unknown']\n",
    "corrected_labels"
   ]
  },
  {
   "cell_type": "code",
   "execution_count": null,
   "metadata": {},
   "outputs": [],
   "source": [
    "\n",
    "pose_mapping = pose_index.set_index('13_pose')[['level1_pose', 'level2_pose','level1_id','level2_id','l3_pose_id']].to_dict(orient='index')\n",
    "pose_mapping"
   ]
  },
  {
   "cell_type": "code",
   "execution_count": null,
   "metadata": {},
   "outputs": [],
   "source": [
    "# Step 3: Update the yoga_data based on corrected_labels\n",
    "for index, row in corrected_labels.iterrows():\n",
    "    sequence_id = row['sequence_id']\n",
    "    predicted_pose = row['predicted_pose']\n",
    "    \n",
    "    # Find the corresponding l3_pose in the pose mapping\n",
    "    if predicted_pose in pose_mapping:\n",
    "        level1_pose = pose_mapping[predicted_pose]['level1_pose']\n",
    "        level2_pose = pose_mapping[predicted_pose]['level2_pose']\n",
    "        level1_id = pose_mapping[predicted_pose]['level1_id']\n",
    "        level2_id = pose_mapping[predicted_pose]['level2_id']\n",
    "        level3_id = pose_mapping[predicted_pose]['l3_pose_id']\n",
    "        \n",
    "        # Update the yoga_data\n",
    "        yoga_data.loc[yoga_data['sequence_id'] == sequence_id, 'l1_pose'] = level1_pose\n",
    "        yoga_data.loc[yoga_data['sequence_id'] == sequence_id, 'l2_pose'] = level2_pose\n",
    "        yoga_data.loc[yoga_data['sequence_id'] == sequence_id, 'l3_pose'] = predicted_pose\n",
    "        yoga_data.loc[yoga_data['sequence_id'] == sequence_id, 'l1_pose_id'] = level1_id\n",
    "        yoga_data.loc[yoga_data['sequence_id'] == sequence_id, 'l2_pose_id'] = level2_id\n",
    "        yoga_data.loc[yoga_data['sequence_id'] == sequence_id, 'l3_pose_id'] = level3_id\n",
    "        \n",
    "        \n",
    "        print( 'l1_pose',   level1_pose)\n",
    "        print( 'l2_pose',   level2_pose)\n",
    "        print( 'l3_pose',   predicted_pose)\n",
    "        print( 'l1_pose_id',   level1_id)\n",
    "        print( 'l2_pose_id',   level2_id)\n",
    "        print( 'l3_pose_id',   level3_id)\n",
    "        \n",
    "        \n",
    "\n",
    "# Save the corrected data\n",
    "yoga_data.to_csv('3DYoga90_corrected.csv', index=False)"
   ]
  },
  {
   "cell_type": "code",
   "execution_count": null,
   "metadata": {},
   "outputs": [],
   "source": [
    "correct_csv = pd.read_csv('3DYoga90_corrected.csv' ,sep=',')\n",
    "correct_csv"
   ]
  },
  {
   "cell_type": "code",
   "execution_count": null,
   "metadata": {},
   "outputs": [],
   "source": []
  },
  {
   "cell_type": "code",
   "execution_count": null,
   "metadata": {},
   "outputs": [],
   "source": [
    "filtered_data = yoga_data[yoga_data['Unnamed: 16'].notna()]\n",
    "\n",
    "# Step 3: Display the filtered DataFrame\n",
    "print(filtered_data)"
   ]
  },
  {
   "cell_type": "code",
   "execution_count": 10,
   "metadata": {},
   "outputs": [],
   "source": [
    "\n",
    "correct_csv = correct_csv.drop(columns=['Unnamed: 16'])"
   ]
  },
  {
   "cell_type": "code",
   "execution_count": 11,
   "metadata": {},
   "outputs": [],
   "source": [
    "\n",
    "correct_csv.to_csv('3DYoga90_corrected.csv', index=False)"
   ]
  },
  {
   "cell_type": "code",
   "execution_count": null,
   "metadata": {},
   "outputs": [],
   "source": []
  }
 ],
 "metadata": {
  "kernelspec": {
   "display_name": "base",
   "language": "python",
   "name": "python3"
  },
  "language_info": {
   "codemirror_mode": {
    "name": "ipython",
    "version": 3
   },
   "file_extension": ".py",
   "mimetype": "text/x-python",
   "name": "python",
   "nbconvert_exporter": "python",
   "pygments_lexer": "ipython3",
   "version": "3.12.4"
  }
 },
 "nbformat": 4,
 "nbformat_minor": 2
}
