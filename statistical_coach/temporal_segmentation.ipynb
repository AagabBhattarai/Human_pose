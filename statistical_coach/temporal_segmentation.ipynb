{
 "cells": [
  {
   "cell_type": "code",
   "execution_count": 83,
   "metadata": {},
   "outputs": [
    {
     "name": "stdout",
     "output_type": "stream",
     "text": [
      "Processed 30/2891 frames (32.09 fps)\n",
      "Processed 60/2891 frames (36.37 fps)\n",
      "Processed 90/2891 frames (38.97 fps)\n",
      "Processed 120/2891 frames (40.57 fps)\n",
      "Processed 150/2891 frames (40.82 fps)\n",
      "Processed 180/2891 frames (40.63 fps)\n",
      "Processed 210/2891 frames (40.94 fps)\n",
      "Processed 240/2891 frames (41.21 fps)\n",
      "Processed 270/2891 frames (41.52 fps)\n",
      "Processed 300/2891 frames (41.78 fps)\n",
      "Processed 330/2891 frames (41.92 fps)\n",
      "Processed 360/2891 frames (42.03 fps)\n",
      "Processed 390/2891 frames (42.20 fps)\n",
      "Processed 420/2891 frames (42.35 fps)\n",
      "Warning: No pose detected in frame 439\n",
      "Processed 450/2891 frames (42.35 fps)\n",
      "Processed 480/2891 frames (42.35 fps)\n",
      "Processed 510/2891 frames (42.38 fps)\n",
      "Processed 540/2891 frames (42.42 fps)\n",
      "Processed 570/2891 frames (42.36 fps)\n",
      "Processed 600/2891 frames (42.33 fps)\n",
      "Processed 630/2891 frames (42.28 fps)\n",
      "Processed 660/2891 frames (42.31 fps)\n",
      "Processed 690/2891 frames (42.33 fps)\n",
      "Processed 720/2891 frames (42.36 fps)\n",
      "Processed 750/2891 frames (42.37 fps)\n",
      "Processed 780/2891 frames (42.39 fps)\n",
      "Processed 810/2891 frames (42.41 fps)\n",
      "Processed 840/2891 frames (42.41 fps)\n",
      "Processed 870/2891 frames (42.38 fps)\n",
      "Processed 900/2891 frames (42.39 fps)\n",
      "Processed 930/2891 frames (42.38 fps)\n",
      "Processed 960/2891 frames (42.36 fps)\n",
      "Processed 990/2891 frames (42.35 fps)\n",
      "Processed 1020/2891 frames (42.36 fps)\n",
      "Processed 1050/2891 frames (42.36 fps)\n",
      "Processed 1080/2891 frames (42.36 fps)\n",
      "Processed 1110/2891 frames (42.02 fps)\n",
      "Processed 1140/2891 frames (41.91 fps)\n",
      "Processed 1170/2891 frames (41.86 fps)\n",
      "Processed 1200/2891 frames (41.83 fps)\n",
      "Processed 1230/2891 frames (41.82 fps)\n",
      "Processed 1260/2891 frames (41.78 fps)\n",
      "Processed 1290/2891 frames (41.75 fps)\n",
      "Processed 1320/2891 frames (41.77 fps)\n",
      "Processed 1350/2891 frames (41.81 fps)\n",
      "Processed 1380/2891 frames (41.85 fps)\n",
      "Processed 1410/2891 frames (41.86 fps)\n",
      "Processed 1440/2891 frames (41.87 fps)\n",
      "Processed 1470/2891 frames (41.88 fps)\n",
      "Processed 1500/2891 frames (41.88 fps)\n",
      "Processed 1530/2891 frames (41.89 fps)\n",
      "Processed 1560/2891 frames (41.90 fps)\n",
      "Processed 1590/2891 frames (41.92 fps)\n",
      "Processed 1620/2891 frames (41.94 fps)\n",
      "Processed 1650/2891 frames (41.96 fps)\n",
      "Processed 1680/2891 frames (41.96 fps)\n",
      "Processed 1710/2891 frames (41.98 fps)\n",
      "Processed 1740/2891 frames (41.98 fps)\n",
      "Processed 1770/2891 frames (41.99 fps)\n",
      "Warning: No pose detected in frame 1797\n",
      "Processed 1800/2891 frames (42.02 fps)\n",
      "Processed 1830/2891 frames (42.06 fps)\n",
      "Processed 1860/2891 frames (42.10 fps)\n",
      "Processed 1890/2891 frames (42.13 fps)\n",
      "Processed 1920/2891 frames (42.16 fps)\n",
      "Processed 1950/2891 frames (42.19 fps)\n",
      "Processed 1980/2891 frames (42.22 fps)\n",
      "Processed 2010/2891 frames (42.24 fps)\n",
      "Processed 2040/2891 frames (42.27 fps)\n",
      "Processed 2070/2891 frames (42.30 fps)\n",
      "Processed 2100/2891 frames (42.32 fps)\n",
      "Processed 2130/2891 frames (42.35 fps)\n",
      "Processed 2160/2891 frames (42.38 fps)\n",
      "Processed 2190/2891 frames (42.41 fps)\n",
      "Processed 2220/2891 frames (42.43 fps)\n",
      "Processed 2250/2891 frames (42.46 fps)\n",
      "Processed 2280/2891 frames (42.48 fps)\n",
      "Processed 2310/2891 frames (42.51 fps)\n",
      "Processed 2340/2891 frames (42.53 fps)\n",
      "Processed 2370/2891 frames (42.56 fps)\n",
      "Processed 2400/2891 frames (42.58 fps)\n",
      "Processed 2430/2891 frames (42.60 fps)\n",
      "Processed 2460/2891 frames (42.52 fps)\n",
      "Processed 2490/2891 frames (42.54 fps)\n",
      "Processed 2520/2891 frames (42.56 fps)\n",
      "Processed 2550/2891 frames (42.58 fps)\n",
      "Processed 2580/2891 frames (42.61 fps)\n",
      "Processed 2610/2891 frames (42.63 fps)\n",
      "Processed 2640/2891 frames (42.65 fps)\n",
      "Processed 2670/2891 frames (42.67 fps)\n",
      "Processed 2700/2891 frames (42.69 fps)\n",
      "Processed 2730/2891 frames (42.72 fps)\n",
      "Processed 2760/2891 frames (42.73 fps)\n",
      "Processed 2790/2891 frames (42.75 fps)\n",
      "Processed 2820/2891 frames (42.77 fps)\n",
      "Processed 2850/2891 frames (42.79 fps)\n",
      "Processed 2880/2891 frames (42.80 fps)\n",
      "Extracted 3D points shape: (2891, 33, 3)\n",
      "[[[-7.64017738e-03 -6.35020912e-01 -8.11817273e-02]\n",
      "  [ 2.42101308e-03 -6.70123339e-01 -6.11358397e-02]\n",
      "  [ 2.74545699e-03 -6.70738280e-01 -5.99589385e-02]\n",
      "  ...\n",
      "  [ 2.07630936e-02  5.29405549e-02 -9.33181345e-02]\n",
      "  [-1.30305305e-01  8.00618604e-02 -1.38483629e-01]\n",
      "  [ 1.45501584e-01  7.83692151e-02 -1.31577894e-01]]\n",
      "\n",
      " [[-8.31753574e-03 -6.38168156e-01 -8.68126303e-02]\n",
      "  [ 5.66862524e-04 -6.73241019e-01 -6.54604882e-02]\n",
      "  [ 9.13856667e-04 -6.73849761e-01 -6.42898828e-02]\n",
      "  ...\n",
      "  [ 2.30799001e-02  7.19489679e-02 -9.67329666e-02]\n",
      "  [-1.31913349e-01  8.01176876e-02 -1.38422936e-01]\n",
      "  [ 1.45422280e-01  9.75051969e-02 -1.36477649e-01]]\n",
      "\n",
      " [[-8.09732173e-03 -6.41712725e-01 -8.66820142e-02]\n",
      "  [ 5.00830880e-04 -6.76794529e-01 -6.53043091e-02]\n",
      "  [ 8.53353646e-04 -6.77390158e-01 -6.41367286e-02]\n",
      "  ...\n",
      "  [ 2.39059124e-02  7.96407014e-02 -9.80208144e-02]\n",
      "  [-1.31960720e-01  8.09201002e-02 -1.37135163e-01]\n",
      "  [ 1.44620538e-01  1.06618956e-01 -1.38810679e-01]]\n",
      "\n",
      " ...\n",
      "\n",
      " [[ 4.64263884e-03 -6.35087192e-01 -1.27580658e-01]\n",
      "  [ 1.12493159e-02 -6.72932684e-01 -1.06648378e-01]\n",
      "  [ 1.16138076e-02 -6.73427224e-01 -1.05519675e-01]\n",
      "  ...\n",
      "  [ 6.24740496e-03  6.21941723e-02 -5.21213859e-02]\n",
      "  [-1.03410438e-01  7.61602074e-02 -9.24911797e-02]\n",
      "  [ 1.26371995e-01  8.18797871e-02 -8.30419362e-02]]\n",
      "\n",
      " [[ 1.00931069e-02 -6.44309640e-01 -1.53998435e-01]\n",
      "  [ 1.75799243e-02 -6.81751490e-01 -1.32121369e-01]\n",
      "  [ 1.79205164e-02 -6.82171702e-01 -1.31021902e-01]\n",
      "  ...\n",
      "  [-2.37152688e-02  5.19958660e-02 -3.42051573e-02]\n",
      "  [-6.78014979e-02  7.51275048e-02 -7.21967742e-02]\n",
      "  [ 7.46510699e-02  6.01271503e-02 -6.76889420e-02]]\n",
      "\n",
      " [[ 1.32267205e-02 -6.48238897e-01 -1.60917386e-01]\n",
      "  [ 2.11562123e-02 -6.85468197e-01 -1.38905078e-01]\n",
      "  [ 2.14881618e-02 -6.85870647e-01 -1.37804762e-01]\n",
      "  ...\n",
      "  [-3.12087256e-02  4.90833782e-02 -2.91172042e-02]\n",
      "  [-5.79909571e-02  7.49318972e-02 -6.67719916e-02]\n",
      "  [ 6.49947226e-02  5.46899177e-02 -6.43061548e-02]]]\n"
     ]
    }
   ],
   "source": [
    "import torch\n",
    "from keypoint_extractor import keypoint_extractor\n",
    "from biomechanical_features import BiomechanicalFeatureExtractor\n",
    "\n",
    "extractor = BiomechanicalFeatureExtractor()\n",
    "features = keypoint_extractor('tiktok_data/halfwaylift/first.mp4')\n",
    "print(features)"
   ]
  },
  {
   "cell_type": "code",
   "execution_count": 84,
   "metadata": {},
   "outputs": [],
   "source": [
    "features = torch.from_numpy(features)"
   ]
  },
  {
   "cell_type": "code",
   "execution_count": 85,
   "metadata": {},
   "outputs": [],
   "source": [
    "velocity = extractor.extract_features(features)[\"Joint Velocity\"]"
   ]
  },
  {
   "cell_type": "code",
   "execution_count": 86,
   "metadata": {},
   "outputs": [
    {
     "data": {
      "text/plain": [
       "torch.Size([2891, 33, 3])"
      ]
     },
     "execution_count": 86,
     "metadata": {},
     "output_type": "execute_result"
    }
   ],
   "source": [
    "velocity.shape"
   ]
  },
  {
   "cell_type": "code",
   "execution_count": 59,
   "metadata": {},
   "outputs": [],
   "source": [
    "v = torch.sqrt(velocity[..., 0]**2 + velocity[...,1]**2 + velocity[...,2]**2)"
   ]
  },
  {
   "cell_type": "code",
   "execution_count": 100,
   "metadata": {},
   "outputs": [
    {
     "data": {
      "text/plain": [
       "tensor([0.3571, 0.1667, 0.3930,  ..., 0.8490, 0.2423, 0.2423],\n",
       "       dtype=torch.float64)"
      ]
     },
     "execution_count": 100,
     "metadata": {},
     "output_type": "execute_result"
    }
   ],
   "source": [
    "s = v.sum(dim=-1)\n",
    "s.clamp_(max=3)"
   ]
  },
  {
   "cell_type": "code",
   "execution_count": 101,
   "metadata": {},
   "outputs": [
    {
     "data": {
      "text/plain": [
       "torch.Size([2891])"
      ]
     },
     "execution_count": 101,
     "metadata": {},
     "output_type": "execute_result"
    }
   ],
   "source": [
    "s.shape"
   ]
  },
  {
   "cell_type": "code",
   "execution_count": 102,
   "metadata": {},
   "outputs": [],
   "source": [
    "y = torch.arange(len(s))\n"
   ]
  },
  {
   "cell_type": "code",
   "execution_count": 103,
   "metadata": {},
   "outputs": [
    {
     "data": {
      "text/plain": [
       "torch.Size([2891])"
      ]
     },
     "execution_count": 103,
     "metadata": {},
     "output_type": "execute_result"
    }
   ],
   "source": [
    "y.shape"
   ]
  },
  {
   "cell_type": "code",
   "execution_count": 104,
   "metadata": {},
   "outputs": [],
   "source": [
    "import matplotlib.pyplot as plt"
   ]
  },
  {
   "cell_type": "code",
   "execution_count": 105,
   "metadata": {},
   "outputs": [
    {
     "data": {
      "image/png": "[encoded data removed]",
      "text/plain": [
       "<Figure size 640x480 with 1 Axes>"
      ]
     },
     "metadata": {},
     "output_type": "display_data"
    }
   ],
   "source": [
    "plt.plot(y, s)\n",
    "plt.show()"
   ]
  },
  {
   "cell_type": "code",
   "execution_count": 87,
   "metadata": {},
   "outputs": [
    {
     "data": {
      "text/plain": [
       "tensor([4., 1., 4.])"
      ]
     },
     "execution_count": 87,
     "metadata": {},
     "output_type": "execute_result"
    }
   ],
   "source": [
    "a = torch.Tensor([10,1,10])\n",
    "a.clamp(max=4)"
   ]
  },
  {
   "cell_type": "code",
   "execution_count": null,
   "metadata": {},
   "outputs": [],
   "source": [
    "frame_n = [n for ]"
   ]
  }
 ],
 "metadata": {
  "kernelspec": {
   "display_name": "Python 3",
   "language": "python",
   "name": "python3"
  },
  "language_info": {
   "codemirror_mode": {
    "name": "ipython",
    "version": 3
   },
   "file_extension": ".py",
   "mimetype": "text/x-python",
   "name": "python",
   "nbconvert_exporter": "python",
   "pygments_lexer": "ipython3",
   "version": "3.12.8"
  }
 },
 "nbformat": 4,
 "nbformat_minor": 2
}
