{
 "cells": [
  {
   "cell_type": "code",
   "execution_count": 1,
   "metadata": {},
   "outputs": [],
   "source": [
    "import torch\n",
    "import numpy as np\n",
    "from matplotlib import pyplot as plt\n",
    "import pandas as pd\n",
    "import os"
   ]
  },
  {
   "cell_type": "code",
   "execution_count": 3,
   "metadata": {},
   "outputs": [],
   "source": [
    "base_path = '../'\n",
    "# Gets label\n",
    "csv_path = os.path.join(base_path,'data/3DYoga90_corrected.csv')\n",
    "\n",
    "SAVE_PATH = os.path.join(base_path, 'nov25_Cross_fold')\n",
    "os.makedirs(SAVE_PATH, exist_ok=True)\n",
    "\n",
    "# Classification classes\n",
    "pose_list = ['mountain', 'half-way-lift', 'standing-forward-bend', 'downward-dog']\n",
    "subset_of_poses = pose_list\n",
    "NUM_CLASSES = len(pose_list)\n",
    "\n",
    "dataset_dir = os.path.join(base_path, 'official_dataset')\n",
    "assert os.path.isdir(dataset_dir), f\"Directory '{dataset_dir}' does not exist.\"\n",
    "\n",
    "device = 'cuda' if torch.cuda.is_available() else 'cpu'"
   ]
  },
  {
   "cell_type": "code",
   "execution_count": 4,
   "metadata": {},
   "outputs": [],
   "source": [
    "meta_info_path = os.path.join(base_path, 'data')\n",
    "pose_index = pd.read_csv(f'{meta_info_path}/pose-index.csv')\n",
    "sequence_index = pd.read_csv(f'{meta_info_path}/3DYoga90_corrected.csv')"
   ]
  },
  {
   "cell_type": "code",
   "execution_count": 5,
   "metadata": {},
   "outputs": [],
   "source": [
    "# Keep only relevant columns\n",
    "def read_meta_data():\n",
    "    meta_info_path = os.path.join(base_path, 'data')\n",
    "    pose_index = pd.read_csv(f'{meta_info_path}/pose-index.csv')\n",
    "    sequence_index = pd.read_csv(f'{meta_info_path}/3DYoga90_corrected.csv')\n",
    "    parquet_index = sequence_index[['sequence_id', 'l3_pose', 'split']]\n",
    "    return parquet_index"
   ]
  },
  {
   "cell_type": "code",
   "execution_count": 6,
   "metadata": {},
   "outputs": [],
   "source": [
    "\n",
    "import torch\n",
    "from torch.utils.data import Dataset\n",
    "import pandas as pd\n",
    "import numpy as np\n",
    "\n",
    "class Yoga3DDataset(Dataset):\n",
    "    def __init__(self, parquet_index, root_dir =  dataset_dir,subset_of_poses= subset_of_poses, sub_sampling_length = 20, transform=None, max_frames=None):\n",
    "        self.parquet_index = parquet_index\n",
    "        self.parquet_index = self.parquet_index[self.parquet_index['l3_pose'].isin(subset_of_poses)]\n",
    "        self.root_dir = root_dir\n",
    "        self.transform = transform\n",
    "        self.max_frames = max_frames\n",
    "        self.sub_sampling_length = sub_sampling_length\n",
    "        self.pose_to_label = {pose: i for i, pose in enumerate(subset_of_poses)}\n",
    "        self.use_augmentation = False\n",
    "\n",
    "        self.cache = dict()\n",
    "        self.idx_to_seq = dict()\n",
    "\n",
    "    def __len__(self):\n",
    "        return len(self.parquet_index)\n",
    "\n",
    "    def __getitem__(self, idx):\n",
    "        if idx in self.cache:\n",
    "            data, label = self.cache[idx]\n",
    "        else:\n",
    "            fname, pose_name, _ = self.parquet_index.iloc[idx]\n",
    "            label = self.pose_to_label[pose_name]\n",
    "            path = os.path.join(self.root_dir, f'{fname}.parquet')\n",
    "\n",
    "            df = pd.read_parquet(path)\n",
    "            df = df.drop(columns=['frame', 'row_id', 'type','landmark_index'])\n",
    "\n",
    "            data = self.to_tensor(df)\n",
    "            data = self.sub_sample(data)\n",
    "            data = data.permute(1,0,2)\n",
    "            self.cache[idx] = (data, label)\n",
    "            self.idx_to_seq[idx] = fname\n",
    "\n",
    "        if self.transform and self.use_augmentation:\n",
    "            data = self.transform(data.clone())\n",
    "\n",
    "        return data, label # C, T , V\n",
    "\n",
    "    def sub_sample(self, data):\n",
    "        # data(Number_of_frames, 3, 33)\n",
    "        total_frames = data.shape[0]\n",
    "        indices = torch.linspace(0, total_frames -1 , self.sub_sampling_length, dtype= int)\n",
    "        return data[indices]\n",
    "\n",
    "    def to_tensor(self, df):\n",
    "        # Reshape the data to (num_frames, num_landmarks, 3)  ## WHAT WHAT? this doesn't make sense remove this line you are doing (number of frames, 3 , 33)\n",
    "        num_frames = len(df) // 33  # Assuming 33 landmarks per frame\n",
    "        data = df.values.reshape(num_frames, 33, 3)\n",
    "        return torch.FloatTensor(data).permute(0, 2, 1)"
   ]
  },
  {
   "cell_type": "code",
   "execution_count": null,
   "metadata": {},
   "outputs": [],
   "source": []
  }
 ],
 "metadata": {
  "kernelspec": {
   "display_name": "base",
   "language": "python",
   "name": "python3"
  },
  "language_info": {
   "codemirror_mode": {
    "name": "ipython",
    "version": 3
   },
   "file_extension": ".py",
   "mimetype": "text/x-python",
   "name": "python",
   "nbconvert_exporter": "python",
   "pygments_lexer": "ipython3",
   "version": "3.12.4"
  }
 },
 "nbformat": 4,
 "nbformat_minor": 2
}
