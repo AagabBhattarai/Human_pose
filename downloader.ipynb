{
 "cells": [
  {
   "cell_type": "code",
   "execution_count": 12,
   "metadata": {},
   "outputs": [],
   "source": [
    "\n",
    "# !pip install yt_dlp\n",
    "import os\n",
    "import yt_dlp"
   ]
  },
  {
   "cell_type": "code",
   "execution_count": 43,
   "metadata": {},
   "outputs": [
    {
     "name": "stdout",
     "output_type": "stream",
     "text": [
      "Processing video from https://www.youtube.com/watch?v=HelFdy8B4X4 [45s - 50s]\n",
      "[youtube] Extracting URL: https://www.youtube.com/watch?v=HelFdy8B4X4\n",
      "[youtube] HelFdy8B4X4: Downloading webpage\n",
      "[youtube] HelFdy8B4X4: Downloading ios player API JSON\n",
      "[youtube] HelFdy8B4X4: Downloading mweb player API JSON\n",
      "[youtube] HelFdy8B4X4: Downloading m3u8 information\n",
      "[info] HelFdy8B4X4: Downloading 1 format(s): 609\n",
      "[info] HelFdy8B4X4: Downloading 1 time ranges: 45.0-50.0\n",
      "[download] Destination: ZZZ.mp4\n",
      "[download] 100% of    261.00B in 00:00:18 at 14.12B/s\n",
      "[VideoRemuxer] Not remuxing media file \"ZZZ.mp4\"; already is in target format mp4\n",
      "Successfully downloaded: ZZZ.mp4\n",
      "Download successful: True\n"
     ]
    }
   ],
   "source": [
    "import yt_dlp\n",
    "import os\n",
    "\n",
    "def download_youtube_clip(url, start_time, end_time, output_path):\n",
    "    ydl_opts = {\n",
    "        'format': 'bestvideo[height<=720][ext=mp4]/best[height<=720][ext=mp4]/best',\n",
    "        'outtmpl': output_path,\n",
    "        'download_ranges': lambda info_dict, yt_instance: [\n",
    "            {'start_time': start_time, 'end_time': end_time},\n",
    "        ],\n",
    "        'force_keyframes_at_cuts': True,\n",
    "        'postprocessors': [{\n",
    "            'key': 'FFmpegVideoRemuxer',\n",
    "            'preferedformat': 'mp4',\n",
    "        }],\n",
    "        # 'quiet': True,\n",
    "        # 'no_warnings': True,\n",
    "    }\n",
    "    \n",
    "    try:\n",
    "        with yt_dlp.YoutubeDL(ydl_opts) as ydl:\n",
    "            ydl.download([url])\n",
    "        print(f\"Successfully downloaded: {output_path}\")\n",
    "        return True\n",
    "    except Exception as e:\n",
    "        print(f\"An error occurred: {str(e)}\")\n",
    "        if os.path.exists(output_path):\n",
    "            os.remove(output_path)\n",
    "        return False\n",
    "\n",
    "# Usage\n",
    "url = \"https://www.youtube.com/watch?v=HelFdy8B4X4\"\n",
    "start_time = 45\n",
    "end_time = 50\n",
    "output_path = \"ZZZ.mp4\"\n",
    "\n",
    "print(f\"Processing video from {url} [{start_time}s - {end_time}s]\")\n",
    "result = download_youtube_clip(url, start_time, end_time, output_path)\n",
    "print(f\"Download successful: {result}\")"
   ]
  },
  {
   "cell_type": "code",
   "execution_count": 1,
   "metadata": {},
   "outputs": [
    {
     "name": "stdout",
     "output_type": "stream",
     "text": [
      "Processing video from https://www.youtube.com/watch?v=HelFdy8B4X4 [48s - 50s]\n",
      "[youtube] Extracting URL: https://www.youtube.com/watch?v=HelFdy8B4X4\n",
      "[youtube] HelFdy8B4X4: Downloading webpage\n",
      "[youtube] HelFdy8B4X4: Downloading ios player API JSON\n",
      "[youtube] HelFdy8B4X4: Downloading mweb player API JSON\n",
      "[youtube] HelFdy8B4X4: Downloading m3u8 information\n",
      "[info] HelFdy8B4X4: Downloading 1 format(s): 313+251\n",
      "[download] Destination: ZZ.mp4.webm\n",
      "[download] 100% of    6.22MiB in 00:00:05 at 1.22MiB/s\n",
      "Successfully downloaded: ZZ.mp4\n",
      "Download successful: True\n"
     ]
    }
   ],
   "source": [
    "import yt_dlp\n",
    "import os\n",
    "\n",
    "def download_youtube_clip(url, start_time, end_time, output_path):\n",
    "    ffmpeg_args = {\n",
    "        \"ffmpeg_i\": [\"-ss\", str(start_time), \"-to\", str(end_time)]\n",
    "    }\n",
    "\n",
    "    ydl_opts = {\n",
    "        # 'format': 'bestvideo[ext=mp4]',\n",
    "        'outtmpl': output_path,\n",
    "        'external_downloader': 'ffmpeg',\n",
    "        'external_downloader_args': ffmpeg_args,\n",
    "        # 'writesubtitles': False,\n",
    "        # 'writeautomaticsub': False,\n",
    "        # 'quiet': True,\n",
    "        # 'no_warnings': True,\n",
    "    }\n",
    "    \n",
    "    try:\n",
    "        with yt_dlp.YoutubeDL(ydl_opts) as ydl:\n",
    "            ydl.download([url])\n",
    "        print(f\"Successfully downloaded: {output_path}\")\n",
    "        return True\n",
    "    except Exception as e:\n",
    "        print(f\"An error occurred: {str(e)}\")\n",
    "        if os.path.exists(output_path):\n",
    "            os.remove(output_path)\n",
    "        return False\n",
    "\n",
    "# Usage\n",
    "url = \"https://www.youtube.com/watch?v=HelFdy8B4X4\"\n",
    "start_time = 48\n",
    "end_time = 50\n",
    "output_path = \"ZZ.mp4\"\n",
    "\n",
    "print(f\"Processing video from {url} [{start_time}s - {end_time}s]\")\n",
    "result = download_youtube_clip(url, start_time, end_time, output_path)\n",
    "print(f\"Download successful: {result}\")"
   ]
  },
  {
   "cell_type": "code",
   "execution_count": 3,
   "metadata": {},
   "outputs": [
    {
     "name": "stdout",
     "output_type": "stream",
     "text": [
      "Processing video from https://www.youtube.com/watch?v=HelFdy8B4X4 [48s - 50s]\n",
      "[youtube] Extracting URL: https://www.youtube.com/watch?v=HelFdy8B4X4\n",
      "[youtube] HelFdy8B4X4: Downloading webpage\n",
      "[youtube] HelFdy8B4X4: Downloading ios player API JSON\n",
      "[youtube] HelFdy8B4X4: Downloading mweb player API JSON\n",
      "[youtube] HelFdy8B4X4: Downloading m3u8 information\n",
      "[info] HelFdy8B4X4: Downloading 1 format(s): 247\n",
      "[download] Destination: BA.mp4\n",
      "[download] 100% of  675.65KiB in 00:00:03 at 183.16KiB/s\n",
      "[VideoRemuxer] Remuxing video from webm to mp4; Destination: BA.mp4.mp4\n",
      "Deleting original file BA.mp4 (pass -k to keep)\n",
      "Successfully downloaded: BA.mp4\n",
      "Download successful: True\n"
     ]
    }
   ],
   "source": [
    "def download_youtube_clip(url, start_time, end_time, output_path):\n",
    "    ffmpeg_args = {\n",
    "        \"ffmpeg_i\": [\"-ss\", str(start_time), \"-to\", str(end_time)]\n",
    "    }\n",
    "\n",
    "    ydl_opts = {\n",
    "        'format': 'bestvideo[height<=720]/best',\n",
    "        'outtmpl': output_path,\n",
    "        'external_downloader': 'ffmpeg',\n",
    "        'external_downloader_args': ffmpeg_args,\n",
    "        'postprocessors': [{\n",
    "            'key': 'FFmpegVideoRemuxer',\n",
    "            'preferedformat': 'mp4',\n",
    "        }],\n",
    "        # 'writesubtitles': False,\n",
    "        # 'writeautomaticsub': False,\n",
    "        # 'quiet': True,\n",
    "        # 'no_warnings': True,\n",
    "    }\n",
    "    \n",
    "    try:\n",
    "        with yt_dlp.YoutubeDL(ydl_opts) as ydl:\n",
    "            ydl.download([url])\n",
    "        print(f\"Successfully downloaded: {output_path}\")\n",
    "        return True\n",
    "    except Exception as e:\n",
    "        print(f\"An error occurred: {str(e)}\")\n",
    "        if os.path.exists(output_path):\n",
    "            os.remove(output_path)\n",
    "        return False\n",
    "\n",
    "# Usage remains the same\n",
    "# ...\n",
    "\n",
    "url = \"https://www.youtube.com/watch?v=HelFdy8B4X4\"\n",
    "start_time = 48\n",
    "end_time = 50\n",
    "output_path = \"BA.mp4\"\n",
    "\n",
    "print(f\"Processing video from {url} [{start_time}s - {end_time}s]\")\n",
    "result = download_youtube_clip(url, start_time, end_time, output_path)\n",
    "print(f\"Download successful: {result}\")"
   ]
  }
 ],
 "metadata": {
  "kernelspec": {
   "display_name": "base",
   "language": "python",
   "name": "python3"
  },
  "language_info": {
   "codemirror_mode": {
    "name": "ipython",
    "version": 3
   },
   "file_extension": ".py",
   "mimetype": "text/x-python",
   "name": "python",
   "nbconvert_exporter": "python",
   "pygments_lexer": "ipython3",
   "version": "3.12.4"
  }
 },
 "nbformat": 4,
 "nbformat_minor": 2
}
