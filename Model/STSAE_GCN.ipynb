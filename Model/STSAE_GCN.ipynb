{
  "cells": [
    {
      "cell_type": "code",
      "execution_count": 1,
      "metadata": {
        "id": "cu0Fn1p_CZC3"
      },
      "outputs": [],
      "source": [
        "import torch\n",
        "import numpy as np\n",
        "from matplotlib import pyplot as plt\n",
        "import pandas as pd\n",
        "import os"
      ]
    },
    {
      "cell_type": "code",
      "execution_count": 2,
      "metadata": {
        "id": "5-EmS0rvCZC4"
      },
      "outputs": [],
      "source": [
        "TEST_SPLIT = 0.1\n",
        "VAL_SPLIT = 0.2\n",
        "BATCH_SIZE = 16"
      ]
    },
    {
      "cell_type": "code",
      "execution_count": 3,
      "metadata": {
        "colab": {
          "base_uri": "https://localhost:8080/"
        },
        "id": "QFsLvlE_CZC5",
        "outputId": "4788b297-f78b-45ea-bfa3-be1abd6c031f"
      },
      "outputs": [
        {
          "output_type": "stream",
          "name": "stdout",
          "text": [
            "Mounted at /content/gdrive\n",
            "data  nov16_unknown_attention  official_dataset\n"
          ]
        }
      ],
      "source": [
        "# Mount Google Drive\n",
        "from google.colab import drive\n",
        "import os\n",
        "\n",
        "drive.mount('/content/gdrive')\n",
        "# Define base folder path\n",
        "base_path = '/content/gdrive/MyDrive/yoga_proj'\n",
        "!ls /content/gdrive/MyDrive/yoga_proj\n",
        "# base_path = '../'"
      ]
    },
    {
      "cell_type": "code",
      "execution_count": 4,
      "metadata": {
        "id": "1QiOQi7BCZC5"
      },
      "outputs": [],
      "source": [
        "import os\n",
        "\n",
        "# Gets label\n",
        "csv_path = os.path.join(base_path,'data/3DYoga90_corrected.csv')\n",
        "\n",
        "SAVE_PATH = os.path.join(base_path, 'nov16_unknown_attention')\n",
        "os.makedirs(SAVE_PATH, exist_ok=True)\n",
        "\n",
        "# Classification classes\n",
        "pose_list = ['mountain', 'half-way-lift', 'standing-forward-bend', 'downward-dog']\n",
        "# pose_list = ['mountain', 'half-way-lift', 'downward-dog']\n",
        "# pose_list = ['mountain', 'standing-forward-bend', 'downward-dog']\n",
        "# pose_list = ['half-way-lift', 'standing-forward-bend', 'downward-dog']\n",
        "# pose_list = ['mountain', 'half-way-lift', 'standing-forward-bend']\n",
        "NUM_CLASSES = len(pose_list)\n",
        "\n",
        "dataset_dir = os.path.join(base_path, 'official_dataset')\n",
        "assert os.path.isdir(dataset_dir), f\"Directory '{dataset_dir}' does not exist.\"\n"
      ]
    },
    {
      "cell_type": "code",
      "execution_count": 5,
      "metadata": {
        "id": "H_mVAnHmCZC6",
        "colab": {
          "base_uri": "https://localhost:8080/"
        },
        "outputId": "685e346e-3370-4080-f4a8-661e27c74843"
      },
      "outputs": [
        {
          "output_type": "stream",
          "name": "stdout",
          "text": [
            "2.5.1+cu121\n"
          ]
        }
      ],
      "source": [
        "print(torch.__version__)\n",
        "device = 'cuda' if torch.cuda.is_available() else 'cpu'"
      ]
    },
    {
      "cell_type": "code",
      "execution_count": 6,
      "metadata": {
        "id": "SCqudip1CZC6",
        "colab": {
          "base_uri": "https://localhost:8080/",
          "height": 206
        },
        "outputId": "1cff5d21-0d88-4d80-fa89-b9b74dc39875"
      },
      "outputs": [
        {
          "output_type": "execute_result",
          "data": {
            "text/plain": [
              "   level1_id level1_pose  level2_id        level2_pose  l3_pose_id   13_pose\n",
              "0          1    standing         11  standing-straight         101  mountain\n",
              "1          1    standing         11  standing-straight         102   goddess\n",
              "2          1    standing         11  standing-straight         103     eagle\n",
              "3          1    standing         11  standing-straight         104      tree\n",
              "4          1    standing         11  standing-straight         105     chair"
            ],
            "text/html": [
              "\n",
              "  <div id=\"df-3388f41b-46e8-497a-bb91-221d79759ad7\" class=\"colab-df-container\">\n",
              "    <div>\n",
              "<style scoped>\n",
              "    .dataframe tbody tr th:only-of-type {\n",
              "        vertical-align: middle;\n",
              "    }\n",
              "\n",
              "    .dataframe tbody tr th {\n",
              "        vertical-align: top;\n",
              "    }\n",
              "\n",
              "    .dataframe thead th {\n",
              "        text-align: right;\n",
              "    }\n",
              "</style>\n",
              "<table border=\"1\" class=\"dataframe\">\n",
              "  <thead>\n",
              "    <tr style=\"text-align: right;\">\n",
              "      <th></th>\n",
              "      <th>level1_id</th>\n",
              "      <th>level1_pose</th>\n",
              "      <th>level2_id</th>\n",
              "      <th>level2_pose</th>\n",
              "      <th>l3_pose_id</th>\n",
              "      <th>13_pose</th>\n",
              "    </tr>\n",
              "  </thead>\n",
              "  <tbody>\n",
              "    <tr>\n",
              "      <th>0</th>\n",
              "      <td>1</td>\n",
              "      <td>standing</td>\n",
              "      <td>11</td>\n",
              "      <td>standing-straight</td>\n",
              "      <td>101</td>\n",
              "      <td>mountain</td>\n",
              "    </tr>\n",
              "    <tr>\n",
              "      <th>1</th>\n",
              "      <td>1</td>\n",
              "      <td>standing</td>\n",
              "      <td>11</td>\n",
              "      <td>standing-straight</td>\n",
              "      <td>102</td>\n",
              "      <td>goddess</td>\n",
              "    </tr>\n",
              "    <tr>\n",
              "      <th>2</th>\n",
              "      <td>1</td>\n",
              "      <td>standing</td>\n",
              "      <td>11</td>\n",
              "      <td>standing-straight</td>\n",
              "      <td>103</td>\n",
              "      <td>eagle</td>\n",
              "    </tr>\n",
              "    <tr>\n",
              "      <th>3</th>\n",
              "      <td>1</td>\n",
              "      <td>standing</td>\n",
              "      <td>11</td>\n",
              "      <td>standing-straight</td>\n",
              "      <td>104</td>\n",
              "      <td>tree</td>\n",
              "    </tr>\n",
              "    <tr>\n",
              "      <th>4</th>\n",
              "      <td>1</td>\n",
              "      <td>standing</td>\n",
              "      <td>11</td>\n",
              "      <td>standing-straight</td>\n",
              "      <td>105</td>\n",
              "      <td>chair</td>\n",
              "    </tr>\n",
              "  </tbody>\n",
              "</table>\n",
              "</div>\n",
              "    <div class=\"colab-df-buttons\">\n",
              "\n",
              "  <div class=\"colab-df-container\">\n",
              "    <button class=\"colab-df-convert\" onclick=\"convertToInteractive('df-3388f41b-46e8-497a-bb91-221d79759ad7')\"\n",
              "            title=\"Convert this dataframe to an interactive table.\"\n",
              "            style=\"display:none;\">\n",
              "\n",
              "  <svg xmlns=\"http://www.w3.org/2000/svg\" height=\"24px\" viewBox=\"0 -960 960 960\">\n",
              "    <path d=\"M120-120v-720h720v720H120Zm60-500h600v-160H180v160Zm220 220h160v-160H400v160Zm0 220h160v-160H400v160ZM180-400h160v-160H180v160Zm440 0h160v-160H620v160ZM180-180h160v-160H180v160Zm440 0h160v-160H620v160Z\"/>\n",
              "  </svg>\n",
              "    </button>\n",
              "\n",
              "  <style>\n",
              "    .colab-df-container {\n",
              "      display:flex;\n",
              "      gap: 12px;\n",
              "    }\n",
              "\n",
              "    .colab-df-convert {\n",
              "      background-color: #E8F0FE;\n",
              "      border: none;\n",
              "      border-radius: 50%;\n",
              "      cursor: pointer;\n",
              "      display: none;\n",
              "      fill: #1967D2;\n",
              "      height: 32px;\n",
              "      padding: 0 0 0 0;\n",
              "      width: 32px;\n",
              "    }\n",
              "\n",
              "    .colab-df-convert:hover {\n",
              "      background-color: #E2EBFA;\n",
              "      box-shadow: 0px 1px 2px rgba(60, 64, 67, 0.3), 0px 1px 3px 1px rgba(60, 64, 67, 0.15);\n",
              "      fill: #174EA6;\n",
              "    }\n",
              "\n",
              "    .colab-df-buttons div {\n",
              "      margin-bottom: 4px;\n",
              "    }\n",
              "\n",
              "    [theme=dark] .colab-df-convert {\n",
              "      background-color: #3B4455;\n",
              "      fill: #D2E3FC;\n",
              "    }\n",
              "\n",
              "    [theme=dark] .colab-df-convert:hover {\n",
              "      background-color: #434B5C;\n",
              "      box-shadow: 0px 1px 3px 1px rgba(0, 0, 0, 0.15);\n",
              "      filter: drop-shadow(0px 1px 2px rgba(0, 0, 0, 0.3));\n",
              "      fill: #FFFFFF;\n",
              "    }\n",
              "  </style>\n",
              "\n",
              "    <script>\n",
              "      const buttonEl =\n",
              "        document.querySelector('#df-3388f41b-46e8-497a-bb91-221d79759ad7 button.colab-df-convert');\n",
              "      buttonEl.style.display =\n",
              "        google.colab.kernel.accessAllowed ? 'block' : 'none';\n",
              "\n",
              "      async function convertToInteractive(key) {\n",
              "        const element = document.querySelector('#df-3388f41b-46e8-497a-bb91-221d79759ad7');\n",
              "        const dataTable =\n",
              "          await google.colab.kernel.invokeFunction('convertToInteractive',\n",
              "                                                    [key], {});\n",
              "        if (!dataTable) return;\n",
              "\n",
              "        const docLinkHtml = 'Like what you see? Visit the ' +\n",
              "          '<a target=\"_blank\" href=https://colab.research.google.com/notebooks/data_table.ipynb>data table notebook</a>'\n",
              "          + ' to learn more about interactive tables.';\n",
              "        element.innerHTML = '';\n",
              "        dataTable['output_type'] = 'display_data';\n",
              "        await google.colab.output.renderOutput(dataTable, element);\n",
              "        const docLink = document.createElement('div');\n",
              "        docLink.innerHTML = docLinkHtml;\n",
              "        element.appendChild(docLink);\n",
              "      }\n",
              "    </script>\n",
              "  </div>\n",
              "\n",
              "\n",
              "<div id=\"df-f352ffd6-0fa0-4ad4-95df-246a190679b2\">\n",
              "  <button class=\"colab-df-quickchart\" onclick=\"quickchart('df-f352ffd6-0fa0-4ad4-95df-246a190679b2')\"\n",
              "            title=\"Suggest charts\"\n",
              "            style=\"display:none;\">\n",
              "\n",
              "<svg xmlns=\"http://www.w3.org/2000/svg\" height=\"24px\"viewBox=\"0 0 24 24\"\n",
              "     width=\"24px\">\n",
              "    <g>\n",
              "        <path d=\"M19 3H5c-1.1 0-2 .9-2 2v14c0 1.1.9 2 2 2h14c1.1 0 2-.9 2-2V5c0-1.1-.9-2-2-2zM9 17H7v-7h2v7zm4 0h-2V7h2v10zm4 0h-2v-4h2v4z\"/>\n",
              "    </g>\n",
              "</svg>\n",
              "  </button>\n",
              "\n",
              "<style>\n",
              "  .colab-df-quickchart {\n",
              "      --bg-color: #E8F0FE;\n",
              "      --fill-color: #1967D2;\n",
              "      --hover-bg-color: #E2EBFA;\n",
              "      --hover-fill-color: #174EA6;\n",
              "      --disabled-fill-color: #AAA;\n",
              "      --disabled-bg-color: #DDD;\n",
              "  }\n",
              "\n",
              "  [theme=dark] .colab-df-quickchart {\n",
              "      --bg-color: #3B4455;\n",
              "      --fill-color: #D2E3FC;\n",
              "      --hover-bg-color: #434B5C;\n",
              "      --hover-fill-color: #FFFFFF;\n",
              "      --disabled-bg-color: #3B4455;\n",
              "      --disabled-fill-color: #666;\n",
              "  }\n",
              "\n",
              "  .colab-df-quickchart {\n",
              "    background-color: var(--bg-color);\n",
              "    border: none;\n",
              "    border-radius: 50%;\n",
              "    cursor: pointer;\n",
              "    display: none;\n",
              "    fill: var(--fill-color);\n",
              "    height: 32px;\n",
              "    padding: 0;\n",
              "    width: 32px;\n",
              "  }\n",
              "\n",
              "  .colab-df-quickchart:hover {\n",
              "    background-color: var(--hover-bg-color);\n",
              "    box-shadow: 0 1px 2px rgba(60, 64, 67, 0.3), 0 1px 3px 1px rgba(60, 64, 67, 0.15);\n",
              "    fill: var(--button-hover-fill-color);\n",
              "  }\n",
              "\n",
              "  .colab-df-quickchart-complete:disabled,\n",
              "  .colab-df-quickchart-complete:disabled:hover {\n",
              "    background-color: var(--disabled-bg-color);\n",
              "    fill: var(--disabled-fill-color);\n",
              "    box-shadow: none;\n",
              "  }\n",
              "\n",
              "  .colab-df-spinner {\n",
              "    border: 2px solid var(--fill-color);\n",
              "    border-color: transparent;\n",
              "    border-bottom-color: var(--fill-color);\n",
              "    animation:\n",
              "      spin 1s steps(1) infinite;\n",
              "  }\n",
              "\n",
              "  @keyframes spin {\n",
              "    0% {\n",
              "      border-color: transparent;\n",
              "      border-bottom-color: var(--fill-color);\n",
              "      border-left-color: var(--fill-color);\n",
              "    }\n",
              "    20% {\n",
              "      border-color: transparent;\n",
              "      border-left-color: var(--fill-color);\n",
              "      border-top-color: var(--fill-color);\n",
              "    }\n",
              "    30% {\n",
              "      border-color: transparent;\n",
              "      border-left-color: var(--fill-color);\n",
              "      border-top-color: var(--fill-color);\n",
              "      border-right-color: var(--fill-color);\n",
              "    }\n",
              "    40% {\n",
              "      border-color: transparent;\n",
              "      border-right-color: var(--fill-color);\n",
              "      border-top-color: var(--fill-color);\n",
              "    }\n",
              "    60% {\n",
              "      border-color: transparent;\n",
              "      border-right-color: var(--fill-color);\n",
              "    }\n",
              "    80% {\n",
              "      border-color: transparent;\n",
              "      border-right-color: var(--fill-color);\n",
              "      border-bottom-color: var(--fill-color);\n",
              "    }\n",
              "    90% {\n",
              "      border-color: transparent;\n",
              "      border-bottom-color: var(--fill-color);\n",
              "    }\n",
              "  }\n",
              "</style>\n",
              "\n",
              "  <script>\n",
              "    async function quickchart(key) {\n",
              "      const quickchartButtonEl =\n",
              "        document.querySelector('#' + key + ' button');\n",
              "      quickchartButtonEl.disabled = true;  // To prevent multiple clicks.\n",
              "      quickchartButtonEl.classList.add('colab-df-spinner');\n",
              "      try {\n",
              "        const charts = await google.colab.kernel.invokeFunction(\n",
              "            'suggestCharts', [key], {});\n",
              "      } catch (error) {\n",
              "        console.error('Error during call to suggestCharts:', error);\n",
              "      }\n",
              "      quickchartButtonEl.classList.remove('colab-df-spinner');\n",
              "      quickchartButtonEl.classList.add('colab-df-quickchart-complete');\n",
              "    }\n",
              "    (() => {\n",
              "      let quickchartButtonEl =\n",
              "        document.querySelector('#df-f352ffd6-0fa0-4ad4-95df-246a190679b2 button');\n",
              "      quickchartButtonEl.style.display =\n",
              "        google.colab.kernel.accessAllowed ? 'block' : 'none';\n",
              "    })();\n",
              "  </script>\n",
              "</div>\n",
              "\n",
              "    </div>\n",
              "  </div>\n"
            ],
            "application/vnd.google.colaboratory.intrinsic+json": {
              "type": "dataframe",
              "variable_name": "pose_index",
              "summary": "{\n  \"name\": \"pose_index\",\n  \"rows\": 90,\n  \"fields\": [\n    {\n      \"column\": \"level1_id\",\n      \"properties\": {\n        \"dtype\": \"number\",\n        \"std\": 1,\n        \"min\": 1,\n        \"max\": 6,\n        \"num_unique_values\": 6,\n        \"samples\": [\n          1,\n          2,\n          6\n        ],\n        \"semantic_type\": \"\",\n        \"description\": \"\"\n      }\n    },\n    {\n      \"column\": \"level1_pose\",\n      \"properties\": {\n        \"dtype\": \"category\",\n        \"num_unique_values\": 6,\n        \"samples\": [\n          \"standing\",\n          \"sitting\",\n          \"wheel\"\n        ],\n        \"semantic_type\": \"\",\n        \"description\": \"\"\n      }\n    },\n    {\n      \"column\": \"level2_id\",\n      \"properties\": {\n        \"dtype\": \"number\",\n        \"std\": 5,\n        \"min\": 11,\n        \"max\": 30,\n        \"num_unique_values\": 20,\n        \"samples\": [\n          11,\n          28,\n          26\n        ],\n        \"semantic_type\": \"\",\n        \"description\": \"\"\n      }\n    },\n    {\n      \"column\": \"level2_pose\",\n      \"properties\": {\n        \"dtype\": \"category\",\n        \"num_unique_values\": 20,\n        \"samples\": [\n          \"standing-straight\",\n          \"wheel-up-facing\",\n          \"reclining-side-facing\"\n        ],\n        \"semantic_type\": \"\",\n        \"description\": \"\"\n      }\n    },\n    {\n      \"column\": \"l3_pose_id\",\n      \"properties\": {\n        \"dtype\": \"number\",\n        \"std\": 26,\n        \"min\": 101,\n        \"max\": 190,\n        \"num_unique_values\": 90,\n        \"samples\": [\n          141,\n          123,\n          156\n        ],\n        \"semantic_type\": \"\",\n        \"description\": \"\"\n      }\n    },\n    {\n      \"column\": \"13_pose\",\n      \"properties\": {\n        \"dtype\": \"string\",\n        \"num_unique_values\": 90,\n        \"samples\": [\n          \"shooting-bow\",\n          \"standing-big-toe-hold\",\n          \"feather-peacock\"\n        ],\n        \"semantic_type\": \"\",\n        \"description\": \"\"\n      }\n    }\n  ]\n}"
            }
          },
          "metadata": {},
          "execution_count": 6
        }
      ],
      "source": [
        "meta_info_path = os.path.join(base_path, 'data')\n",
        "pose_index = pd.read_csv(f'{meta_info_path}/pose-index.csv')\n",
        "sequence_index = pd.read_csv(f'{meta_info_path}/3DYoga90_corrected.csv')\n",
        "\n",
        "pose_index.head()"
      ]
    },
    {
      "cell_type": "code",
      "execution_count": 7,
      "metadata": {
        "id": "PG2mAMJSCZC6",
        "colab": {
          "base_uri": "https://localhost:8080/"
        },
        "outputId": "15082629-a085-44bb-fbe1-6ea3561029c3"
      },
      "outputs": [
        {
          "output_type": "stream",
          "name": "stdout",
          "text": [
            "mountain 164\n",
            "half-way-lift 210\n",
            "standing-forward-bend 225\n",
            "downward-dog 246\n",
            "high-lunge 42\n",
            "low-lunge 44\n",
            "warrior-3 47\n",
            "side-plank 48\n",
            "balancing-table 44\n",
            "child 47\n",
            "tree 69\n",
            "extended-triangle 107\n",
            "bridge 41\n"
          ]
        },
        {
          "output_type": "execute_result",
          "data": {
            "text/plain": [
              "1334"
            ]
          },
          "metadata": {},
          "execution_count": 7
        }
      ],
      "source": [
        "list_poses = [p for p in sequence_index['l3_pose']]\n",
        "pose_dict = dict()\n",
        "for poses in list_poses:\n",
        "    if poses in pose_dict:\n",
        "        pose_dict[poses] += 1\n",
        "    else:\n",
        "        pose_dict[poses] =1\n",
        "sorted(pose_dict.items(), key= lambda item: item[1])\n",
        "poses = ['mountain',\n",
        "'half-way-lift',\n",
        "'standing-forward-bend',\n",
        "'downward-dog',\n",
        "'high-lunge',\n",
        "'low-lunge',\n",
        "'warrior-3',\n",
        "'side-plank',\n",
        "'balancing-table',\n",
        "'child',\n",
        "'tree',\n",
        "'extended-triangle',\n",
        "'bridge']\n",
        "for keys in poses:\n",
        "    print(keys, pose_dict[keys])\n",
        "\n",
        "sum(map(lambda k: pose_dict[k], poses))"
      ]
    },
    {
      "cell_type": "markdown",
      "metadata": {
        "id": "TpLOGWwACZC7"
      },
      "source": [
        "What does each file tell?\n",
        "\n",
        "1.) pose-index.csv -> Shows Heirarchical organization (THEN NOTHING MORE)\n",
        "\n",
        "2.) 3DYoga90.csv -> Total Main Info(i.e. along with RGB stream){\n",
        "    SequneceID: Parquet_FILE_NAME,\n",
        "    URL,\n",
        "    Frame Start and Frame Stop,\n",
        "    Pose Name, Training Test Split\n",
        "} `Difference between train and test? where to get the validation set from? How to do data augmentation?\n",
        "\n",
        "3.) Parquet Files -> {\n",
        "    Frame Number {\n",
        "        33 Landmarks\n",
        "    },\n",
        "    row-id: FrameNumber-TYPE-Landmark_index,\n",
        "    Coordinates: {x, y, z}\n",
        "}\n",
        "\n",
        "`PLEASE NOTE: The landmark coordinates are all normalized`"
      ]
    },
    {
      "cell_type": "markdown",
      "metadata": {
        "id": "1y0RRgDxCZC7"
      },
      "source": [
        "# Getting the data ready"
      ]
    },
    {
      "cell_type": "code",
      "execution_count": 8,
      "metadata": {
        "id": "Kg3fH4QhCZC8"
      },
      "outputs": [],
      "source": [
        "the_desired_poses = [\n",
        "  'downward-dog',\n",
        "  'high-lunge',\n",
        "  'low-lunge',\n",
        "  'warrior-3',\n",
        "  'side-plank',\n",
        "  'balancing-table',\n",
        "  'child',\n",
        "  'tree',\n",
        "  'extended-triangle',\n",
        "  'bridge']\n",
        "\n",
        "subset_of_poses = [\n",
        "  'mountain',\n",
        "  'downward-dog',\n",
        "  'standing-foward-bend',\n",
        "  'half-way-lift'\n",
        "]\n",
        "\n",
        "subset_of_poses = pose_list"
      ]
    },
    {
      "cell_type": "code",
      "execution_count": 9,
      "metadata": {
        "id": "JD1fgbe3CZC8"
      },
      "outputs": [],
      "source": [
        "# Keep only relevant columns\n",
        "def read_meta_data():\n",
        "    meta_info_path = os.path.join(base_path, 'data')\n",
        "    pose_index = pd.read_csv(f'{meta_info_path}/pose-index.csv')\n",
        "    sequence_index = pd.read_csv(f'{meta_info_path}/3DYoga90_corrected.csv')\n",
        "    parquet_index = sequence_index[['sequence_id', 'l3_pose', 'split']]\n",
        "    return parquet_index"
      ]
    },
    {
      "cell_type": "code",
      "execution_count": 10,
      "metadata": {
        "id": "zaw3MmIFCZC8"
      },
      "outputs": [],
      "source": [
        "import torch\n",
        "from torch.utils.data import Dataset\n",
        "import pandas as pd\n",
        "import numpy as np\n",
        "\n",
        "class Yoga3DDataset(Dataset):\n",
        "    def __init__(self, parquet_index, root_dir =  dataset_dir,subset_of_poses= subset_of_poses, sub_sampling_length = 20, transform=None, max_frames=None):\n",
        "        self.parquet_index = parquet_index\n",
        "        self.parquet_index = self.parquet_index[self.parquet_index['l3_pose'].isin(subset_of_poses)]\n",
        "        self.root_dir = root_dir\n",
        "        self.transform = transform\n",
        "        self.max_frames = max_frames\n",
        "        self.sub_sampling_length = sub_sampling_length\n",
        "        self.pose_to_label = {pose: i for i, pose in enumerate(subset_of_poses)}\n",
        "\n",
        "    def __len__(self):\n",
        "        return len(self.parquet_index)\n",
        "\n",
        "    def __getitem__(self, idx):\n",
        "        fname, pose_name, _ = self.parquet_index.iloc[idx]\n",
        "\n",
        "        path = os.path.join(self.root_dir, f'{fname}.parquet')\n",
        "\n",
        "        df = pd.read_parquet(path)\n",
        "        df = df.drop(columns=['frame', 'row_id', 'type','landmark_index'])\n",
        "\n",
        "        data = self.to_tensor(df)\n",
        "        data = self.sub_sample(data)\n",
        "        label = self.pose_to_label[pose_name]\n",
        "        return data.permute(1, 0, 2), label # C, T , V\n",
        "\n",
        "    def sub_sample(self, data):\n",
        "        # data(Number_of_frames, 3, 33)\n",
        "        total_frames = data.shape[0]\n",
        "        indices = torch.linspace(0, total_frames -1 , self.sub_sampling_length, dtype= int)\n",
        "        return data[indices]\n",
        "\n",
        "    def to_tensor(self, df):\n",
        "        # Reshape the data to (num_frames, num_landmarks, 3)  ## WHAT WHAT? this doesn't make sense remove this line you are doing (number of frames, 3 , 33)\n",
        "        num_frames = len(df) // 33  # Assuming 33 landmarks per frame\n",
        "        data = df.values.reshape(num_frames, 33, 3)\n",
        "        return torch.FloatTensor(data).permute(0, 2, 1)"
      ]
    },
    {
      "cell_type": "code",
      "execution_count": 11,
      "metadata": {
        "id": "x8-j_6zmCZC8"
      },
      "outputs": [],
      "source": [
        "import torch.nn as nn\n",
        "\n",
        "class AGCN(nn.Module):\n",
        "    def __init__(self, in_channels, out_channels):\n",
        "        super(AGCN, self).__init__()\n",
        "\n",
        "        # Initialize adjacency matrix for BlazePose (33 joints)\n",
        "        self.num_nodes = 33\n",
        "        # Define the natural connections in BlazePose skeleton\n",
        "        self.edges = [\n",
        "            # Torso\n",
        "            (11, 12), (12, 24), (24, 23), (23, 11),  # shoulders to hips\n",
        "            # Right arm\n",
        "            (12, 14), (14, 16), (16, 18), (18, 20), (20, 22),  # shoulder to fingertip\n",
        "            # Left arm\n",
        "            (11, 13), (13, 15), (15, 17), (17, 19), (19, 21),  # shoulder to fingertip\n",
        "            # Right leg\n",
        "            (24, 26), (26, 28), (28, 30), (30, 32),  # hip to foot\n",
        "            # Left leg\n",
        "            (23, 25), (25, 27), (27, 29), (29, 31),  # hip to foot\n",
        "            # Face\n",
        "            (0, 1), (1, 2), (2, 3), (3, 7),  # right eye\n",
        "            (0, 4), (4, 5), (5, 6), (6, 8),  # left eye\n",
        "            (9, 10),  # mouth\n",
        "            # Add connections to nose (0) from shoulders\n",
        "            # (0, 11), (0, 12)  # do we include this connection dear friend?\n",
        "        ]\n",
        "\n",
        "        # Create adjacency matrix\n",
        "        A = np.zeros((self.num_nodes, self.num_nodes))\n",
        "        for i, j in self.edges:\n",
        "            A[i, j] = 1\n",
        "            A[j, i] = 1  # Undirected graph\n",
        "\n",
        "        # Convert to tensor and make it a parameter\n",
        "        self.A = nn.Parameter(torch.from_numpy(A.astype(np.float32)))\n",
        "\n",
        "        # Create identity matrix\n",
        "        self.identity = nn.Parameter(torch.eye(self.num_nodes), requires_grad=False)\n",
        "\n",
        "        # 1x1 convolution for feature transformation\n",
        "        self.W = nn.Conv2d(in_channels, out_channels, kernel_size=1)\n",
        "\n",
        "    def forward(self, x):\n",
        "        # Compute degree matrix\n",
        "        D = torch.sum(self.A, dim=1)\n",
        "        D = torch.diag(torch.pow(D, -0.5))\n",
        "        # D_r = torch.diag(torch.pow(D, 0.5))\n",
        "\n",
        "        # Normalized adjacency matrix\n",
        "        A_norm = torch.matmul(torch.matmul(D, self.A + self.identity), D)\n",
        "\n",
        "        # Reshape input for matrix multiplication\n",
        "        # N, C, T, V = x.size()\n",
        "        x_reshape = x.permute(0, 2, 3, 1).contiguous()  # N, T, V, C\n",
        "        # Apply GCN operation\n",
        "        x_gc = torch.matmul(A_norm, x_reshape)  # N, T, V, C\n",
        "\n",
        "        # Reshape back\n",
        "        x_gc = x_gc.permute(0, 3, 1, 2).contiguous()  # N, C, T, V\n",
        "\n",
        "        # Apply 1x1 convolution\n",
        "        out = self.W(x_gc)\n",
        "\n",
        "        return out\n"
      ]
    },
    {
      "cell_type": "code",
      "execution_count": 12,
      "metadata": {
        "id": "Wtn_mpv9CZC8"
      },
      "outputs": [],
      "source": [
        "# agcn = AGCN(3, 64)\n",
        "# D = torch.sum(agcn.A, dim=1)\n",
        "# D = torch.diag(torch.pow(D, -0.5))\n",
        "# A_norm = torch.matmul(torch.matmul(D, agcn.A + agcn.identity), D)\n",
        "# # A_norm\n",
        "# agcn.A.shape\n",
        "# D.shape\n",
        "# torch.matmul(torch.matmul(D, agcn.A + agcn.identity), D)"
      ]
    },
    {
      "cell_type": "markdown",
      "metadata": {
        "id": "nn5818CLCZC8"
      },
      "source": [
        "![image.png](attachment:image.png)"
      ]
    },
    {
      "cell_type": "code",
      "execution_count": 13,
      "metadata": {
        "id": "CNv13nUNCZC9"
      },
      "outputs": [],
      "source": [
        "class STSAM(nn.Module):\n",
        "    def __init__(self, in_channels):\n",
        "        super(STSAM, self).__init__()\n",
        "\n",
        "        # 1x1 convolutions for Q, K, V\n",
        "        self.query_conv = nn.Conv2d(in_channels, in_channels, kernel_size=1)\n",
        "        self.key_conv = nn.Conv2d(in_channels, in_channels, kernel_size=1)\n",
        "        self.value_conv = nn.Conv2d(in_channels, in_channels, kernel_size=1)\n",
        "\n",
        "        # 1x1 convolutions for scaling attention maps\n",
        "        self.Ws = nn.Conv2d(in_channels, 1, kernel_size=1)\n",
        "        self.Wt = nn.Conv2d(in_channels, 1, kernel_size=1)\n",
        "\n",
        "    def forward(self, x):\n",
        "\\\n",
        "        N, C, T, V = x.size()\n",
        "\n",
        "        # Generate Q, K, V\n",
        "        Q = self.query_conv(x)\n",
        "        K = self.key_conv(x)\n",
        "        V = self.value_conv(x)\n",
        "\n",
        "        # Spatial attention\n",
        "        Qs = torch.mean(Q, dim=2, keepdim=True)  # (N, C, 1, V)\n",
        "        Ks = torch.mean(K, dim=2, keepdim=True)  # (N, C, 1, V)\n",
        "        Vs = torch.mean(V, dim=2, keepdim=True)  # (N, C, 1, V)\n",
        "\n",
        "        # Temporal attention\n",
        "        Qt = torch.mean(Q, dim=3, keepdim=True)  # (N, C, T, 1)\n",
        "        Kt = torch.mean(K, dim=3, keepdim=True)  # (N, C, T, 1)\n",
        "        Vt = torch.mean(V, dim=3, keepdim=True)  # (N, C, T, 1)\n",
        "\n",
        "        # Compute attention maps\n",
        "        Ms = torch.matmul(Qs.transpose(2, 3), Ks) / torch.sqrt(torch.tensor(C, dtype=torch.float))  # Spatial attention\n",
        "        Ms = torch.softmax(Ms, dim=-1)\n",
        "        Ms = torch.matmul(Ms, Vs.transpose(2, 3)).transpose(2, 3)\n",
        "\n",
        "        Mt = torch.matmul(Qt.transpose(2, 3), Kt) / torch.sqrt(torch.tensor(C, dtype=torch.float))  # Temporal attention\n",
        "        Mt = torch.softmax(Mt, dim=-1)\n",
        "        Mt = torch.matmul(Mt, Vt.transpose(2, 3)).transpose(2, 3)\n",
        "\n",
        "        # Scale attention maps\n",
        "        Ms1 = torch.sigmoid(self.Ws(Ms))  # (N, 1, 1, V)\n",
        "        Mt1 = torch.sigmoid(self.Wt(Mt))  # (N, 1, T, 1)\n",
        "\n",
        "        # Apply attention with residual connections\n",
        "        out = (x + x * Ms1) + (x + x * Mt1)\n",
        "\n",
        "        return out"
      ]
    },
    {
      "cell_type": "code",
      "execution_count": 14,
      "metadata": {
        "id": "bnCm6QuhCZC9"
      },
      "outputs": [],
      "source": [
        "import torch\n",
        "import torch.nn as nn\n",
        "\n",
        "class MTCN(nn.Module):\n",
        "    def __init__(self, in_channels, hidden_channels=None):\n",
        "        super(MTCN, self).__init__()\n",
        "\n",
        "        # If hidden_channels not specified, make it divisible by 6\n",
        "        if hidden_channels is None:\n",
        "            hidden_channels = in_channels - (in_channels % 6)\n",
        "\n",
        "        assert hidden_channels % 6 == 0, \"var: hidden_channels should always be multple of 6 because 6 branches\"\n",
        "\n",
        "        self.branch_channels = hidden_channels // 6\n",
        "\n",
        "        # Initial 1x1 conv to reduce channels\n",
        "        self.init_conv = nn.Conv2d(\n",
        "            in_channels,\n",
        "            hidden_channels,\n",
        "            kernel_size=1\n",
        "        )\n",
        "\n",
        "        # Branch 1: 1x1 Conv\n",
        "        self.branch1 = nn.Conv2d(\n",
        "            hidden_channels,\n",
        "            self.branch_channels,\n",
        "            kernel_size=1\n",
        "        )\n",
        "\n",
        "        # Branch 2: Max Pooling followed by 1x1 Conv to adjust channels\n",
        "        self.branch2 = nn.Sequential(\n",
        "            nn.MaxPool2d(kernel_size=(1, 3), padding=(0, 1), stride=1),\n",
        "            nn.Conv2d(hidden_channels, self.branch_channels, kernel_size=1)\n",
        "        )\n",
        "\n",
        "        # Branches 3-6: 1D Conv with different dilations\n",
        "        self.branches = nn.ModuleList([\n",
        "            nn.Conv2d(\n",
        "                hidden_channels,\n",
        "                self.branch_channels,\n",
        "                kernel_size=(1, 3),\n",
        "                padding=(0, dilation),\n",
        "                dilation=(1, dilation)\n",
        "            ) for dilation in range(1, 5)\n",
        "        ])\n",
        "\n",
        "        # Final 1x1 conv to restore original channel count\n",
        "        self.final_conv = nn.Conv2d(hidden_channels, in_channels, kernel_size=1)\n",
        "\n",
        "    def forward(self, x):\n",
        "        # x shape: (batch_size, C, V, T)\n",
        "\n",
        "        # Initial channel reduction\n",
        "        x = self.init_conv(x)\n",
        "\n",
        "        # Process each branch\n",
        "        branch1 = self.branch1(x)\n",
        "        branch2 = self.branch2(x)\n",
        "\n",
        "        # Process dilated convolution branches\n",
        "        branch_outputs = [branch1, branch2]\n",
        "        for branch in self.branches:\n",
        "            branch_outputs.append(branch(x))\n",
        "\n",
        "        # Concatenate all branch outputs\n",
        "        x = torch.cat(branch_outputs, dim=1)\n",
        "\n",
        "        # Final 1x1 conv\n",
        "        x = self.final_conv(x)\n",
        "\n",
        "        return x"
      ]
    },
    {
      "cell_type": "code",
      "execution_count": 15,
      "metadata": {
        "id": "EfgmXSoiCZC9"
      },
      "outputs": [],
      "source": [
        "\n",
        "class STSAE_GCN_Block(nn.Module):\n",
        "    def __init__(self, in_channels, out_channels):\n",
        "        super(STSAE_GCN_Block, self).__init__()\n",
        "        self.agcn = AGCN(in_channels, out_channels)\n",
        "        self.stsam = STSAM(out_channels)\n",
        "        self.mtcn = MTCN(out_channels, 48)\n",
        "\n",
        "    def forward(self, x):\n",
        "        x = self.agcn(x)\n",
        "        x = self.stsam(x)\n",
        "        x = self.mtcn(x)\n",
        "        return x\n",
        "\n",
        "class STSAE_GCN(nn.Module):\n",
        "    def __init__(self, in_channels, hidden_channels, num_classes, num_frames, num_blocks=9):\n",
        "        super(STSAE_GCN, self).__init__()\n",
        "        self.num_blocks = num_blocks\n",
        "\n",
        "        self.blocks = nn.ModuleList([\n",
        "            STSAE_GCN_Block(in_channels if i == 0 else hidden_channels,\n",
        "                            hidden_channels)\n",
        "            for i in range(num_blocks)\n",
        "        ])\n",
        "        num_nodes = 33\n",
        "        self.fc = nn.Linear(hidden_channels * num_nodes * num_frames, num_classes)\n",
        "\n",
        "    def forward(self, x):\n",
        "        # x shape: (batch_size, in_channels, num_frames, num_nodes)\n",
        "        for block in self.blocks:\n",
        "            x = block(x)\n",
        "\n",
        "        # Global average pooling\n",
        "        x = x.view(x.size(0), -1)\n",
        "        x = self.fc(x)\n",
        "        return x\n",
        "\n",
        "    def count_parameters(self):\n",
        "        total_params = 0\n",
        "        for name, parameter in self.named_parameters():\n",
        "            if parameter.requires_grad:\n",
        "                params = parameter.numel()\n",
        "                print(f\"{name}: {params}\")\n",
        "                total_params += params\n",
        "        print(f\"Total Trainable Params: {total_params}\")\n"
      ]
    },
    {
      "cell_type": "code",
      "execution_count": 16,
      "metadata": {
        "id": "GFgBfmOSCZC9"
      },
      "outputs": [],
      "source": [
        "import os\n",
        "import torch\n",
        "def save_checkpoint(model, optimizer, epoch, history, save_path = SAVE_PATH, best_path=None):\n",
        "    if best_path is not None:\n",
        "        chk_path = os.path.join(save_path, f'best_model.pth')\n",
        "        print(f\"Saving checkpoint to {chk_path}\")\n",
        "    else:\n",
        "        chk_path = os.path.join(save_path, f'checkpath_model.pth')\n",
        "        print(f\"Saving checkpoint to {chk_path}\")\n",
        "\n",
        "    # Combine model, optimizer, and history into one dictionary\n",
        "    checkpoint = {\n",
        "        'epoch': epoch + 1,  # Save the next epoch number for resuming\n",
        "        'model_state_dict': model.state_dict(),\n",
        "        'optimizer_state_dict': optimizer.state_dict(),\n",
        "        'history': history  # Save history along with the model and optimizer\n",
        "    }\n",
        "\n",
        "    # Save everything in a single file using torch.save\n",
        "    torch.save(checkpoint, chk_path)\n",
        "    print(f\"Checkpoint saved at epoch {epoch + 1}\")"
      ]
    },
    {
      "cell_type": "code",
      "execution_count": 17,
      "metadata": {
        "id": "mZprkJQvCZC9"
      },
      "outputs": [],
      "source": [
        "def load_checkpoint(model, optimizer, checkpoint_path):\n",
        "    \"\"\"\n",
        "    Load model and training state from a checkpoint\n",
        "    \"\"\"\n",
        "    print(f\"Loading checkpoint from {checkpoint_path}\")\n",
        "    checkpoint = torch.load(checkpoint_path, weights_only = False)\n",
        "\n",
        "    # Load model and optimizer states\n",
        "    model.load_state_dict(checkpoint['model_state_dict'])\n",
        "    optimizer.load_state_dict(checkpoint['optimizer_state_dict'])\n",
        "\n",
        "    # Get the epoch number to resume from\n",
        "    start_epoch = checkpoint['epoch']\n",
        "\n",
        "    # Load training history with new metrics\n",
        "    history = checkpoint.get('history', {\n",
        "        'train_loss': [], 'val_loss': [],\n",
        "        'train_acc': [], 'val_acc': [],\n",
        "        'train_precision': [], 'train_recall': [], 'train_f1': [],\n",
        "        'val_precision': [], 'val_recall': [], 'val_f1': [],\n",
        "        'learning_rates': []\n",
        "    })\n",
        "\n",
        "    return model, optimizer, start_epoch, history\n"
      ]
    },
    {
      "cell_type": "code",
      "execution_count": 18,
      "metadata": {
        "id": "dkDP9PAlCZC9"
      },
      "outputs": [],
      "source": [
        "class EarlyStopping:\n",
        "    \"\"\"Early stopping to prevent overfitting\"\"\"\n",
        "    def __init__(self, patience=7, min_delta=0):\n",
        "        self.patience = patience\n",
        "        self.min_delta = min_delta\n",
        "        self.counter = 0\n",
        "        self.best_loss = None\n",
        "        self.early_stop = False\n",
        "\n",
        "    def __call__(self, val_loss):\n",
        "        if self.best_loss is None:\n",
        "            self.best_loss = val_loss\n",
        "        # on default = 7 successive val_loss increase stop\n",
        "        elif val_loss > self.best_loss - self.min_delta:\n",
        "            self.counter += 1\n",
        "            if self.counter >= self.patience:\n",
        "                self.early_stop = True\n",
        "        else:\n",
        "            self.best_loss = val_loss\n",
        "            self.counter = 0"
      ]
    },
    {
      "cell_type": "code",
      "execution_count": 19,
      "metadata": {
        "id": "nNTAFuncCZC9"
      },
      "outputs": [],
      "source": [
        "import os\n",
        "import torch\n",
        "from torch.optim import lr_scheduler\n",
        "from sklearn.metrics import precision_score, recall_score, f1_score\n",
        "from tqdm import tqdm\n",
        "\n",
        "def train_model(model, train_loader, val_loader, criterion, optimizer, dataset, num_epochs=50, patience=18, log_interval=10, checkpoint_path=None, unfreeze_epoch=5, num_layers_unfreeze=3):\n",
        "    device = torch.device(\"cuda\" if torch.cuda.is_available() else \"cpu\")\n",
        "    model = model.to(device)\n",
        "    print(\"Using device:\", device)\n",
        "\n",
        "    # Initialize scheduler\n",
        "    scheduler = lr_scheduler.ReduceLROnPlateau(optimizer, mode='min', factor=0.1, patience=4)\n",
        "\n",
        "    # Initialize early stopping\n",
        "    early_stopping = EarlyStopping(patience=patience, min_delta=1e-4)\n",
        "\n",
        "    start_epoch = 0\n",
        "    best_val_loss = float('inf')\n",
        "\n",
        "    # Initialize history for loss, accuracy, precision, recall, and F1\n",
        "    history = {\n",
        "        'train_loss': [], 'val_loss': [],\n",
        "        'train_acc': [], 'val_acc': [],\n",
        "        'train_precision': [], 'train_recall': [], 'train_f1': [],\n",
        "        'val_precision': [], 'val_recall': [], 'val_f1': [],\n",
        "        'learning_rates': []\n",
        "    }\n",
        "\n",
        "    # Check for checkpoint and load if available\n",
        "    if checkpoint_path and os.path.exists(checkpoint_path):\n",
        "        model, optimizer, start_epoch, history = load_checkpoint(model, optimizer, checkpoint_path)\n",
        "        print(f\"Resuming training from epoch {start_epoch}\")\n",
        "        torch.cuda.empty_cache()\n",
        "\n",
        "    for epoch in range(start_epoch, num_epochs):\n",
        "        # if epoch == unfreeze_epoch:\n",
        "        #     print(f\"Unfreezing last {num_layers_unfreeze} layers of CNN\")\n",
        "        #     model.unfreeze_features_gradually(num_layers=num_layers_unfreeze)\n",
        "        print(f'\\nEpoch {epoch + 1}/{num_epochs}')\n",
        "        # print(\"Augmeneted Use:\", dataset.use_augmented)\n",
        "        dataset.use_augmented = True\n",
        "\n",
        "        current_lr = optimizer.param_groups[0]['lr']\n",
        "        history['learning_rates'].append(current_lr)\n",
        "        print(f\"Current Learning Rate: {current_lr}\")\n",
        "\n",
        "        # Training phase\n",
        "        model.train()\n",
        "        train_loss, train_correct, train_total = 0.0, 0, 0\n",
        "        train_true, train_pred = [], []\n",
        "\n",
        "        train_loader_tqdm = tqdm(enumerate(train_loader), total=len(train_loader), desc=\"Training\")\n",
        "        for batch_idx, (inputs, labels) in train_loader_tqdm:\n",
        "            inputs, labels = inputs.to(device), labels.to(device)\n",
        "            optimizer.zero_grad()\n",
        "            outputs = model(inputs)  # Pass sequence lengths to model forward function\n",
        "            loss = criterion(outputs, labels)\n",
        "            loss.backward()\n",
        "            torch.nn.utils.clip_grad_norm_(model.parameters(), max_norm=1.0)\n",
        "            optimizer.step()\n",
        "\n",
        "            train_loss += loss.item() * inputs.size(0)\n",
        "            _, predicted = torch.max(outputs, 1)\n",
        "            train_correct += (predicted == labels).sum().item()\n",
        "            train_total += labels.size(0)\n",
        "\n",
        "            # Collect true and predicted labels for precision/recall\n",
        "            train_true.extend(labels.cpu().numpy())\n",
        "            train_pred.extend(predicted.cpu().numpy())\n",
        "\n",
        "            # Log batch-level updates\n",
        "            if batch_idx % log_interval == 0:\n",
        "                train_loader_tqdm.set_postfix({\n",
        "                    'loss': train_loss / (batch_idx + 1),\n",
        "                    'accuracy': 100.0 * train_correct / train_total\n",
        "                })\n",
        "\n",
        "        # Calculate training metrics\n",
        "        train_loss /= len(train_loader.dataset)\n",
        "        train_acc = 100.0 * train_correct / train_total\n",
        "        train_precision = precision_score(train_true, train_pred, average='weighted')\n",
        "        train_recall = recall_score(train_true, train_pred, average='weighted')\n",
        "        train_f1 = f1_score(train_true, train_pred, average='weighted')\n",
        "\n",
        "        dataset.use_augmented = False\n",
        "        # Validation phase\n",
        "        model.eval()\n",
        "        val_loss, val_correct, val_total = 0.0, 0, 0\n",
        "        val_true, val_pred = [], []\n",
        "\n",
        "        val_loader_tqdm = tqdm(enumerate(val_loader), total=len(val_loader), desc=\"Validation\")\n",
        "        with torch.no_grad():\n",
        "            for batch_idx, (inputs, labels) in val_loader_tqdm:\n",
        "                inputs, labels = inputs.to(device), labels.to(device)\n",
        "                outputs = model(inputs)  # Pass sequence lengths to model forward function\n",
        "                loss = criterion(outputs, labels)\n",
        "\n",
        "                val_loss += loss.item() * inputs.size(0)\n",
        "                _, predicted = torch.max(outputs, 1)\n",
        "                val_correct += (predicted == labels).sum().item()\n",
        "                val_total += labels.size(0)\n",
        "\n",
        "                # Collect true and predicted labels for precision/recall\n",
        "                val_true.extend(labels.cpu().numpy())\n",
        "                val_pred.extend(predicted.cpu().numpy())\n",
        "\n",
        "                # Log batch-level updates for validation\n",
        "                if batch_idx % log_interval == 0:\n",
        "                    val_loader_tqdm.set_postfix({\n",
        "                        'loss': val_loss / (batch_idx + 1),\n",
        "                        'accuracy': 100.0 * val_correct / val_total\n",
        "                    })\n",
        "\n",
        "        # Calculate validation metrics\n",
        "        val_loss /= len(val_loader.dataset)\n",
        "        val_acc = 100.0 * val_correct / val_total\n",
        "        val_precision = precision_score(val_true, val_pred, average='weighted')\n",
        "        val_recall = recall_score(val_true, val_pred, average='weighted')\n",
        "        val_f1 = f1_score(val_true, val_pred, average='weighted')\n",
        "\n",
        "        # Update history\n",
        "        history['train_loss'].append(train_loss)\n",
        "        history['val_loss'].append(val_loss)\n",
        "        history['train_acc'].append(train_acc)\n",
        "        history['val_acc'].append(val_acc)\n",
        "        history['train_precision'].append(train_precision)\n",
        "        history['train_recall'].append(train_recall)\n",
        "        history['train_f1'].append(train_f1)\n",
        "        history['val_precision'].append(val_precision)\n",
        "        history['val_recall'].append(val_recall)\n",
        "        history['val_f1'].append(val_f1)\n",
        "\n",
        "        # Print metrics at the end of the epoch\n",
        "        print(f'\\nEpoch {epoch + 1}/{num_epochs} Summary:')\n",
        "        print(f'Train Loss: {train_loss:.4f} | Train Acc: {train_acc:.2f}% | Train Precision: {train_precision:.2f} | Train Recall: {train_recall:.2f} | Train F1: {train_f1:.2f}')\n",
        "        print(f'Val Loss: {val_loss:.4f} | Val Acc: {val_acc:.2f}% | Val Precision: {val_precision:.2f} | Val Recall: {val_recall:.2f} | Val F1: {val_f1:.2f}')\n",
        "\n",
        "        # Save the best model checkpoint\n",
        "        if val_loss < best_val_loss:\n",
        "            best_val_loss = val_loss\n",
        "            best_model_path = os.path.join(SAVE_PATH, 'best_model.pth')\n",
        "            if best_model_path is not None:\n",
        "                print(best_model_path)\n",
        "            save_checkpoint(model, optimizer, epoch, history, SAVE_PATH, best_model_path)\n",
        "            print(f\"New best model saved! Validation Loss: {best_val_loss:.4f}\")\n",
        "\n",
        "        # Adjust learning rate based on validation loss\n",
        "        scheduler.step(val_loss)\n",
        "\n",
        "        # Check for early stopping\n",
        "        early_stopping(val_loss)\n",
        "        if early_stopping.early_stop:\n",
        "            print(\"Early stopping triggered\")\n",
        "            break\n",
        "\n",
        "    return model, history\n",
        "\n"
      ]
    },
    {
      "cell_type": "code",
      "execution_count": 20,
      "metadata": {
        "id": "yjp-JMKQCZC-"
      },
      "outputs": [],
      "source": [
        "import matplotlib.pyplot as plt\n",
        "from sklearn.metrics import confusion_matrix\n",
        "import seaborn as sns\n",
        "import torch\n",
        "import numpy as np\n",
        "import os\n",
        "from tqdm import tqdm\n",
        "\n",
        "def evaluate_model(model, test_loader, criterion, class_names,spath=SAVE_PATH, fsave='confusion_matrix.png'):\n",
        "    \"\"\"\n",
        "    Evaluate model on test set\n",
        "\n",
        "    Args:\n",
        "        model: PyTorch model\n",
        "        test_loader: DataLoader for test data\n",
        "        criterion: Loss function\n",
        "        class_names: List of class names\n",
        "        save_path: Directory to save the plot\n",
        "        fsave: Filename for confusion matrix plot\n",
        "    \"\"\"\n",
        "    csave = os.path.join(spath, fsave)\n",
        "    device = torch.device(\"cuda\" if torch.cuda.is_available() else \"cpu\")\n",
        "    model = model.to(device)\n",
        "    model.eval()\n",
        "\n",
        "    test_loss = 0.0\n",
        "    test_correct = 0\n",
        "    test_total = 0\n",
        "    all_predictions = []\n",
        "    all_labels = []\n",
        "\n",
        "    # Create progress bar\n",
        "    test_loader_tqdm = tqdm(test_loader, desc=\"Testing\")\n",
        "\n",
        "    with torch.no_grad():\n",
        "        for inputs, labels in test_loader_tqdm:\n",
        "            inputs = inputs.to(device)\n",
        "            labels = labels.to(device)\n",
        "            # Forward pass\n",
        "            outputs = model(inputs)\n",
        "            loss = criterion(outputs, labels)\n",
        "            test_loss += loss.item() * inputs.size(0)\n",
        "\n",
        "            # Get predictions\n",
        "            _, predicted = torch.max(outputs, 1)\n",
        "            # Calculate accuracy\n",
        "            test_correct += (predicted == labels).sum().item()\n",
        "            test_total += labels.size(0)\n",
        "\n",
        "            # Store predictions and labels for confusion matrix\n",
        "            all_predictions.extend(predicted.cpu().numpy())\n",
        "            all_labels.extend(labels.cpu().numpy())\n",
        "\n",
        "    # Calculate metrics\n",
        "    test_loss = test_loss / len(test_loader.dataset)\n",
        "    accuracy = 100 * test_correct / test_total\n",
        "\n",
        "    # Create confusion matrix\n",
        "    cm = confusion_matrix(all_labels, all_predictions)\n",
        "\n",
        "    # Plot confusion matrix\n",
        "    plt.figure(figsize=(10, 8))\n",
        "    sns.heatmap(cm, annot=True, fmt='d', cmap='Blues',\n",
        "                xticklabels=class_names, yticklabels=class_names)\n",
        "    plt.title('Confusion Matrix')\n",
        "    plt.xlabel('Predicted')\n",
        "    plt.ylabel('True')\n",
        "\n",
        "    # Save the plot\n",
        "    plt.savefig(csave)\n",
        "    plt.show()\n",
        "    plt.close()\n",
        "\n",
        "    print(f'Test Loss: {test_loss:.4f}')\n",
        "    print(f'Test Accuracy: {accuracy:.2f}%')\n",
        "\n",
        "    return test_loss, accuracy"
      ]
    },
    {
      "cell_type": "code",
      "execution_count": 21,
      "metadata": {
        "id": "7EWkYX8sCZC-"
      },
      "outputs": [],
      "source": [
        "from torch.utils.data import random_split, DataLoader\n",
        "\n",
        "def train_val_test_split(dataset, test_split = TEST_SPLIT, val_split= VAL_SPLIT):\n",
        "    total_size = len(dataset)\n",
        "    test_size = int(test_split * total_size)\n",
        "    val_size = int(val_split * total_size)\n",
        "    train_size = total_size - val_size - test_size\n",
        "\n",
        "    train_dataset, val_dataset, test_dataset = random_split(\n",
        "        dataset,\n",
        "        [train_size, val_size, test_size],\n",
        "        generator=torch.Generator().manual_seed(42)  # For reproducibility\n",
        "    )\n",
        "\n",
        "    return train_dataset, val_dataset, test_dataset\n",
        "\n",
        "def create_data_loaders(train_dataset, val_dataset, test_dataset, batch_size = BATCH_SIZE):\n",
        "    train_loader = DataLoader(\n",
        "        train_dataset,\n",
        "        batch_size=batch_size,\n",
        "        shuffle=True,\n",
        "        num_workers=2,\n",
        "        pin_memory= True\n",
        "    )\n",
        "\n",
        "    val_loader = DataLoader(\n",
        "        val_dataset,\n",
        "        batch_size=batch_size,\n",
        "        shuffle=False,\n",
        "        num_workers=2,\n",
        "        pin_memory= True\n",
        "    )\n",
        "\n",
        "    test_loader = DataLoader(\n",
        "        test_dataset,\n",
        "        batch_size=batch_size,\n",
        "        shuffle=False,\n",
        "        num_workers=2\n",
        "    )\n",
        "\n",
        "    return train_loader, val_loader, test_loader"
      ]
    },
    {
      "cell_type": "code",
      "execution_count": 22,
      "metadata": {
        "id": "-nVQoc_DCZC-"
      },
      "outputs": [],
      "source": [
        "\n",
        "def plot_training_curves(history, fsave='training_curves.png'):\n",
        "    tsave = os.path.join(SAVE_PATH, fsave)\n",
        "    # plt.style.use('seaborn')\n",
        "    fig, axs = plt.subplots(2, 3, figsize=(18, 10))\n",
        "\n",
        "    # Loss curves\n",
        "    axs[0, 0].plot(history['train_loss'], label='Train Loss', marker='o')\n",
        "    axs[0, 0].plot(history['val_loss'], label='Validation Loss', marker='o')\n",
        "    axs[0, 0].set_title('Loss')\n",
        "    axs[0, 0].legend()\n",
        "\n",
        "    # Accuracy curves\n",
        "    axs[0, 1].plot(history['train_acc'], label='Train Accuracy', marker='o')\n",
        "    axs[0, 1].plot(history['val_acc'], label='Validation Accuracy', marker='o')\n",
        "    axs[0, 1].set_title('Accuracy')\n",
        "    axs[0, 1].legend()\n",
        "\n",
        "    # Learning rate\n",
        "    axs[0, 2].plot(history['learning_rates'], label='Learning Rate', marker='o')\n",
        "    axs[0, 2].set_title('Learning Rate')\n",
        "    axs[0, 2].set_yscale('log')\n",
        "    axs[0, 2].legend()\n",
        "\n",
        "    # Precision\n",
        "    axs[1, 0].plot(history['train_precision'], label='Train Precision', marker='o')\n",
        "    axs[1, 0].plot(history['val_precision'], label='Validation Precision', marker='o')\n",
        "    axs[1, 0].set_title('Precision')\n",
        "    axs[1, 0].legend()\n",
        "\n",
        "    # Recall\n",
        "    axs[1, 1].plot(history['train_recall'], label='Train Recall', marker='o')\n",
        "    axs[1, 1].plot(history['val_recall'], label='Validation Recall', marker='o')\n",
        "    axs[1, 1].set_title('Recall')\n",
        "    axs[1, 1].legend()\n",
        "\n",
        "    # F1 Score\n",
        "    axs[1, 2].plot(history['train_f1'], label='Train F1', marker='o')\n",
        "    axs[1, 2].plot(history['val_f1'], label='Validation F1', marker='o')\n",
        "    axs[1, 2].set_title('F1 Score')\n",
        "    axs[1, 2].legend()\n",
        "\n",
        "    for ax in axs.flat:\n",
        "        ax.set_xlabel('Epoch')\n",
        "        ax.grid(True)\n",
        "\n",
        "    plt.tight_layout()\n",
        "    plt.savefig(tsave)\n",
        "    plt.show()\n",
        "    plt.close()\n"
      ]
    },
    {
      "cell_type": "code",
      "execution_count": 23,
      "metadata": {
        "id": "KaE3iYzvCZC-"
      },
      "outputs": [],
      "source": [
        "def main(in_channels = 3, hidden_channels= 64, num_classes= NUM_CLASSES, num_frames= 20, LR = 0.001, Epochs =50):\n",
        "    dataset = Yoga3DDataset(read_meta_data())\n",
        "    train_dataset, val_dataset, test_dataset = train_val_test_split(dataset)\n",
        "    train_loader, val_loader, test_loader = create_data_loaders(train_dataset, val_dataset, test_dataset)\n",
        "\n",
        "    # for data in test_dataset:\n",
        "    #     print(data)\n",
        "    #     break\n",
        "\n",
        "\n",
        "    model = STSAE_GCN(in_channels, hidden_channels, num_classes, num_frames)\n",
        "    criterion = nn.CrossEntropyLoss()\n",
        "    optimizer = torch.optim.Adam(model.parameters(), lr=LR)\n",
        "\n",
        "    print(\"Training the model\")\n",
        "    checkpoint_path = os.path.join(SAVE_PATH, 'best_model.pth')\n",
        "    model, history = train_model(\n",
        "        model,\n",
        "        train_loader,\n",
        "        val_loader,\n",
        "        criterion,\n",
        "        optimizer,\n",
        "        dataset,\n",
        "        Epochs,\n",
        "        patience=10,\n",
        "        log_interval=1,\n",
        "        checkpoint_path=None\n",
        "    )\n",
        "    # Plot the training curves\n",
        "    plot_training_curves(history)\n",
        "    if checkpoint_path and os.path.exists(checkpoint_path):\n",
        "            model, optimizer, start_epoch, history = load_checkpoint(\n",
        "                model, optimizer, checkpoint_path\n",
        "            )\n",
        "            print(f\"Resuming training from epoch {start_epoch}\")\n",
        "    evaluate_model(model, test_loader, criterion, pose_list)\n",
        "\n",
        "    model_save_path = os.path.join(SAVE_PATH, 'my_model.pth')\n",
        "    torch.save(model.state_dict(), model_save_path)"
      ]
    },
    {
      "cell_type": "code",
      "execution_count": 24,
      "metadata": {
        "id": "4u4iT8EPCZC-",
        "colab": {
          "base_uri": "https://localhost:8080/",
          "height": 1000
        },
        "outputId": "cf7a02a7-7407-4427-aede-a60b78562c50"
      },
      "outputs": [
        {
          "output_type": "stream",
          "name": "stdout",
          "text": [
            "Training the model\n",
            "Using device: cuda\n",
            "\n",
            "Epoch 1/50\n",
            "Current Learning Rate: 0.001\n"
          ]
        },
        {
          "output_type": "stream",
          "name": "stderr",
          "text": [
            "Training: 100%|██████████| 37/37 [03:25<00:00,  5.54s/it, loss=30, accuracy=40.9]\n",
            "Validation: 100%|██████████| 11/11 [00:56<00:00,  5.09s/it, loss=16.7, accuracy=52.1]\n"
          ]
        },
        {
          "output_type": "stream",
          "name": "stdout",
          "text": [
            "\n",
            "Epoch 1/50 Summary:\n",
            "Train Loss: 1.8756 | Train Acc: 40.88% | Train Precision: 0.42 | Train Recall: 0.41 | Train F1: 0.41\n",
            "Val Loss: 1.0891 | Val Acc: 52.07% | Val Precision: 0.73 | Val Recall: 0.52 | Val F1: 0.44\n",
            "/content/gdrive/MyDrive/yoga_proj/nov16_unknown_attention/best_model.pth\n",
            "Saving checkpoint to /content/gdrive/MyDrive/yoga_proj/nov16_unknown_attention/best_model.pth\n",
            "Checkpoint saved at epoch 1\n",
            "New best model saved! Validation Loss: 1.0891\n",
            "\n",
            "Epoch 2/50\n",
            "Current Learning Rate: 0.001\n"
          ]
        },
        {
          "output_type": "stream",
          "name": "stderr",
          "text": [
            "Training: 100%|██████████| 37/37 [00:05<00:00,  6.78it/s, loss=14.7, accuracy=69.8]\n",
            "Validation: 100%|██████████| 11/11 [00:01<00:00,  5.58it/s, loss=5.82, accuracy=88.8]\n"
          ]
        },
        {
          "output_type": "stream",
          "name": "stdout",
          "text": [
            "\n",
            "Epoch 2/50 Summary:\n",
            "Train Loss: 0.9169 | Train Acc: 69.76% | Train Precision: 0.70 | Train Recall: 0.70 | Train F1: 0.70\n",
            "Val Loss: 0.3786 | Val Acc: 88.76% | Val Precision: 0.89 | Val Recall: 0.89 | Val F1: 0.89\n",
            "/content/gdrive/MyDrive/yoga_proj/nov16_unknown_attention/best_model.pth\n",
            "Saving checkpoint to /content/gdrive/MyDrive/yoga_proj/nov16_unknown_attention/best_model.pth\n",
            "Checkpoint saved at epoch 2\n",
            "New best model saved! Validation Loss: 0.3786\n",
            "\n",
            "Epoch 3/50\n",
            "Current Learning Rate: 0.001\n"
          ]
        },
        {
          "output_type": "stream",
          "name": "stderr",
          "text": [
            "Training: 100%|██████████| 37/37 [00:06<00:00,  5.82it/s, loss=8.44, accuracy=87.3]\n",
            "Validation: 100%|██████████| 11/11 [00:01<00:00,  8.61it/s, loss=5.97, accuracy=89.3]"
          ]
        },
        {
          "output_type": "stream",
          "name": "stdout",
          "text": [
            "\n",
            "Epoch 3/50 Summary:\n",
            "Train Loss: 0.5277 | Train Acc: 87.33% | Train Precision: 0.87 | Train Recall: 0.87 | Train F1: 0.87\n",
            "Val Loss: 0.3887 | Val Acc: 89.35% | Val Precision: 0.91 | Val Recall: 0.89 | Val F1: 0.89\n",
            "\n",
            "Epoch 4/50\n",
            "Current Learning Rate: 0.001\n"
          ]
        },
        {
          "output_type": "stream",
          "name": "stderr",
          "text": [
            "\n",
            "Training: 100%|██████████| 37/37 [00:05<00:00,  7.03it/s, loss=7.83, accuracy=87.7]\n",
            "Validation: 100%|██████████| 11/11 [00:01<00:00,  5.78it/s, loss=8.08, accuracy=94.1]"
          ]
        },
        {
          "output_type": "stream",
          "name": "stdout",
          "text": [
            "\n",
            "Epoch 4/50 Summary:\n",
            "Train Loss: 0.4895 | Train Acc: 87.67% | Train Precision: 0.88 | Train Recall: 0.88 | Train F1: 0.88\n",
            "Val Loss: 0.5261 | Val Acc: 94.08% | Val Precision: 0.94 | Val Recall: 0.94 | Val F1: 0.94\n",
            "\n",
            "Epoch 5/50\n",
            "Current Learning Rate: 0.001\n"
          ]
        },
        {
          "output_type": "stream",
          "name": "stderr",
          "text": [
            "\n",
            "Training: 100%|██████████| 37/37 [00:06<00:00,  5.66it/s, loss=9.39, accuracy=88.5]\n",
            "Validation: 100%|██████████| 11/11 [00:01<00:00,  8.78it/s, loss=5.65, accuracy=91.1]\n"
          ]
        },
        {
          "output_type": "stream",
          "name": "stdout",
          "text": [
            "\n",
            "Epoch 5/50 Summary:\n",
            "Train Loss: 0.5871 | Train Acc: 88.51% | Train Precision: 0.90 | Train Recall: 0.89 | Train F1: 0.89\n",
            "Val Loss: 0.3677 | Val Acc: 91.12% | Val Precision: 0.92 | Val Recall: 0.91 | Val F1: 0.91\n",
            "/content/gdrive/MyDrive/yoga_proj/nov16_unknown_attention/best_model.pth\n",
            "Saving checkpoint to /content/gdrive/MyDrive/yoga_proj/nov16_unknown_attention/best_model.pth\n",
            "Checkpoint saved at epoch 5\n",
            "New best model saved! Validation Loss: 0.3677\n",
            "\n",
            "Epoch 6/50\n",
            "Current Learning Rate: 0.001\n"
          ]
        },
        {
          "output_type": "stream",
          "name": "stderr",
          "text": [
            "Training: 100%|██████████| 37/37 [00:05<00:00,  6.83it/s, loss=9.19, accuracy=83.6]\n",
            "Validation: 100%|██████████| 11/11 [00:01<00:00,  5.86it/s, loss=5.75, accuracy=89.9]"
          ]
        },
        {
          "output_type": "stream",
          "name": "stdout",
          "text": [
            "\n",
            "Epoch 6/50 Summary:\n",
            "Train Loss: 0.5745 | Train Acc: 83.61% | Train Precision: 0.85 | Train Recall: 0.84 | Train F1: 0.84\n",
            "Val Loss: 0.3742 | Val Acc: 89.94% | Val Precision: 0.91 | Val Recall: 0.90 | Val F1: 0.90\n",
            "\n",
            "Epoch 7/50\n",
            "Current Learning Rate: 0.001\n"
          ]
        },
        {
          "output_type": "stream",
          "name": "stderr",
          "text": [
            "\n",
            "Training: 100%|██████████| 37/37 [00:06<00:00,  5.82it/s, loss=7.31, accuracy=87.3]\n",
            "Validation: 100%|██████████| 11/11 [00:01<00:00,  8.96it/s, loss=3.77, accuracy=94.1]\n"
          ]
        },
        {
          "output_type": "stream",
          "name": "stdout",
          "text": [
            "\n",
            "Epoch 7/50 Summary:\n",
            "Train Loss: 0.4566 | Train Acc: 87.33% | Train Precision: 0.87 | Train Recall: 0.87 | Train F1: 0.87\n",
            "Val Loss: 0.2456 | Val Acc: 94.08% | Val Precision: 0.94 | Val Recall: 0.94 | Val F1: 0.94\n",
            "/content/gdrive/MyDrive/yoga_proj/nov16_unknown_attention/best_model.pth\n",
            "Saving checkpoint to /content/gdrive/MyDrive/yoga_proj/nov16_unknown_attention/best_model.pth\n",
            "Checkpoint saved at epoch 7\n",
            "New best model saved! Validation Loss: 0.2456\n",
            "\n",
            "Epoch 8/50\n",
            "Current Learning Rate: 0.001\n"
          ]
        },
        {
          "output_type": "stream",
          "name": "stderr",
          "text": [
            "Training: 100%|██████████| 37/37 [00:05<00:00,  7.06it/s, loss=7.56, accuracy=91.4]\n",
            "Validation: 100%|██████████| 11/11 [00:01<00:00,  5.69it/s, loss=10.1, accuracy=94.1]"
          ]
        },
        {
          "output_type": "stream",
          "name": "stdout",
          "text": [
            "\n",
            "Epoch 8/50 Summary:\n",
            "Train Loss: 0.4724 | Train Acc: 91.39% | Train Precision: 0.92 | Train Recall: 0.91 | Train F1: 0.91\n",
            "Val Loss: 0.6568 | Val Acc: 94.08% | Val Precision: 0.94 | Val Recall: 0.94 | Val F1: 0.94\n",
            "\n",
            "Epoch 9/50\n",
            "Current Learning Rate: 0.001\n"
          ]
        },
        {
          "output_type": "stream",
          "name": "stderr",
          "text": [
            "\n",
            "Training: 100%|██████████| 37/37 [00:06<00:00,  5.68it/s, loss=8.89, accuracy=89.4]\n",
            "Validation: 100%|██████████| 11/11 [00:01<00:00,  8.63it/s, loss=2.7, accuracy=96.4]\n"
          ]
        },
        {
          "output_type": "stream",
          "name": "stdout",
          "text": [
            "\n",
            "Epoch 9/50 Summary:\n",
            "Train Loss: 0.5556 | Train Acc: 89.36% | Train Precision: 0.90 | Train Recall: 0.89 | Train F1: 0.89\n",
            "Val Loss: 0.1755 | Val Acc: 96.45% | Val Precision: 0.96 | Val Recall: 0.96 | Val F1: 0.96\n",
            "/content/gdrive/MyDrive/yoga_proj/nov16_unknown_attention/best_model.pth\n",
            "Saving checkpoint to /content/gdrive/MyDrive/yoga_proj/nov16_unknown_attention/best_model.pth\n",
            "Checkpoint saved at epoch 9\n",
            "New best model saved! Validation Loss: 0.1755\n",
            "\n",
            "Epoch 10/50\n",
            "Current Learning Rate: 0.001\n"
          ]
        },
        {
          "output_type": "stream",
          "name": "stderr",
          "text": [
            "Training: 100%|██████████| 37/37 [00:05<00:00,  7.10it/s, loss=11.7, accuracy=89.7]\n",
            "Validation: 100%|██████████| 11/11 [00:01<00:00,  5.53it/s, loss=9.91, accuracy=81.1]"
          ]
        },
        {
          "output_type": "stream",
          "name": "stdout",
          "text": [
            "\n",
            "Epoch 10/50 Summary:\n",
            "Train Loss: 0.7318 | Train Acc: 89.70% | Train Precision: 0.90 | Train Recall: 0.90 | Train F1: 0.90\n",
            "Val Loss: 0.6451 | Val Acc: 81.07% | Val Precision: 0.84 | Val Recall: 0.81 | Val F1: 0.80\n",
            "\n",
            "Epoch 11/50\n",
            "Current Learning Rate: 0.001\n"
          ]
        },
        {
          "output_type": "stream",
          "name": "stderr",
          "text": [
            "\n",
            "Training: 100%|██████████| 37/37 [00:06<00:00,  5.59it/s, loss=8.76, accuracy=89.2]\n",
            "Validation: 100%|██████████| 11/11 [00:01<00:00,  9.08it/s, loss=3.98, accuracy=92.9]"
          ]
        },
        {
          "output_type": "stream",
          "name": "stdout",
          "text": [
            "\n",
            "Epoch 11/50 Summary:\n",
            "Train Loss: 0.5473 | Train Acc: 89.19% | Train Precision: 0.89 | Train Recall: 0.89 | Train F1: 0.89\n",
            "Val Loss: 0.2590 | Val Acc: 92.90% | Val Precision: 0.93 | Val Recall: 0.93 | Val F1: 0.93\n",
            "\n",
            "Epoch 12/50\n",
            "Current Learning Rate: 0.001\n"
          ]
        },
        {
          "output_type": "stream",
          "name": "stderr",
          "text": [
            "\n",
            "Training: 100%|██████████| 37/37 [00:05<00:00,  6.88it/s, loss=9.19, accuracy=90.4]\n",
            "Validation: 100%|██████████| 11/11 [00:01<00:00,  5.96it/s, loss=3.68, accuracy=94.1]"
          ]
        },
        {
          "output_type": "stream",
          "name": "stdout",
          "text": [
            "\n",
            "Epoch 12/50 Summary:\n",
            "Train Loss: 0.5742 | Train Acc: 90.37% | Train Precision: 0.90 | Train Recall: 0.90 | Train F1: 0.90\n",
            "Val Loss: 0.2395 | Val Acc: 94.08% | Val Precision: 0.94 | Val Recall: 0.94 | Val F1: 0.94\n",
            "\n",
            "Epoch 13/50\n",
            "Current Learning Rate: 0.001\n"
          ]
        },
        {
          "output_type": "stream",
          "name": "stderr",
          "text": [
            "\n",
            "Training: 100%|██████████| 37/37 [00:06<00:00,  5.43it/s, loss=7.49, accuracy=92.6]\n",
            "Validation: 100%|██████████| 11/11 [00:01<00:00,  8.26it/s, loss=9.98, accuracy=94.7]"
          ]
        },
        {
          "output_type": "stream",
          "name": "stdout",
          "text": [
            "\n",
            "Epoch 13/50 Summary:\n",
            "Train Loss: 0.4678 | Train Acc: 92.57% | Train Precision: 0.93 | Train Recall: 0.93 | Train F1: 0.93\n",
            "Val Loss: 0.6493 | Val Acc: 94.67% | Val Precision: 0.95 | Val Recall: 0.95 | Val F1: 0.95\n",
            "\n",
            "Epoch 14/50\n",
            "Current Learning Rate: 0.001\n"
          ]
        },
        {
          "output_type": "stream",
          "name": "stderr",
          "text": [
            "\n",
            "Training: 100%|██████████| 37/37 [00:05<00:00,  7.12it/s, loss=8.79, accuracy=90.9]\n",
            "Validation: 100%|██████████| 11/11 [00:01<00:00,  6.61it/s, loss=6.37, accuracy=92.9]"
          ]
        },
        {
          "output_type": "stream",
          "name": "stdout",
          "text": [
            "\n",
            "Epoch 14/50 Summary:\n",
            "Train Loss: 0.5493 | Train Acc: 90.88% | Train Precision: 0.91 | Train Recall: 0.91 | Train F1: 0.91\n",
            "Val Loss: 0.4149 | Val Acc: 92.90% | Val Precision: 0.93 | Val Recall: 0.93 | Val F1: 0.93\n",
            "\n",
            "Epoch 15/50\n",
            "Current Learning Rate: 0.0001\n"
          ]
        },
        {
          "output_type": "stream",
          "name": "stderr",
          "text": [
            "\n",
            "Training: 100%|██████████| 37/37 [00:06<00:00,  5.43it/s, loss=4.94, accuracy=92.6]\n",
            "Validation: 100%|██████████| 11/11 [00:01<00:00,  9.18it/s, loss=2.27, accuracy=95.3]\n"
          ]
        },
        {
          "output_type": "stream",
          "name": "stdout",
          "text": [
            "\n",
            "Epoch 15/50 Summary:\n",
            "Train Loss: 0.3088 | Train Acc: 92.57% | Train Precision: 0.93 | Train Recall: 0.93 | Train F1: 0.93\n",
            "Val Loss: 0.1480 | Val Acc: 95.27% | Val Precision: 0.96 | Val Recall: 0.95 | Val F1: 0.95\n",
            "/content/gdrive/MyDrive/yoga_proj/nov16_unknown_attention/best_model.pth\n",
            "Saving checkpoint to /content/gdrive/MyDrive/yoga_proj/nov16_unknown_attention/best_model.pth\n",
            "Checkpoint saved at epoch 15\n",
            "New best model saved! Validation Loss: 0.1480\n",
            "\n",
            "Epoch 16/50\n",
            "Current Learning Rate: 0.0001\n"
          ]
        },
        {
          "output_type": "stream",
          "name": "stderr",
          "text": [
            "Training: 100%|██████████| 37/37 [00:05<00:00,  7.04it/s, loss=3.61, accuracy=94.4]\n",
            "Validation: 100%|██████████| 11/11 [00:01<00:00,  6.03it/s, loss=2.07, accuracy=95.9]\n"
          ]
        },
        {
          "output_type": "stream",
          "name": "stdout",
          "text": [
            "\n",
            "Epoch 16/50 Summary:\n",
            "Train Loss: 0.2256 | Train Acc: 94.43% | Train Precision: 0.95 | Train Recall: 0.94 | Train F1: 0.94\n",
            "Val Loss: 0.1350 | Val Acc: 95.86% | Val Precision: 0.96 | Val Recall: 0.96 | Val F1: 0.96\n",
            "/content/gdrive/MyDrive/yoga_proj/nov16_unknown_attention/best_model.pth\n",
            "Saving checkpoint to /content/gdrive/MyDrive/yoga_proj/nov16_unknown_attention/best_model.pth\n",
            "Checkpoint saved at epoch 16\n",
            "New best model saved! Validation Loss: 0.1350\n",
            "\n",
            "Epoch 17/50\n",
            "Current Learning Rate: 0.0001\n"
          ]
        },
        {
          "output_type": "stream",
          "name": "stderr",
          "text": [
            "Training: 100%|██████████| 37/37 [00:06<00:00,  5.39it/s, loss=3.83, accuracy=94.9]\n",
            "Validation: 100%|██████████| 11/11 [00:01<00:00,  8.54it/s, loss=2.07, accuracy=96.4]\n"
          ]
        },
        {
          "output_type": "stream",
          "name": "stdout",
          "text": [
            "\n",
            "Epoch 17/50 Summary:\n",
            "Train Loss: 0.2395 | Train Acc: 94.93% | Train Precision: 0.95 | Train Recall: 0.95 | Train F1: 0.95\n",
            "Val Loss: 0.1344 | Val Acc: 96.45% | Val Precision: 0.97 | Val Recall: 0.96 | Val F1: 0.96\n",
            "/content/gdrive/MyDrive/yoga_proj/nov16_unknown_attention/best_model.pth\n",
            "Saving checkpoint to /content/gdrive/MyDrive/yoga_proj/nov16_unknown_attention/best_model.pth\n",
            "Checkpoint saved at epoch 17\n",
            "New best model saved! Validation Loss: 0.1344\n",
            "\n",
            "Epoch 18/50\n",
            "Current Learning Rate: 0.0001\n"
          ]
        },
        {
          "output_type": "stream",
          "name": "stderr",
          "text": [
            "Training: 100%|██████████| 37/37 [00:05<00:00,  6.64it/s, loss=3.2, accuracy=95.1]\n",
            "Validation: 100%|██████████| 11/11 [00:02<00:00,  3.84it/s, loss=2.11, accuracy=95.9]\n"
          ]
        },
        {
          "output_type": "stream",
          "name": "stdout",
          "text": [
            "\n",
            "Epoch 18/50 Summary:\n",
            "Train Loss: 0.1998 | Train Acc: 95.10% | Train Precision: 0.95 | Train Recall: 0.95 | Train F1: 0.95\n",
            "Val Loss: 0.1371 | Val Acc: 95.86% | Val Precision: 0.96 | Val Recall: 0.96 | Val F1: 0.96\n",
            "\n",
            "Epoch 19/50\n",
            "Current Learning Rate: 0.0001\n"
          ]
        },
        {
          "output_type": "stream",
          "name": "stderr",
          "text": [
            "Training: 100%|██████████| 37/37 [00:13<00:00,  2.82it/s, loss=3.45, accuracy=95.3]\n",
            "Validation: 100%|██████████| 11/11 [00:03<00:00,  3.16it/s, loss=2.06, accuracy=95.9]\n"
          ]
        },
        {
          "output_type": "stream",
          "name": "stdout",
          "text": [
            "\n",
            "Epoch 19/50 Summary:\n",
            "Train Loss: 0.2155 | Train Acc: 95.27% | Train Precision: 0.95 | Train Recall: 0.95 | Train F1: 0.95\n",
            "Val Loss: 0.1339 | Val Acc: 95.86% | Val Precision: 0.96 | Val Recall: 0.96 | Val F1: 0.96\n",
            "/content/gdrive/MyDrive/yoga_proj/nov16_unknown_attention/best_model.pth\n",
            "Saving checkpoint to /content/gdrive/MyDrive/yoga_proj/nov16_unknown_attention/best_model.pth\n",
            "Checkpoint saved at epoch 19\n",
            "New best model saved! Validation Loss: 0.1339\n",
            "\n",
            "Epoch 20/50\n",
            "Current Learning Rate: 0.0001\n"
          ]
        },
        {
          "output_type": "stream",
          "name": "stderr",
          "text": [
            "Training: 100%|██████████| 37/37 [00:07<00:00,  4.81it/s, loss=3.14, accuracy=95.6]\n",
            "Validation: 100%|██████████| 11/11 [00:01<00:00,  8.96it/s, loss=2.01, accuracy=97.6]\n"
          ]
        },
        {
          "output_type": "stream",
          "name": "stdout",
          "text": [
            "\n",
            "Epoch 20/50 Summary:\n",
            "Train Loss: 0.1963 | Train Acc: 95.61% | Train Precision: 0.96 | Train Recall: 0.96 | Train F1: 0.96\n",
            "Val Loss: 0.1307 | Val Acc: 97.63% | Val Precision: 0.98 | Val Recall: 0.98 | Val F1: 0.98\n",
            "/content/gdrive/MyDrive/yoga_proj/nov16_unknown_attention/best_model.pth\n",
            "Saving checkpoint to /content/gdrive/MyDrive/yoga_proj/nov16_unknown_attention/best_model.pth\n",
            "Checkpoint saved at epoch 20\n",
            "New best model saved! Validation Loss: 0.1307\n",
            "\n",
            "Epoch 21/50\n",
            "Current Learning Rate: 0.0001\n"
          ]
        },
        {
          "output_type": "stream",
          "name": "stderr",
          "text": [
            "Training: 100%|██████████| 37/37 [00:07<00:00,  5.12it/s, loss=3.03, accuracy=95.8]\n",
            "Validation: 100%|██████████| 11/11 [00:01<00:00,  8.98it/s, loss=1.81, accuracy=96.4]\n"
          ]
        },
        {
          "output_type": "stream",
          "name": "stdout",
          "text": [
            "\n",
            "Epoch 21/50 Summary:\n",
            "Train Loss: 0.1893 | Train Acc: 95.78% | Train Precision: 0.96 | Train Recall: 0.96 | Train F1: 0.96\n",
            "Val Loss: 0.1178 | Val Acc: 96.45% | Val Precision: 0.97 | Val Recall: 0.96 | Val F1: 0.96\n",
            "/content/gdrive/MyDrive/yoga_proj/nov16_unknown_attention/best_model.pth\n",
            "Saving checkpoint to /content/gdrive/MyDrive/yoga_proj/nov16_unknown_attention/best_model.pth\n",
            "Checkpoint saved at epoch 21\n",
            "New best model saved! Validation Loss: 0.1178\n",
            "\n",
            "Epoch 22/50\n",
            "Current Learning Rate: 0.0001\n"
          ]
        },
        {
          "output_type": "stream",
          "name": "stderr",
          "text": [
            "Training: 100%|██████████| 37/37 [00:05<00:00,  6.91it/s, loss=2.76, accuracy=95.8]\n",
            "Validation: 100%|██████████| 11/11 [00:01<00:00,  8.90it/s, loss=1.99, accuracy=97]"
          ]
        },
        {
          "output_type": "stream",
          "name": "stdout",
          "text": [
            "\n",
            "Epoch 22/50 Summary:\n",
            "Train Loss: 0.1724 | Train Acc: 95.78% | Train Precision: 0.96 | Train Recall: 0.96 | Train F1: 0.96\n",
            "Val Loss: 0.1296 | Val Acc: 97.04% | Val Precision: 0.97 | Val Recall: 0.97 | Val F1: 0.97\n",
            "\n",
            "Epoch 23/50\n",
            "Current Learning Rate: 0.0001\n"
          ]
        },
        {
          "output_type": "stream",
          "name": "stderr",
          "text": [
            "\n",
            "Training: 100%|██████████| 37/37 [00:07<00:00,  4.88it/s, loss=2.68, accuracy=95.8]\n",
            "Validation: 100%|██████████| 11/11 [00:01<00:00,  8.79it/s, loss=2, accuracy=96.4]"
          ]
        },
        {
          "output_type": "stream",
          "name": "stdout",
          "text": [
            "\n",
            "Epoch 23/50 Summary:\n",
            "Train Loss: 0.1674 | Train Acc: 95.78% | Train Precision: 0.96 | Train Recall: 0.96 | Train F1: 0.96\n",
            "Val Loss: 0.1305 | Val Acc: 96.45% | Val Precision: 0.97 | Val Recall: 0.96 | Val F1: 0.96\n",
            "\n",
            "Epoch 24/50\n",
            "Current Learning Rate: 0.0001\n"
          ]
        },
        {
          "output_type": "stream",
          "name": "stderr",
          "text": [
            "\n",
            "Training: 100%|██████████| 37/37 [00:05<00:00,  6.76it/s, loss=3.01, accuracy=96.3]\n",
            "Validation: 100%|██████████| 11/11 [00:01<00:00,  8.38it/s, loss=1.9, accuracy=97]"
          ]
        },
        {
          "output_type": "stream",
          "name": "stdout",
          "text": [
            "\n",
            "Epoch 24/50 Summary:\n",
            "Train Loss: 0.1879 | Train Acc: 96.28% | Train Precision: 0.96 | Train Recall: 0.96 | Train F1: 0.96\n",
            "Val Loss: 0.1239 | Val Acc: 97.04% | Val Precision: 0.97 | Val Recall: 0.97 | Val F1: 0.97\n",
            "\n",
            "Epoch 25/50\n",
            "Current Learning Rate: 0.0001\n"
          ]
        },
        {
          "output_type": "stream",
          "name": "stderr",
          "text": [
            "\n",
            "Training: 100%|██████████| 37/37 [00:07<00:00,  4.80it/s, loss=2.81, accuracy=96.5]\n",
            "Validation: 100%|██████████| 11/11 [00:01<00:00,  8.58it/s, loss=2.19, accuracy=96.4]"
          ]
        },
        {
          "output_type": "stream",
          "name": "stdout",
          "text": [
            "\n",
            "Epoch 25/50 Summary:\n",
            "Train Loss: 0.1755 | Train Acc: 96.45% | Train Precision: 0.96 | Train Recall: 0.96 | Train F1: 0.96\n",
            "Val Loss: 0.1424 | Val Acc: 96.45% | Val Precision: 0.97 | Val Recall: 0.96 | Val F1: 0.96\n",
            "\n",
            "Epoch 26/50\n",
            "Current Learning Rate: 0.0001\n"
          ]
        },
        {
          "output_type": "stream",
          "name": "stderr",
          "text": [
            "\n",
            "Training: 100%|██████████| 37/37 [00:05<00:00,  6.82it/s, loss=3.17, accuracy=96.8]\n",
            "Validation: 100%|██████████| 11/11 [00:01<00:00,  8.50it/s, loss=1.68, accuracy=97]\n"
          ]
        },
        {
          "output_type": "stream",
          "name": "stdout",
          "text": [
            "\n",
            "Epoch 26/50 Summary:\n",
            "Train Loss: 0.1980 | Train Acc: 96.79% | Train Precision: 0.97 | Train Recall: 0.97 | Train F1: 0.97\n",
            "Val Loss: 0.1095 | Val Acc: 97.04% | Val Precision: 0.97 | Val Recall: 0.97 | Val F1: 0.97\n",
            "/content/gdrive/MyDrive/yoga_proj/nov16_unknown_attention/best_model.pth\n",
            "Saving checkpoint to /content/gdrive/MyDrive/yoga_proj/nov16_unknown_attention/best_model.pth\n",
            "Checkpoint saved at epoch 26\n",
            "New best model saved! Validation Loss: 0.1095\n",
            "\n",
            "Epoch 27/50\n",
            "Current Learning Rate: 0.0001\n"
          ]
        },
        {
          "output_type": "stream",
          "name": "stderr",
          "text": [
            "Training: 100%|██████████| 37/37 [00:07<00:00,  4.78it/s, loss=2.53, accuracy=97]\n",
            "Validation: 100%|██████████| 11/11 [00:01<00:00,  8.84it/s, loss=1.66, accuracy=97]\n"
          ]
        },
        {
          "output_type": "stream",
          "name": "stdout",
          "text": [
            "\n",
            "Epoch 27/50 Summary:\n",
            "Train Loss: 0.1583 | Train Acc: 96.96% | Train Precision: 0.97 | Train Recall: 0.97 | Train F1: 0.97\n",
            "Val Loss: 0.1083 | Val Acc: 97.04% | Val Precision: 0.97 | Val Recall: 0.97 | Val F1: 0.97\n",
            "/content/gdrive/MyDrive/yoga_proj/nov16_unknown_attention/best_model.pth\n",
            "Saving checkpoint to /content/gdrive/MyDrive/yoga_proj/nov16_unknown_attention/best_model.pth\n",
            "Checkpoint saved at epoch 27\n",
            "New best model saved! Validation Loss: 0.1083\n",
            "\n",
            "Epoch 28/50\n",
            "Current Learning Rate: 0.0001\n"
          ]
        },
        {
          "output_type": "stream",
          "name": "stderr",
          "text": [
            "Training: 100%|██████████| 37/37 [00:05<00:00,  6.28it/s, loss=2.5, accuracy=96.8]\n",
            "Validation: 100%|██████████| 11/11 [00:01<00:00,  8.72it/s, loss=1.88, accuracy=97.6]"
          ]
        },
        {
          "output_type": "stream",
          "name": "stdout",
          "text": [
            "\n",
            "Epoch 28/50 Summary:\n",
            "Train Loss: 0.1564 | Train Acc: 96.79% | Train Precision: 0.97 | Train Recall: 0.97 | Train F1: 0.97\n",
            "Val Loss: 0.1222 | Val Acc: 97.63% | Val Precision: 0.98 | Val Recall: 0.98 | Val F1: 0.98\n",
            "\n",
            "Epoch 29/50\n",
            "Current Learning Rate: 0.0001\n"
          ]
        },
        {
          "output_type": "stream",
          "name": "stderr",
          "text": [
            "\n",
            "Training: 100%|██████████| 37/37 [00:07<00:00,  4.96it/s, loss=2.5, accuracy=97.1]\n",
            "Validation: 100%|██████████| 11/11 [00:01<00:00,  8.35it/s, loss=1.74, accuracy=96.4]"
          ]
        },
        {
          "output_type": "stream",
          "name": "stdout",
          "text": [
            "\n",
            "Epoch 29/50 Summary:\n",
            "Train Loss: 0.1561 | Train Acc: 97.13% | Train Precision: 0.97 | Train Recall: 0.97 | Train F1: 0.97\n",
            "Val Loss: 0.1135 | Val Acc: 96.45% | Val Precision: 0.96 | Val Recall: 0.96 | Val F1: 0.96\n",
            "\n",
            "Epoch 30/50\n",
            "Current Learning Rate: 0.0001\n"
          ]
        },
        {
          "output_type": "stream",
          "name": "stderr",
          "text": [
            "\n",
            "Training: 100%|██████████| 37/37 [00:05<00:00,  6.80it/s, loss=2.61, accuracy=97.1]\n",
            "Validation: 100%|██████████| 11/11 [00:01<00:00,  8.64it/s, loss=1.73, accuracy=97]"
          ]
        },
        {
          "output_type": "stream",
          "name": "stdout",
          "text": [
            "\n",
            "Epoch 30/50 Summary:\n",
            "Train Loss: 0.1630 | Train Acc: 97.13% | Train Precision: 0.97 | Train Recall: 0.97 | Train F1: 0.97\n",
            "Val Loss: 0.1126 | Val Acc: 97.04% | Val Precision: 0.97 | Val Recall: 0.97 | Val F1: 0.97\n",
            "\n",
            "Epoch 31/50\n",
            "Current Learning Rate: 0.0001\n"
          ]
        },
        {
          "output_type": "stream",
          "name": "stderr",
          "text": [
            "\n",
            "Training: 100%|██████████| 37/37 [00:07<00:00,  4.80it/s, loss=2.12, accuracy=97]\n",
            "Validation: 100%|██████████| 11/11 [00:01<00:00,  8.77it/s, loss=1.75, accuracy=97]"
          ]
        },
        {
          "output_type": "stream",
          "name": "stdout",
          "text": [
            "\n",
            "Epoch 31/50 Summary:\n",
            "Train Loss: 0.1322 | Train Acc: 96.96% | Train Precision: 0.97 | Train Recall: 0.97 | Train F1: 0.97\n",
            "Val Loss: 0.1136 | Val Acc: 97.04% | Val Precision: 0.97 | Val Recall: 0.97 | Val F1: 0.97\n",
            "\n",
            "Epoch 32/50\n",
            "Current Learning Rate: 0.0001\n"
          ]
        },
        {
          "output_type": "stream",
          "name": "stderr",
          "text": [
            "\n",
            "Training: 100%|██████████| 37/37 [00:05<00:00,  6.85it/s, loss=2.75, accuracy=96.5]\n",
            "Validation: 100%|██████████| 11/11 [00:01<00:00,  8.44it/s, loss=1.61, accuracy=97]\n"
          ]
        },
        {
          "output_type": "stream",
          "name": "stdout",
          "text": [
            "\n",
            "Epoch 32/50 Summary:\n",
            "Train Loss: 0.1719 | Train Acc: 96.45% | Train Precision: 0.96 | Train Recall: 0.96 | Train F1: 0.96\n",
            "Val Loss: 0.1049 | Val Acc: 97.04% | Val Precision: 0.97 | Val Recall: 0.97 | Val F1: 0.97\n",
            "/content/gdrive/MyDrive/yoga_proj/nov16_unknown_attention/best_model.pth\n",
            "Saving checkpoint to /content/gdrive/MyDrive/yoga_proj/nov16_unknown_attention/best_model.pth\n",
            "Checkpoint saved at epoch 32\n",
            "New best model saved! Validation Loss: 0.1049\n",
            "\n",
            "Epoch 33/50\n",
            "Current Learning Rate: 0.0001\n"
          ]
        },
        {
          "output_type": "stream",
          "name": "stderr",
          "text": [
            "Training: 100%|██████████| 37/37 [00:07<00:00,  4.88it/s, loss=2.43, accuracy=97]\n",
            "Validation: 100%|██████████| 11/11 [00:01<00:00,  8.57it/s, loss=1.93, accuracy=97]"
          ]
        },
        {
          "output_type": "stream",
          "name": "stdout",
          "text": [
            "\n",
            "Epoch 33/50 Summary:\n",
            "Train Loss: 0.1518 | Train Acc: 96.96% | Train Precision: 0.97 | Train Recall: 0.97 | Train F1: 0.97\n",
            "Val Loss: 0.1255 | Val Acc: 97.04% | Val Precision: 0.97 | Val Recall: 0.97 | Val F1: 0.97\n",
            "\n",
            "Epoch 34/50\n",
            "Current Learning Rate: 0.0001\n"
          ]
        },
        {
          "output_type": "stream",
          "name": "stderr",
          "text": [
            "\n",
            "Training: 100%|██████████| 37/37 [00:05<00:00,  6.73it/s, loss=2.26, accuracy=97.5]\n",
            "Validation: 100%|██████████| 11/11 [00:01<00:00,  8.20it/s, loss=1.37, accuracy=98.2]\n"
          ]
        },
        {
          "output_type": "stream",
          "name": "stdout",
          "text": [
            "\n",
            "Epoch 34/50 Summary:\n",
            "Train Loss: 0.1411 | Train Acc: 97.47% | Train Precision: 0.97 | Train Recall: 0.97 | Train F1: 0.97\n",
            "Val Loss: 0.0892 | Val Acc: 98.22% | Val Precision: 0.98 | Val Recall: 0.98 | Val F1: 0.98\n",
            "/content/gdrive/MyDrive/yoga_proj/nov16_unknown_attention/best_model.pth\n",
            "Saving checkpoint to /content/gdrive/MyDrive/yoga_proj/nov16_unknown_attention/best_model.pth\n",
            "Checkpoint saved at epoch 34\n",
            "New best model saved! Validation Loss: 0.0892\n",
            "\n",
            "Epoch 35/50\n",
            "Current Learning Rate: 0.0001\n"
          ]
        },
        {
          "output_type": "stream",
          "name": "stderr",
          "text": [
            "Training: 100%|██████████| 37/37 [00:07<00:00,  4.76it/s, loss=2.44, accuracy=97.6]\n",
            "Validation: 100%|██████████| 11/11 [00:01<00:00,  8.32it/s, loss=1.83, accuracy=97]"
          ]
        },
        {
          "output_type": "stream",
          "name": "stdout",
          "text": [
            "\n",
            "Epoch 35/50 Summary:\n",
            "Train Loss: 0.1522 | Train Acc: 97.64% | Train Precision: 0.98 | Train Recall: 0.98 | Train F1: 0.98\n",
            "Val Loss: 0.1188 | Val Acc: 97.04% | Val Precision: 0.97 | Val Recall: 0.97 | Val F1: 0.97\n",
            "\n",
            "Epoch 36/50\n",
            "Current Learning Rate: 0.0001\n"
          ]
        },
        {
          "output_type": "stream",
          "name": "stderr",
          "text": [
            "\n",
            "Training: 100%|██████████| 37/37 [00:05<00:00,  6.79it/s, loss=2.1, accuracy=97.5]\n",
            "Validation: 100%|██████████| 11/11 [00:01<00:00,  7.05it/s, loss=1.57, accuracy=97.6]\n"
          ]
        },
        {
          "output_type": "stream",
          "name": "stdout",
          "text": [
            "\n",
            "Epoch 36/50 Summary:\n",
            "Train Loss: 0.1314 | Train Acc: 97.47% | Train Precision: 0.97 | Train Recall: 0.97 | Train F1: 0.97\n",
            "Val Loss: 0.1024 | Val Acc: 97.63% | Val Precision: 0.98 | Val Recall: 0.98 | Val F1: 0.98\n",
            "\n",
            "Epoch 37/50\n",
            "Current Learning Rate: 0.0001\n"
          ]
        },
        {
          "output_type": "stream",
          "name": "stderr",
          "text": [
            "Training: 100%|██████████| 37/37 [00:07<00:00,  5.05it/s, loss=2.01, accuracy=97.5]\n",
            "Validation: 100%|██████████| 11/11 [00:01<00:00,  8.58it/s, loss=1.53, accuracy=97.6]"
          ]
        },
        {
          "output_type": "stream",
          "name": "stdout",
          "text": [
            "\n",
            "Epoch 37/50 Summary:\n",
            "Train Loss: 0.1256 | Train Acc: 97.47% | Train Precision: 0.97 | Train Recall: 0.97 | Train F1: 0.97\n",
            "Val Loss: 0.0997 | Val Acc: 97.63% | Val Precision: 0.98 | Val Recall: 0.98 | Val F1: 0.98\n",
            "\n",
            "Epoch 38/50\n",
            "Current Learning Rate: 0.0001\n"
          ]
        },
        {
          "output_type": "stream",
          "name": "stderr",
          "text": [
            "\n",
            "Training: 100%|██████████| 37/37 [00:05<00:00,  6.63it/s, loss=2.38, accuracy=97.5]\n",
            "Validation: 100%|██████████| 11/11 [00:01<00:00,  5.86it/s, loss=1.43, accuracy=98.2]"
          ]
        },
        {
          "output_type": "stream",
          "name": "stdout",
          "text": [
            "\n",
            "Epoch 38/50 Summary:\n",
            "Train Loss: 0.1485 | Train Acc: 97.47% | Train Precision: 0.97 | Train Recall: 0.97 | Train F1: 0.97\n",
            "Val Loss: 0.0928 | Val Acc: 98.22% | Val Precision: 0.98 | Val Recall: 0.98 | Val F1: 0.98\n",
            "\n",
            "Epoch 39/50\n",
            "Current Learning Rate: 0.0001\n"
          ]
        },
        {
          "output_type": "stream",
          "name": "stderr",
          "text": [
            "\n",
            "Training: 100%|██████████| 37/37 [00:07<00:00,  5.11it/s, loss=1.92, accuracy=97.6]\n",
            "Validation: 100%|██████████| 11/11 [00:01<00:00,  8.44it/s, loss=1.32, accuracy=98.2]\n"
          ]
        },
        {
          "output_type": "stream",
          "name": "stdout",
          "text": [
            "\n",
            "Epoch 39/50 Summary:\n",
            "Train Loss: 0.1197 | Train Acc: 97.64% | Train Precision: 0.98 | Train Recall: 0.98 | Train F1: 0.98\n",
            "Val Loss: 0.0862 | Val Acc: 98.22% | Val Precision: 0.98 | Val Recall: 0.98 | Val F1: 0.98\n",
            "/content/gdrive/MyDrive/yoga_proj/nov16_unknown_attention/best_model.pth\n",
            "Saving checkpoint to /content/gdrive/MyDrive/yoga_proj/nov16_unknown_attention/best_model.pth\n",
            "Checkpoint saved at epoch 39\n",
            "New best model saved! Validation Loss: 0.0862\n",
            "\n",
            "Epoch 40/50\n",
            "Current Learning Rate: 0.0001\n"
          ]
        },
        {
          "output_type": "stream",
          "name": "stderr",
          "text": [
            "Training: 100%|██████████| 37/37 [00:05<00:00,  6.49it/s, loss=1.92, accuracy=97.6]\n",
            "Validation: 100%|██████████| 11/11 [00:02<00:00,  5.24it/s, loss=1.31, accuracy=98.8]\n"
          ]
        },
        {
          "output_type": "stream",
          "name": "stdout",
          "text": [
            "\n",
            "Epoch 40/50 Summary:\n",
            "Train Loss: 0.1201 | Train Acc: 97.64% | Train Precision: 0.98 | Train Recall: 0.98 | Train F1: 0.98\n",
            "Val Loss: 0.0850 | Val Acc: 98.82% | Val Precision: 0.99 | Val Recall: 0.99 | Val F1: 0.99\n",
            "/content/gdrive/MyDrive/yoga_proj/nov16_unknown_attention/best_model.pth\n",
            "Saving checkpoint to /content/gdrive/MyDrive/yoga_proj/nov16_unknown_attention/best_model.pth\n",
            "Checkpoint saved at epoch 40\n",
            "New best model saved! Validation Loss: 0.0850\n",
            "\n",
            "Epoch 41/50\n",
            "Current Learning Rate: 0.0001\n"
          ]
        },
        {
          "output_type": "stream",
          "name": "stderr",
          "text": [
            "Training: 100%|██████████| 37/37 [00:06<00:00,  5.69it/s, loss=2.14, accuracy=97.1]\n",
            "Validation: 100%|██████████| 11/11 [00:01<00:00,  8.29it/s, loss=1.49, accuracy=98.2]"
          ]
        },
        {
          "output_type": "stream",
          "name": "stdout",
          "text": [
            "\n",
            "Epoch 41/50 Summary:\n",
            "Train Loss: 0.1338 | Train Acc: 97.13% | Train Precision: 0.97 | Train Recall: 0.97 | Train F1: 0.97\n",
            "Val Loss: 0.0969 | Val Acc: 98.22% | Val Precision: 0.98 | Val Recall: 0.98 | Val F1: 0.98\n",
            "\n",
            "Epoch 42/50\n",
            "Current Learning Rate: 0.0001\n"
          ]
        },
        {
          "output_type": "stream",
          "name": "stderr",
          "text": [
            "\n",
            "Training: 100%|██████████| 37/37 [00:06<00:00,  6.16it/s, loss=1.73, accuracy=97.6]\n",
            "Validation: 100%|██████████| 11/11 [00:02<00:00,  5.40it/s, loss=1.57, accuracy=98.8]"
          ]
        },
        {
          "output_type": "stream",
          "name": "stdout",
          "text": [
            "\n",
            "Epoch 42/50 Summary:\n",
            "Train Loss: 0.1079 | Train Acc: 97.64% | Train Precision: 0.98 | Train Recall: 0.98 | Train F1: 0.98\n",
            "Val Loss: 0.1019 | Val Acc: 98.82% | Val Precision: 0.99 | Val Recall: 0.99 | Val F1: 0.99\n",
            "\n",
            "Epoch 43/50\n",
            "Current Learning Rate: 0.0001\n"
          ]
        },
        {
          "output_type": "stream",
          "name": "stderr",
          "text": [
            "\n",
            "Training: 100%|██████████| 37/37 [00:05<00:00,  6.51it/s, loss=1.9, accuracy=97.8]\n",
            "Validation: 100%|██████████| 11/11 [00:01<00:00,  8.81it/s, loss=1.79, accuracy=96.4]"
          ]
        },
        {
          "output_type": "stream",
          "name": "stdout",
          "text": [
            "\n",
            "Epoch 43/50 Summary:\n",
            "Train Loss: 0.1189 | Train Acc: 97.80% | Train Precision: 0.98 | Train Recall: 0.98 | Train F1: 0.98\n",
            "Val Loss: 0.1166 | Val Acc: 96.45% | Val Precision: 0.96 | Val Recall: 0.96 | Val F1: 0.96\n",
            "\n",
            "Epoch 44/50\n",
            "Current Learning Rate: 0.0001\n"
          ]
        },
        {
          "output_type": "stream",
          "name": "stderr",
          "text": [
            "\n",
            "Training: 100%|██████████| 37/37 [00:06<00:00,  5.76it/s, loss=2.34, accuracy=97.6]\n",
            "Validation: 100%|██████████| 11/11 [00:02<00:00,  5.31it/s, loss=1.44, accuracy=97]"
          ]
        },
        {
          "output_type": "stream",
          "name": "stdout",
          "text": [
            "\n",
            "Epoch 44/50 Summary:\n",
            "Train Loss: 0.1460 | Train Acc: 97.64% | Train Precision: 0.98 | Train Recall: 0.98 | Train F1: 0.98\n",
            "Val Loss: 0.0940 | Val Acc: 97.04% | Val Precision: 0.97 | Val Recall: 0.97 | Val F1: 0.97\n",
            "\n",
            "Epoch 45/50\n",
            "Current Learning Rate: 0.0001\n"
          ]
        },
        {
          "output_type": "stream",
          "name": "stderr",
          "text": [
            "\n",
            "Training: 100%|██████████| 37/37 [00:05<00:00,  6.81it/s, loss=1.96, accuracy=97.8]\n",
            "Validation: 100%|██████████| 11/11 [00:01<00:00,  8.44it/s, loss=1.63, accuracy=98.2]"
          ]
        },
        {
          "output_type": "stream",
          "name": "stdout",
          "text": [
            "\n",
            "Epoch 45/50 Summary:\n",
            "Train Loss: 0.1224 | Train Acc: 97.80% | Train Precision: 0.98 | Train Recall: 0.98 | Train F1: 0.98\n",
            "Val Loss: 0.1060 | Val Acc: 98.22% | Val Precision: 0.98 | Val Recall: 0.98 | Val F1: 0.98\n",
            "\n",
            "Epoch 46/50\n",
            "Current Learning Rate: 1e-05\n"
          ]
        },
        {
          "output_type": "stream",
          "name": "stderr",
          "text": [
            "\n",
            "Training: 100%|██████████| 37/37 [00:06<00:00,  5.62it/s, loss=1.65, accuracy=98]\n",
            "Validation: 100%|██████████| 11/11 [00:02<00:00,  5.05it/s, loss=1.57, accuracy=98.2]"
          ]
        },
        {
          "output_type": "stream",
          "name": "stdout",
          "text": [
            "\n",
            "Epoch 46/50 Summary:\n",
            "Train Loss: 0.1034 | Train Acc: 97.97% | Train Precision: 0.98 | Train Recall: 0.98 | Train F1: 0.98\n",
            "Val Loss: 0.1023 | Val Acc: 98.22% | Val Precision: 0.98 | Val Recall: 0.98 | Val F1: 0.98\n",
            "\n",
            "Epoch 47/50\n",
            "Current Learning Rate: 1e-05\n"
          ]
        },
        {
          "output_type": "stream",
          "name": "stderr",
          "text": [
            "\n",
            "Training: 100%|██████████| 37/37 [00:05<00:00,  6.75it/s, loss=1.62, accuracy=97.8]\n",
            "Validation: 100%|██████████| 11/11 [00:01<00:00,  8.46it/s, loss=1.57, accuracy=98.2]"
          ]
        },
        {
          "output_type": "stream",
          "name": "stdout",
          "text": [
            "\n",
            "Epoch 47/50 Summary:\n",
            "Train Loss: 0.1009 | Train Acc: 97.80% | Train Precision: 0.98 | Train Recall: 0.98 | Train F1: 0.98\n",
            "Val Loss: 0.1023 | Val Acc: 98.22% | Val Precision: 0.98 | Val Recall: 0.98 | Val F1: 0.98\n",
            "\n",
            "Epoch 48/50\n",
            "Current Learning Rate: 1e-05\n"
          ]
        },
        {
          "output_type": "stream",
          "name": "stderr",
          "text": [
            "\n",
            "Training: 100%|██████████| 37/37 [00:06<00:00,  5.66it/s, loss=1.6, accuracy=98]\n",
            "Validation: 100%|██████████| 11/11 [00:02<00:00,  5.16it/s, loss=1.54, accuracy=97.6]"
          ]
        },
        {
          "output_type": "stream",
          "name": "stdout",
          "text": [
            "\n",
            "Epoch 48/50 Summary:\n",
            "Train Loss: 0.1001 | Train Acc: 97.97% | Train Precision: 0.98 | Train Recall: 0.98 | Train F1: 0.98\n",
            "Val Loss: 0.1004 | Val Acc: 97.63% | Val Precision: 0.98 | Val Recall: 0.98 | Val F1: 0.98\n",
            "\n",
            "Epoch 49/50\n",
            "Current Learning Rate: 1e-05\n"
          ]
        },
        {
          "output_type": "stream",
          "name": "stderr",
          "text": [
            "\n",
            "Training: 100%|██████████| 37/37 [00:05<00:00,  6.54it/s, loss=1.6, accuracy=98]\n",
            "Validation: 100%|██████████| 11/11 [00:01<00:00,  8.84it/s, loss=1.6, accuracy=97.6]"
          ]
        },
        {
          "output_type": "stream",
          "name": "stdout",
          "text": [
            "\n",
            "Epoch 49/50 Summary:\n",
            "Train Loss: 0.0997 | Train Acc: 97.97% | Train Precision: 0.98 | Train Recall: 0.98 | Train F1: 0.98\n",
            "Val Loss: 0.1039 | Val Acc: 97.63% | Val Precision: 0.98 | Val Recall: 0.98 | Val F1: 0.98\n",
            "\n",
            "Epoch 50/50\n",
            "Current Learning Rate: 1e-05\n"
          ]
        },
        {
          "output_type": "stream",
          "name": "stderr",
          "text": [
            "\n",
            "Training: 100%|██████████| 37/37 [00:06<00:00,  5.49it/s, loss=1.6, accuracy=98]\n",
            "Validation: 100%|██████████| 11/11 [00:01<00:00,  6.92it/s, loss=1.59, accuracy=97]\n"
          ]
        },
        {
          "output_type": "stream",
          "name": "stdout",
          "text": [
            "\n",
            "Epoch 50/50 Summary:\n",
            "Train Loss: 0.0997 | Train Acc: 97.97% | Train Precision: 0.98 | Train Recall: 0.98 | Train F1: 0.98\n",
            "Val Loss: 0.1035 | Val Acc: 97.04% | Val Precision: 0.97 | Val Recall: 0.97 | Val F1: 0.97\n",
            "Early stopping triggered\n"
          ]
        },
        {
          "output_type": "display_data",
          "data": {
            "text/plain": [
              "<Figure size 1800x1000 with 6 Axes>"
            ],
            "image/png": "[encoded data removed]"
          },
          "metadata": {}
        },
        {
          "output_type": "stream",
          "name": "stdout",
          "text": [
            "Loading checkpoint from /content/gdrive/MyDrive/yoga_proj/nov16_unknown_attention/best_model.pth\n",
            "Resuming training from epoch 40\n"
          ]
        },
        {
          "output_type": "stream",
          "name": "stderr",
          "text": [
            "Testing: 100%|██████████| 6/6 [00:32<00:00,  5.45s/it]\n"
          ]
        },
        {
          "output_type": "display_data",
          "data": {
            "text/plain": [
              "<Figure size 1000x800 with 2 Axes>"
            ],
            "image/png": "[encoded data removed]"
          },
          "metadata": {}
        },
        {
          "output_type": "stream",
          "name": "stdout",
          "text": [
            "Test Loss: 0.3798\n",
            "Test Accuracy: 96.43%\n"
          ]
        }
      ],
      "source": [
        "main()"
      ]
    },
    {
      "cell_type": "code",
      "execution_count": 24,
      "metadata": {
        "id": "5Bu0wk65CZC-"
      },
      "outputs": [],
      "source": []
    },
    {
      "cell_type": "code",
      "execution_count": 24,
      "metadata": {
        "id": "GpaMPADECZC-"
      },
      "outputs": [],
      "source": []
    }
  ],
  "metadata": {
    "kernelspec": {
      "display_name": "Python 3",
      "name": "python3"
    },
    "language_info": {
      "codemirror_mode": {
        "name": "ipython",
        "version": 3
      },
      "file_extension": ".py",
      "mimetype": "text/x-python",
      "name": "python",
      "nbconvert_exporter": "python",
      "pygments_lexer": "ipython3",
      "version": "3.12.4"
    },
    "colab": {
      "provenance": [],
      "gpuType": "T4"
    },
    "accelerator": "GPU"
  },
  "nbformat": 4,
  "nbformat_minor": 0
}