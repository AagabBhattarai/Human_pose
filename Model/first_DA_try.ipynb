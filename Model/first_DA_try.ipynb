{
  "cells": [
    {
      "cell_type": "code",
      "source": [
        "# Mount Google Drive\n",
        "from google.colab import drive\n",
        "import os\n",
        "\n",
        "drive.mount('/content/gdrive')\n",
        "# Define base folder path\n",
        "base_path = '/content/gdrive/MyDrive/RGB_data_stream'"
      ],
      "metadata": {
        "colab": {
          "base_uri": "https://localhost:8080/"
        },
        "id": "P68kcBzFO0e5",
        "outputId": "7ca8c571-8059-4f0a-859b-6ba061eb3ae2"
      },
      "execution_count": 3,
      "outputs": [
        {
          "output_type": "stream",
          "name": "stdout",
          "text": [
            "Mounted at /content/gdrive\n"
          ]
        }
      ]
    },
    {
      "cell_type": "code",
      "source": [
        "import os\n",
        "\n",
        "# Gets label\n",
        "csv_path = os.path.join(base_path,'data/3DYoga90_corrected.csv')\n",
        "\n",
        "# Gets valid samples\n",
        "sequence_path = os.path.join(base_path, 'short/downloaded_log.txt')\n",
        "\n",
        "# Path to save the model\n",
        "save_path = os.path.join(base_path, 'nov9_equal_interval_sample')\n",
        "os.makedirs(save_path, exist_ok=True)\n",
        "\n",
        "# Classification classes\n",
        "pose_list = ['mountain', 'half-way-lift', 'standing-forward-bend', 'downward-dog']\n",
        "NUM_CLASSES = len(pose_list)\n",
        "\n",
        "# Original Downloaded Seqeuence\n",
        "video_dir = os.path.join(base_path, 'short')\n",
        "\n",
        "# Pre_processed to tensor to make training fast # Makes video_dir redundant\n",
        "preprocessed_dir = os.path.join(base_path, 'complete_pre_processed')\n",
        "# os.makedirs(preprocessed_dir, exist_ok=True)\n",
        "assert os.path.isdir(preprocessed_dir), f\"Directory '{preprocessed_dir}' does not exist.\"\n",
        "\n",
        "# Horizontal Flip\n",
        "horz_aug = os.path.join(base_path, 'horz_aug')\n",
        "assert os.path.isdir(horz_aug), f\"Directory '{horz_aug}' does not exist.\"\n",
        "\n",
        "# Gaussian Blur\n",
        "gaussian_blur_aug = os.path.join(base_path, 'gaussian_blur_aug')\n",
        "assert os.path.isdir(gaussian_blur_aug), f\"Directory '{gaussian_blur_aug}' does not exist.\"\n",
        "\n",
        "# Random Resize Crop\n",
        "resize_aug = os.path.join(base_path, 'complete_pre_processed')\n",
        "assert os.path.isdir(resize_aug), f\"Directory '{resize_aug}' does not exist.\"\n"
      ],
      "metadata": {
        "id": "gB4ohAuZOulE"
      },
      "execution_count": 4,
      "outputs": []
    },
    {
      "cell_type": "code",
      "source": [
        "# Constants\n",
        "FRAME_HEIGHT = 224\n",
        "FRAME_WIDTH = 224\n",
        "SEQUENCE_LENGTH = 16\n",
        "\n",
        "BATCH_SIZE = 16\n",
        "LEARNING_RATE = 0.0001\n",
        "VALIDATION_SPLIT = 0.2\n",
        "TEST_SPLIT = 0.1\n",
        "NUM_EPOCHS = 50"
      ],
      "metadata": {
        "id": "59PIZHOqO-CK"
      },
      "execution_count": 5,
      "outputs": []
    },
    {
      "cell_type": "markdown",
      "metadata": {
        "id": "xxUMJ-OkKc4H"
      },
      "source": [
        "# Dataset\n",
        "\n",
        "Work Left\n",
        "1. Data Augmentation\n",
        "2. Expanding to more classes"
      ]
    },
    {
      "cell_type": "code",
      "source": [],
      "metadata": {
        "id": "DPO-IRekO84h"
      },
      "execution_count": 5,
      "outputs": []
    },
    {
      "cell_type": "code",
      "execution_count": 6,
      "metadata": {
        "id": "i-weN6y5Kc4J"
      },
      "outputs": [],
      "source": [
        "import os\n",
        "import torch\n",
        "import pandas as pd\n",
        "import numpy as np\n",
        "from torchvision.transforms import transforms\n",
        "from torch.utils.data import Dataset, DataLoader\n",
        "from PIL import Image\n",
        "import imageio\n",
        "import random\n",
        "\n",
        "class YogaVideoDataset(Dataset):\n",
        "    def __init__(self, csv_path, sequence_path, pose_list, video_dir, preprocessed_dir, aug_dirs, use_augmented=True, aug_probability=0.5):\n",
        "        with open(sequence_path) as f:\n",
        "            sequence_list = f.read().splitlines()\n",
        "            sequence_list = [int(x) for x in sequence_list]\n",
        "\n",
        "        self.df = pd.read_csv(csv_path)\n",
        "        self.df = self.df[self.df['sequence_id'].isin(sequence_list)]\n",
        "        self.df = self.df[self.df['l3_pose'].isin(pose_list)]\n",
        "\n",
        "        self.pose_to_idx = {pose: idx for idx, pose in enumerate(pose_list)}\n",
        "        self.length_of_dataset = len(self.df)\n",
        "\n",
        "        self.video_dir = video_dir\n",
        "        self.preprocessed_dir = preprocessed_dir\n",
        "        self.aug_dirs = aug_dirs  # Dictionary of augmentation directories\n",
        "        self.use_augmented = use_augmented\n",
        "        self.aug_probability = aug_probability\n",
        "\n",
        "        os.makedirs(self.preprocessed_dir, exist_ok=True)\n",
        "\n",
        "        self.transforms = transforms.Compose([\n",
        "            transforms.Resize((FRAME_HEIGHT, FRAME_WIDTH)),\n",
        "            transforms.ToTensor(),\n",
        "            transforms.Normalize(mean=[0.485, 0.456, 0.406],\n",
        "                                 std=[0.229, 0.224, 0.225])\n",
        "        ])\n",
        "        self.cache = dict()\n",
        "\n",
        "    def __len__(self):\n",
        "        return self.length_of_dataset\n",
        "\n",
        "    def __getitem__(self, i):\n",
        "        sequence_id = self.df.iloc[i]['sequence_id']\n",
        "        pose = self.df.iloc[i]['l3_pose']\n",
        "        label = self.pose_to_idx[pose]\n",
        "\n",
        "        # Decide if we will use an augmented version based on the probability\n",
        "        use_augmentation = self.use_augmented and random.random() < self.aug_probability\n",
        "\n",
        "        # Choose the appropriate directory based on augmentation selection\n",
        "        if use_augmentation:\n",
        "            aug_type = random.choice(list(self.aug_dirs.keys()))  # Randomly select an augmentation type\n",
        "            selected_dir = self.aug_dirs[aug_type]\n",
        "            disable_cache = True\n",
        "        else:\n",
        "            selected_dir = self.preprocessed_dir\n",
        "            disable_cache = False\n",
        "\n",
        "        # Path to the tensor file\n",
        "        file_path = os.path.join(selected_dir, f\"{sequence_id}.pt\")\n",
        "        if i == 10:\n",
        "          print(file_path)\n",
        "\n",
        "        # Load frames from the selected path\n",
        "        if sequence_id in self.cache and not disable_cache:\n",
        "            frames = self.cache[sequence_id]\n",
        "        else:\n",
        "            if os.path.exists(file_path):\n",
        "                frames = torch.load(file_path, weights_only=True)\n",
        "            else:\n",
        "                # Process and save if not already preprocessed\n",
        "                print(\"SOMETHING HAS GONE WRONG\")\n",
        "                video_path = os.path.join(self.video_dir, f\"{sequence_id}.mp4\")\n",
        "                frames = self._get_frames(video_path)\n",
        "                torch.save(frames, file_path)\n",
        "\n",
        "            # Cache the frames\n",
        "            # self.cache[sequence_id] = frames\n",
        "\n",
        "        return frames, label\n",
        "\n",
        "    def _get_frames(self, video_path):\n",
        "        reader = imageio.get_reader(video_path, 'ffmpeg')\n",
        "        fps = imageio.get_reader(video_path, 'ffmpeg').get_meta_data()['fps'] // 1\n",
        "        total_frames = reader.count_frames()\n",
        "\n",
        "        # print(fps)\n",
        "        # print(total_frames)\n",
        "        # Sample SEQUENCE_LENGTH = 7 frames per second\n",
        "        # indices = np.linspace(0, fps - 1, SEQUENCE_LENGTH, dtype=int)\n",
        "        print(video_path)\n",
        "        indices = np.arange(0, fps - 1, fps // SEQUENCE_LENGTH, dtype=int)\n",
        "\n",
        "        # print(indices)\n",
        "        frames = []\n",
        "        for i, frame in enumerate(reader):\n",
        "            if i % fps in indices:\n",
        "                frame = Image.fromarray(frame)\n",
        "                frame = self.transforms(frame)\n",
        "                frames.append(frame)\n",
        "                # print('Frame number', i % fps, 'Frame', i)\n",
        "\n",
        "        reader.close()\n",
        "        # print('Frame Length', len(frames))\n",
        "        frames = torch.stack(frames)\n",
        "        return frames"
      ]
    },
    {
      "cell_type": "code",
      "source": [
        "from torch.nn.utils.rnn import pad_sequence\n",
        "\n",
        "def collate_fn(batch):\n",
        "    frames, labels = zip(*batch)  # Separate frames and labels\n",
        "\n",
        "    # Pad the sequences of frames for each video in the batch along the sequence dimension\n",
        "    frames_padded = pad_sequence(frames, batch_first=True, padding_value=0)  # Shape: [batch_size, max_seq_len, 3, 224, 224]\n",
        "    lengths = torch.tensor([len(seq) for seq in frames])  # Record original sequence lengths\n",
        "\n",
        "    labels = torch.tensor(labels)\n",
        "\n",
        "    return frames_padded, labels, lengths  # Return lengths for packing"
      ],
      "metadata": {
        "id": "5SkHpViw8X3r"
      },
      "execution_count": 7,
      "outputs": []
    },
    {
      "cell_type": "markdown",
      "metadata": {
        "id": "7U4u_UQWKc4K"
      },
      "source": [
        "# Model\n",
        "``` (mobile_net to get feature map and LSTM to go through the frame sequences)```\n",
        "Trying out average of LSTM from each time_step\n",
        "Work Left\n",
        "1. Using only last time step output from LSTM to using average value, max value, using attention mechanism\n",
        "2. Using other imagenet model to extract the feature map"
      ]
    },
    {
      "cell_type": "code",
      "execution_count": 8,
      "metadata": {
        "id": "taCxNt4YKc4K"
      },
      "outputs": [],
      "source": [
        "# import torch\n",
        "# import torch.nn as nn\n",
        "# import torchvision.models as models\n",
        "# import torch.nn.functional as F\n",
        "\n",
        "# class CNNLSTM(nn.Module):\n",
        "#     def __init__(self, num_classes, lstm_hidden_size=512, lstm_layers=1, dropout=0.5):\n",
        "#         super(CNNLSTM, self).__init__()\n",
        "\n",
        "#         # Load pretrained MobileNetV2\n",
        "#         mobilenet = models.mobilenet_v2(pretrained=True)\n",
        "#         self.features = nn.Sequential(*list(mobilenet.features))\n",
        "#         self.pool = nn.AdaptiveAvgPool2d((1, 1))\n",
        "\n",
        "#         # Initially freeze all MobileNetV2 parameters\n",
        "#         self._freeze_features()\n",
        "\n",
        "#         # MobileNetV2 outputs 1280 features after pooling\n",
        "#         self.feature_size = 1280\n",
        "\n",
        "#         # LSTM layer\n",
        "#         self.lstm = nn.LSTM(\n",
        "#             input_size=self.feature_size,\n",
        "#             hidden_size=lstm_hidden_size,\n",
        "#             num_layers=lstm_layers,\n",
        "#             batch_first=True,\n",
        "#             dropout=dropout if lstm_layers > 1 else 0\n",
        "#         )\n",
        "\n",
        "#         # Gradual dimension reduction in classifier with batch normalization\n",
        "#         self.classifier = nn.Sequential(\n",
        "#             nn.Linear(lstm_hidden_size, 512),\n",
        "#             nn.BatchNorm1d(512),\n",
        "#             nn.ReLU(),\n",
        "#             nn.Dropout(dropout),\n",
        "\n",
        "#             nn.Linear(512, 256),\n",
        "#             nn.BatchNorm1d(256),\n",
        "#             nn.ReLU(),\n",
        "#             nn.Dropout(dropout),\n",
        "\n",
        "#             nn.Linear(256, 128),\n",
        "#             nn.BatchNorm1d(128),\n",
        "#             nn.ReLU(),\n",
        "#             nn.Dropout(dropout/2),  # Reducing dropout as we get closer to output\n",
        "\n",
        "#             nn.Linear(128, num_classes)\n",
        "#         )\n",
        "\n",
        "#         # Initialize weights for the classifier layers\n",
        "#         self._initialize_weights()\n",
        "\n",
        "#     def _initialize_weights(self):\n",
        "#         for m in self.classifier.modules():\n",
        "#             if isinstance(m, nn.Linear):\n",
        "#                 nn.init.kaiming_normal_(m.weight, mode='fan_out', nonlinearity='relu')\n",
        "#                 if m.bias is not None:\n",
        "#                     nn.init.constant_(m.bias, 0)\n",
        "#             elif isinstance(m, nn.BatchNorm1d):\n",
        "#                 nn.init.constant_(m.weight, 1)\n",
        "#                 nn.init.constant_(m.bias, 0)\n",
        "\n",
        "#     def _freeze_features(self):\n",
        "#         for param in self.features.parameters():\n",
        "#             param.requires_grad = False\n",
        "\n",
        "#     def unfreeze_features_gradually(self, num_layers=3, start_from_end=True):\n",
        "#         \"\"\"\n",
        "#         Unfreeze a specified number of convolutional layers from MobileNetV2.\n",
        "#         Args:\n",
        "#             num_layers: Number of layers to unfreeze\n",
        "#             start_from_end: If True, start unfreezing from the end (default)\n",
        "#         \"\"\"\n",
        "#         # First freeze all layers\n",
        "#         self._freeze_features()\n",
        "\n",
        "#         # Get list of all feature layers\n",
        "#         features_list = list(self.features.modules())\n",
        "#         conv_layers = [m for m in features_list if isinstance(m, nn.Conv2d)]\n",
        "\n",
        "#         # Determine which layers to unfreeze\n",
        "#         if start_from_end:\n",
        "#             layers_to_unfreeze = conv_layers[-num_layers:]\n",
        "#         else:\n",
        "#             layers_to_unfreeze = conv_layers[:num_layers]\n",
        "\n",
        "#         # Unfreeze the selected layers\n",
        "#         for layer in layers_to_unfreeze:\n",
        "#             for param in layer.parameters():\n",
        "#                 param.requires_grad = True\n",
        "\n",
        "#     def forward(self, x):\n",
        "#         batch_size, seq_length, c, h, w = x.size()\n",
        "\n",
        "#         # Process each frame through CNN\n",
        "#         x = x.view(batch_size * seq_length, c, h, w)\n",
        "#         x = self.features(x)\n",
        "#         x = self.pool(x)\n",
        "\n",
        "#         # Reshape for LSTM\n",
        "#         x = x.view(batch_size, seq_length, self.feature_size)\n",
        "\n",
        "#         # LSTM processing\n",
        "#         lstm_out, _ = self.lstm(x)\n",
        "\n",
        "#         # Try different temporal pooling strategies\n",
        "#         # Strategy 1: Mean pooling (default)\n",
        "#         x = torch.mean(lstm_out, dim=1)\n",
        "#         # Strategy 2: Last state\n",
        "#         # x = lstm_out[:, -1, :]\n",
        "#         # Strategy 3: Max pooling\n",
        "#         # x = torch.max(lstm_out, dim=1)[0]\n",
        "\n",
        "#         # Classification\n",
        "#         x = self.classifier(x)\n",
        "#         return x\n",
        "\n",
        "#     def get_trainable_params(self):\n",
        "#         \"\"\"Return the number of trainable parameters\"\"\"\n",
        "#         return sum(p.numel() for p in self.parameters() if p.requires_grad)"
      ]
    },
    {
      "cell_type": "code",
      "source": [
        "import torch\n",
        "import torch.nn as nn\n",
        "import torchvision.models as models\n",
        "import torch.nn.functional as F\n",
        "import torch.nn.utils.rnn as rnn_utils\n",
        "\n",
        "class CNNLSTM(nn.Module):\n",
        "    def __init__(self, num_classes, lstm_hidden_size=512, lstm_layers=1, dropout=0.5):\n",
        "        super(CNNLSTM, self).__init__()\n",
        "\n",
        "        # Load pretrained ResNet18\n",
        "        # resnet = models.resnet18(pretrained=True)\n",
        "        resnet = models.resnet18(weights=models.ResNet18_Weights.DEFAULT)\n",
        "        # Extract all layers except the final fully connected layer\n",
        "        self.features = nn.Sequential(*list(resnet.children())[:-2])  # Remove last FC layer and avgpool\n",
        "        self.pool = nn.AdaptiveAvgPool2d((1, 1))\n",
        "\n",
        "        # Initially freeze all ResNet parameters\n",
        "        self._freeze_features()\n",
        "\n",
        "        # ResNet18 outputs 512 features after pooling (for ResNet50, this would be 2048)\n",
        "        self.feature_size = 512\n",
        "\n",
        "        # LSTM layer\n",
        "        self.lstm = nn.LSTM(\n",
        "            input_size=self.feature_size,\n",
        "            hidden_size=lstm_hidden_size,\n",
        "            num_layers=lstm_layers,\n",
        "            batch_first=True,\n",
        "            dropout=dropout if lstm_layers > 1 else 0\n",
        "        )\n",
        "\n",
        "        # Gradual dimension reduction in classifier with batch normalization\n",
        "        self.classifier = nn.Sequential(\n",
        "            nn.Linear(lstm_hidden_size, 512),\n",
        "            nn.BatchNorm1d(512),\n",
        "            nn.ReLU(),\n",
        "            nn.Dropout(dropout),\n",
        "\n",
        "            nn.Linear(512, 256),\n",
        "            nn.BatchNorm1d(256),\n",
        "            nn.ReLU(),\n",
        "            nn.Dropout(dropout),\n",
        "\n",
        "            nn.Linear(256, 128),\n",
        "            nn.BatchNorm1d(128),\n",
        "            nn.ReLU(),\n",
        "            nn.Dropout(dropout / 2),  # Reducing dropout as we get closer to output\n",
        "\n",
        "            nn.Linear(128, num_classes)\n",
        "        )\n",
        "\n",
        "        # Initialize weights for the classifier layers\n",
        "        self._initialize_weights()\n",
        "\n",
        "    def _initialize_weights(self):\n",
        "        for m in self.classifier.modules():\n",
        "            if isinstance(m, nn.Linear):\n",
        "                nn.init.kaiming_normal_(m.weight, mode='fan_out', nonlinearity='relu')\n",
        "                if m.bias is not None:\n",
        "                    nn.init.constant_(m.bias, 0)\n",
        "            elif isinstance(m, nn.BatchNorm1d):\n",
        "                nn.init.constant_(m.weight, 1)\n",
        "                nn.init.constant_(m.bias, 0)\n",
        "\n",
        "    def _freeze_features(self):\n",
        "        for param in self.features.parameters():\n",
        "            param.requires_grad = False\n",
        "\n",
        "    def unfreeze_features_gradually(self, num_layers=3, start_from_end=True):\n",
        "        \"\"\"\n",
        "        Unfreeze a specified number of convolutional layers from ResNet.\n",
        "        Args:\n",
        "            num_layers: Number of layers to unfreeze\n",
        "            start_from_end: If True, start unfreezing from the end (default)\n",
        "        \"\"\"\n",
        "        # First freeze all layers\n",
        "        self._freeze_features()\n",
        "\n",
        "        # Get list of all feature layers\n",
        "        features_list = list(self.features.modules())\n",
        "        conv_layers = [m for m in features_list if isinstance(m, nn.Conv2d)]\n",
        "\n",
        "        # Determine which layers to unfreeze\n",
        "        if start_from_end:\n",
        "            layers_to_unfreeze = conv_layers[-num_layers:]\n",
        "        else:\n",
        "            layers_to_unfreeze = conv_layers[:num_layers]\n",
        "\n",
        "        # Unfreeze the selected layers\n",
        "        for layer in layers_to_unfreeze:\n",
        "            for param in layer.parameters():\n",
        "                param.requires_grad = True\n",
        "\n",
        "    def forward(self, x, lengths):\n",
        "        batch_size, seq_length, c, h, w = x.size()\n",
        "\n",
        "        # Process each frame through the CNN feature extractor\n",
        "        x = x.view(batch_size * seq_length, c, h, w)\n",
        "        x = self.features(x)          # Shape: (batch_size * seq_length, feature_size, H, W)\n",
        "        x = self.pool(x)               # Shape after pooling: (batch_size * seq_length, feature_size, 1, 1)\n",
        "        x = x.view(batch_size, seq_length, self.feature_size)  # Shape: (batch_size, seq_length, feature_size)\n",
        "\n",
        "        # Pack the sequence for LSTM to handle variable sequence lengths\n",
        "        packed_x = rnn_utils.pack_padded_sequence(x, lengths.cpu(), batch_first=True, enforce_sorted=False)\n",
        "\n",
        "        # LSTM processing\n",
        "        packed_lstm_out, (h_n, c_n) = self.lstm(packed_x)\n",
        "        lstm_out, _ = rnn_utils.pad_packed_sequence(packed_lstm_out, batch_first=True)  # Unpack the output\n",
        "\n",
        "        # Temporal pooling strategies\n",
        "        # Strategy 1: Mean pooling (default)\n",
        "        # x = torch.stack([torch.mean(lstm_out[i, :length], dim=0) for i, length in enumerate(lengths)], dim=0)\n",
        "\n",
        "        # Uncomment any of the following strategies to test other pooling approaches:\n",
        "        # Strategy 2: Last state\n",
        "        x = torch.stack([lstm_out[i, length - 1] for i, length in enumerate(lengths)], dim=0)\n",
        "\n",
        "        # Strategy 3: Max pooling\n",
        "        # x = torch.stack([torch.max(lstm_out[i, :length], dim=0)[0] for i, length in enumerate(lengths)], dim=0)\n",
        "\n",
        "        # Classification\n",
        "        x = self.classifier(x)\n",
        "        return x\n",
        "\n",
        "\n",
        "    def get_trainable_params(self):\n",
        "        \"\"\"Return the number of trainable parameters\"\"\"\n",
        "        return sum(p.numel() for p in self.parameters() if p.requires_grad)"
      ],
      "metadata": {
        "id": "NKgHTKgpSDny"
      },
      "execution_count": 9,
      "outputs": []
    },
    {
      "cell_type": "code",
      "execution_count": 10,
      "metadata": {
        "id": "MeGvP73aKc4L"
      },
      "outputs": [],
      "source": [
        "from torch.utils.data import random_split\n",
        "\n",
        "def train_val_test_split(dataset):\n",
        "    total_size = len(dataset)\n",
        "    test_size = int(TEST_SPLIT * total_size)\n",
        "    val_size = int(VALIDATION_SPLIT * total_size)\n",
        "    train_size = total_size - val_size - test_size\n",
        "\n",
        "    train_dataset, val_dataset, test_dataset = random_split(\n",
        "        dataset,\n",
        "        [train_size, val_size, test_size],\n",
        "        generator=torch.Generator().manual_seed(42)  # For reproducibility\n",
        "    )\n",
        "\n",
        "    return train_dataset, val_dataset, test_dataset\n",
        "\n",
        "def create_data_loaders(train_dataset, val_dataset, test_dataset):\n",
        "    train_loader = DataLoader(\n",
        "        train_dataset,\n",
        "        batch_size=BATCH_SIZE,\n",
        "        shuffle=True,\n",
        "        num_workers=2,\n",
        "        pin_memory = True,\n",
        "        collate_fn = collate_fn\n",
        "    )\n",
        "\n",
        "    val_loader = DataLoader(\n",
        "        val_dataset,\n",
        "        batch_size=BATCH_SIZE,\n",
        "        shuffle=False,\n",
        "        num_workers=2,\n",
        "        pin_memory = True,\n",
        "        collate_fn = collate_fn\n",
        "    )\n",
        "\n",
        "    test_loader = DataLoader(\n",
        "        test_dataset,\n",
        "        batch_size=BATCH_SIZE,\n",
        "        shuffle=False,\n",
        "        num_workers=2,\n",
        "        pin_memory = True,\n",
        "        collate_fn = collate_fn\n",
        "    )\n",
        "\n",
        "    return train_loader, val_loader, test_loader"
      ]
    },
    {
      "cell_type": "code",
      "execution_count": 11,
      "metadata": {
        "id": "Yu8Wt-JWKc4M"
      },
      "outputs": [],
      "source": [
        "def plot_training_curves(history, fsave='training_curves.png'):\n",
        "    tsave = os.path.join(save_path, fsave)\n",
        "    # plt.style.use('seaborn')\n",
        "    fig, axs = plt.subplots(2, 3, figsize=(18, 10))\n",
        "\n",
        "    # Loss curves\n",
        "    axs[0, 0].plot(history['train_loss'], label='Train Loss', marker='o')\n",
        "    axs[0, 0].plot(history['val_loss'], label='Validation Loss', marker='o')\n",
        "    axs[0, 0].set_title('Loss')\n",
        "    axs[0, 0].legend()\n",
        "\n",
        "    # Accuracy curves\n",
        "    axs[0, 1].plot(history['train_acc'], label='Train Accuracy', marker='o')\n",
        "    axs[0, 1].plot(history['val_acc'], label='Validation Accuracy', marker='o')\n",
        "    axs[0, 1].set_title('Accuracy')\n",
        "    axs[0, 1].legend()\n",
        "\n",
        "    # Learning rate\n",
        "    axs[0, 2].plot(history['learning_rates'], label='Learning Rate', marker='o')\n",
        "    axs[0, 2].set_title('Learning Rate')\n",
        "    axs[0, 2].set_yscale('log')\n",
        "    axs[0, 2].legend()\n",
        "\n",
        "    # Precision\n",
        "    axs[1, 0].plot(history['train_precision'], label='Train Precision', marker='o')\n",
        "    axs[1, 0].plot(history['val_precision'], label='Validation Precision', marker='o')\n",
        "    axs[1, 0].set_title('Precision')\n",
        "    axs[1, 0].legend()\n",
        "\n",
        "    # Recall\n",
        "    axs[1, 1].plot(history['train_recall'], label='Train Recall', marker='o')\n",
        "    axs[1, 1].plot(history['val_recall'], label='Validation Recall', marker='o')\n",
        "    axs[1, 1].set_title('Recall')\n",
        "    axs[1, 1].legend()\n",
        "\n",
        "    # F1 Score\n",
        "    axs[1, 2].plot(history['train_f1'], label='Train F1', marker='o')\n",
        "    axs[1, 2].plot(history['val_f1'], label='Validation F1', marker='o')\n",
        "    axs[1, 2].set_title('F1 Score')\n",
        "    axs[1, 2].legend()\n",
        "\n",
        "    for ax in axs.flat:\n",
        "        ax.set_xlabel('Epoch')\n",
        "        ax.grid(True)\n",
        "\n",
        "    plt.tight_layout()\n",
        "    plt.savefig(tsave)\n",
        "    plt.show()\n",
        "    plt.close()\n"
      ]
    },
    {
      "cell_type": "code",
      "execution_count": 12,
      "metadata": {
        "id": "C9hI_YPeKc4M"
      },
      "outputs": [],
      "source": [
        "class EarlyStopping:\n",
        "    \"\"\"Early stopping to prevent overfitting\"\"\"\n",
        "    def __init__(self, patience=7, min_delta=0):\n",
        "        self.patience = patience\n",
        "        self.min_delta = min_delta\n",
        "        self.counter = 0\n",
        "        self.best_loss = None\n",
        "        self.early_stop = False\n",
        "\n",
        "    def __call__(self, val_loss):\n",
        "        if self.best_loss is None:\n",
        "            self.best_loss = val_loss\n",
        "        # on default = 7 successive val_loss increase stop\n",
        "        elif val_loss > self.best_loss - self.min_delta:\n",
        "            self.counter += 1\n",
        "            if self.counter >= self.patience:\n",
        "                self.early_stop = True\n",
        "        else:\n",
        "            self.best_loss = val_loss\n",
        "            self.counter = 0"
      ]
    },
    {
      "cell_type": "code",
      "execution_count": 13,
      "metadata": {
        "id": "Ym8hfKK7YpbC"
      },
      "outputs": [],
      "source": [
        "import os\n",
        "import torch\n",
        "def save_checkpoint(model, optimizer, epoch, history, best_path=None):\n",
        "    if best_path is not None:\n",
        "        chk_path = os.path.join(save_path, f'best_model.pth')\n",
        "        print(f\"Saving checkpoint to {chk_path}\")\n",
        "    else:\n",
        "        chk_path = os.path.join(save_path, f'checkpath_model.pth')\n",
        "        print(f\"Saving checkpoint to {chk_path}\")\n",
        "\n",
        "    # Combine model, optimizer, and history into one dictionary\n",
        "    checkpoint = {\n",
        "        'epoch': epoch + 1,  # Save the next epoch number for resuming\n",
        "        'model_state_dict': model.state_dict(),\n",
        "        'optimizer_state_dict': optimizer.state_dict(),\n",
        "        'history': history  # Save history along with the model and optimizer\n",
        "    }\n",
        "\n",
        "    # Save everything in a single file using torch.save\n",
        "    torch.save(checkpoint, chk_path)\n",
        "    print(f\"Checkpoint saved at epoch {epoch + 1}\")"
      ]
    },
    {
      "cell_type": "code",
      "execution_count": 14,
      "metadata": {
        "id": "gTWiSzTLPAGj"
      },
      "outputs": [],
      "source": [
        "def load_checkpoint(model, optimizer, checkpoint_path):\n",
        "    \"\"\"\n",
        "    Load model and training state from a checkpoint\n",
        "    \"\"\"\n",
        "    print(f\"Loading checkpoint from {checkpoint_path}\")\n",
        "    checkpoint = torch.load(checkpoint_path)\n",
        "\n",
        "    # Load model and optimizer states\n",
        "    model.load_state_dict(checkpoint['model_state_dict'])\n",
        "    optimizer.load_state_dict(checkpoint['optimizer_state_dict'])\n",
        "\n",
        "    # Get the epoch number to resume from\n",
        "    start_epoch = checkpoint['epoch']\n",
        "\n",
        "    # Load training history with new metrics\n",
        "    history = checkpoint.get('history', {\n",
        "        'train_loss': [], 'val_loss': [],\n",
        "        'train_acc': [], 'val_acc': [],\n",
        "        'train_precision': [], 'train_recall': [], 'train_f1': [],\n",
        "        'val_precision': [], 'val_recall': [], 'val_f1': [],\n",
        "        'learning_rates': []\n",
        "    })\n",
        "\n",
        "    return model, optimizer, start_epoch, history\n"
      ]
    },
    {
      "cell_type": "code",
      "execution_count": 15,
      "metadata": {
        "id": "LWy0HheUKc4M"
      },
      "outputs": [],
      "source": [
        "import os\n",
        "import torch\n",
        "from torch.optim import lr_scheduler\n",
        "from sklearn.metrics import precision_score, recall_score, f1_score\n",
        "from tqdm import tqdm\n",
        "\n",
        "def train_model(model, train_loader, val_loader, criterion, optimizer, dataset, num_epochs=50, patience=18, log_interval=10, checkpoint_path=None, unfreeze_epoch=5, num_layers_unfreeze=3):\n",
        "    device = torch.device(\"cuda\" if torch.cuda.is_available() else \"cpu\")\n",
        "    model = model.to(device)\n",
        "    print(\"Using device:\", device)\n",
        "\n",
        "    # Initialize scheduler\n",
        "    scheduler = lr_scheduler.ReduceLROnPlateau(optimizer, mode='min', factor=0.1, patience=4)\n",
        "\n",
        "    # Initialize early stopping\n",
        "    early_stopping = EarlyStopping(patience=patience, min_delta=1e-4)\n",
        "\n",
        "    start_epoch = 0\n",
        "    best_val_loss = float('inf')\n",
        "\n",
        "    # Initialize history for loss, accuracy, precision, recall, and F1\n",
        "    history = {\n",
        "        'train_loss': [], 'val_loss': [],\n",
        "        'train_acc': [], 'val_acc': [],\n",
        "        'train_precision': [], 'train_recall': [], 'train_f1': [],\n",
        "        'val_precision': [], 'val_recall': [], 'val_f1': [],\n",
        "        'learning_rates': []\n",
        "    }\n",
        "\n",
        "    # Check for checkpoint and load if available\n",
        "    if checkpoint_path and os.path.exists(checkpoint_path):\n",
        "        model, optimizer, start_epoch, history = load_checkpoint(model, optimizer, checkpoint_path)\n",
        "        print(f\"Resuming training from epoch {start_epoch}\")\n",
        "        torch.cuda.empty_cache()\n",
        "\n",
        "    for epoch in range(start_epoch, num_epochs):\n",
        "        if epoch == unfreeze_epoch:\n",
        "            print(f\"Unfreezing last {num_layers_unfreeze} layers of CNN\")\n",
        "            model.unfreeze_features_gradually(num_layers=num_layers_unfreeze)\n",
        "        print(f'\\nEpoch {epoch + 1}/{num_epochs}')\n",
        "        # print(\"Augmeneted Use:\", dataset.use_augmented)\n",
        "        dataset.use_augmented = True\n",
        "\n",
        "        current_lr = optimizer.param_groups[0]['lr']\n",
        "        history['learning_rates'].append(current_lr)\n",
        "        print(f\"Current Learning Rate: {current_lr}\")\n",
        "\n",
        "        # Training phase\n",
        "        model.train()\n",
        "        train_loss, train_correct, train_total = 0.0, 0, 0\n",
        "        train_true, train_pred = [], []\n",
        "\n",
        "        train_loader_tqdm = tqdm(enumerate(train_loader), total=len(train_loader), desc=\"Training\")\n",
        "        for batch_idx, (inputs, labels, lengths) in train_loader_tqdm:\n",
        "            inputs, labels, lengths = inputs.to(device), labels.to(device), lengths.to(device)\n",
        "            optimizer.zero_grad()\n",
        "            outputs = model(inputs, lengths)  # Pass sequence lengths to model forward function\n",
        "            loss = criterion(outputs, labels)\n",
        "            loss.backward()\n",
        "            torch.nn.utils.clip_grad_norm_(model.parameters(), max_norm=1.0)\n",
        "            optimizer.step()\n",
        "\n",
        "            train_loss += loss.item()\n",
        "            _, predicted = torch.max(outputs, 1)\n",
        "            train_correct += (predicted == labels).sum().item()\n",
        "            train_total += labels.size(0)\n",
        "\n",
        "            # Collect true and predicted labels for precision/recall\n",
        "            train_true.extend(labels.cpu().numpy())\n",
        "            train_pred.extend(predicted.cpu().numpy())\n",
        "\n",
        "            # Log batch-level updates\n",
        "            if batch_idx % log_interval == 0:\n",
        "                train_loader_tqdm.set_postfix({\n",
        "                    'loss': train_loss / (batch_idx + 1),\n",
        "                    'accuracy': 100.0 * train_correct / train_total\n",
        "                })\n",
        "\n",
        "        # Calculate training metrics\n",
        "        train_loss /= len(train_loader)\n",
        "        train_acc = 100.0 * train_correct / train_total\n",
        "        train_precision = precision_score(train_true, train_pred, average='weighted')\n",
        "        train_recall = recall_score(train_true, train_pred, average='weighted')\n",
        "        train_f1 = f1_score(train_true, train_pred, average='weighted')\n",
        "\n",
        "        dataset.use_augmented = False\n",
        "        # Validation phase\n",
        "        model.eval()\n",
        "        val_loss, val_correct, val_total = 0.0, 0, 0\n",
        "        val_true, val_pred = [], []\n",
        "\n",
        "        val_loader_tqdm = tqdm(enumerate(val_loader), total=len(val_loader), desc=\"Validation\")\n",
        "        with torch.no_grad():\n",
        "            for batch_idx, (inputs, labels, lengths) in val_loader_tqdm:\n",
        "                inputs, labels, lengths = inputs.to(device), labels.to(device), lengths.to(device)\n",
        "                outputs = model(inputs, lengths)  # Pass sequence lengths to model forward function\n",
        "                loss = criterion(outputs, labels)\n",
        "\n",
        "                val_loss += loss.item()\n",
        "                _, predicted = torch.max(outputs, 1)\n",
        "                val_correct += (predicted == labels).sum().item()\n",
        "                val_total += labels.size(0)\n",
        "\n",
        "                # Collect true and predicted labels for precision/recall\n",
        "                val_true.extend(labels.cpu().numpy())\n",
        "                val_pred.extend(predicted.cpu().numpy())\n",
        "\n",
        "                # Log batch-level updates for validation\n",
        "                if batch_idx % log_interval == 0:\n",
        "                    val_loader_tqdm.set_postfix({\n",
        "                        'loss': val_loss / (batch_idx + 1),\n",
        "                        'accuracy': 100.0 * val_correct / val_total\n",
        "                    })\n",
        "\n",
        "        # Calculate validation metrics\n",
        "        val_loss /= len(val_loader)\n",
        "        val_acc = 100.0 * val_correct / val_total\n",
        "        val_precision = precision_score(val_true, val_pred, average='weighted')\n",
        "        val_recall = recall_score(val_true, val_pred, average='weighted')\n",
        "        val_f1 = f1_score(val_true, val_pred, average='weighted')\n",
        "\n",
        "        # Update history\n",
        "        history['train_loss'].append(train_loss)\n",
        "        history['val_loss'].append(val_loss)\n",
        "        history['train_acc'].append(train_acc)\n",
        "        history['val_acc'].append(val_acc)\n",
        "        history['train_precision'].append(train_precision)\n",
        "        history['train_recall'].append(train_recall)\n",
        "        history['train_f1'].append(train_f1)\n",
        "        history['val_precision'].append(val_precision)\n",
        "        history['val_recall'].append(val_recall)\n",
        "        history['val_f1'].append(val_f1)\n",
        "\n",
        "        # Print metrics at the end of the epoch\n",
        "        print(f'\\nEpoch {epoch + 1}/{num_epochs} Summary:')\n",
        "        print(f'Train Loss: {train_loss:.4f} | Train Acc: {train_acc:.2f}% | Train Precision: {train_precision:.2f} | Train Recall: {train_recall:.2f} | Train F1: {train_f1:.2f}')\n",
        "        print(f'Val Loss: {val_loss:.4f} | Val Acc: {val_acc:.2f}% | Val Precision: {val_precision:.2f} | Val Recall: {val_recall:.2f} | Val F1: {val_f1:.2f}')\n",
        "\n",
        "        # Save the best model checkpoint\n",
        "        if val_loss < best_val_loss:\n",
        "            best_val_loss = val_loss\n",
        "            best_model_path = os.path.join(save_path, 'best_model.pth')\n",
        "            save_checkpoint(model, optimizer, epoch, history, best_model_path)\n",
        "            print(f\"New best model saved! Validation Loss: {best_val_loss:.4f}\")\n",
        "\n",
        "        # Adjust learning rate based on validation loss\n",
        "        scheduler.step(val_loss)\n",
        "\n",
        "        # Check for early stopping\n",
        "        early_stopping(val_loss)\n",
        "        if early_stopping.early_stop:\n",
        "            print(\"Early stopping triggered\")\n",
        "            break\n",
        "\n",
        "    return model, history\n",
        "\n"
      ]
    },
    {
      "cell_type": "code",
      "execution_count": 28,
      "metadata": {
        "id": "0Qt54or3XzJE"
      },
      "outputs": [],
      "source": [
        "import matplotlib.pyplot as plt\n",
        "from sklearn.metrics import confusion_matrix\n",
        "import seaborn as sns\n",
        "import torch\n",
        "import numpy as np\n",
        "import os\n",
        "from tqdm import tqdm\n",
        "\n",
        "def evaluate_model(model, test_loader, criterion, class_names,spath=save_path, fsave='confusion_matrix.png'):\n",
        "    \"\"\"\n",
        "    Evaluate model on test set\n",
        "\n",
        "    Args:\n",
        "        model: PyTorch model\n",
        "        test_loader: DataLoader for test data\n",
        "        criterion: Loss function\n",
        "        class_names: List of class names\n",
        "        save_path: Directory to save the plot\n",
        "        fsave: Filename for confusion matrix plot\n",
        "    \"\"\"\n",
        "    csave = os.path.join(spath, fsave)\n",
        "    device = torch.device(\"cuda\" if torch.cuda.is_available() else \"cpu\")\n",
        "    model = model.to(device)\n",
        "    model.eval()\n",
        "\n",
        "    test_loss = 0.0\n",
        "    test_correct = 0\n",
        "    test_total = 0\n",
        "    all_predictions = []\n",
        "    all_labels = []\n",
        "\n",
        "    # Create progress bar\n",
        "    test_loader_tqdm = tqdm(test_loader, desc=\"Testing\")\n",
        "\n",
        "    with torch.no_grad():\n",
        "        for inputs, labels, length in test_loader_tqdm:\n",
        "            inputs = inputs.to(device)\n",
        "            labels = labels.to(device)\n",
        "            length = length.to(device)\n",
        "\n",
        "            # Forward pass\n",
        "            outputs = model(inputs, length)\n",
        "            loss = criterion(outputs, labels)\n",
        "            test_loss += loss.item()\n",
        "\n",
        "            # Get predictions\n",
        "            _, predicted = torch.max(outputs, 1)\n",
        "            # Calculate accuracy\n",
        "            test_correct += (predicted == labels).sum().item()\n",
        "            test_total += labels.size(0)\n",
        "\n",
        "            # Store predictions and labels for confusion matrix\n",
        "            all_predictions.extend(predicted.cpu().numpy())\n",
        "            all_labels.extend(labels.cpu().numpy())\n",
        "\n",
        "    # Calculate metrics\n",
        "    test_loss = test_loss / len(test_loader)\n",
        "    accuracy = 100 * test_correct / test_total\n",
        "\n",
        "    # Create confusion matrix\n",
        "    cm = confusion_matrix(all_labels, all_predictions)\n",
        "\n",
        "    # Plot confusion matrix\n",
        "    plt.figure(figsize=(10, 8))\n",
        "    sns.heatmap(cm, annot=True, fmt='d', cmap='Blues',\n",
        "                xticklabels=class_names, yticklabels=class_names)\n",
        "    plt.title('Confusion Matrix')\n",
        "    plt.xlabel('Predicted')\n",
        "    plt.ylabel('True')\n",
        "\n",
        "    # Save the plot\n",
        "    plt.savefig(csave)\n",
        "    plt.show()\n",
        "    plt.close()\n",
        "\n",
        "    print(f'Test Loss: {test_loss:.4f}')\n",
        "    print(f'Test Accuracy: {accuracy:.2f}%')\n",
        "\n",
        "    return test_loss, accuracy"
      ]
    },
    {
      "cell_type": "code",
      "execution_count": 17,
      "metadata": {
        "id": "t2DtznLJKc4N",
        "collapsed": true
      },
      "outputs": [],
      "source": [
        "def main():\n",
        "    print(\"Loading Data\")\n",
        "    aug_dirs={\n",
        "        'flip': horz_aug,\n",
        "        'blur': gaussian_blur_aug,\n",
        "        'resize_crop': resize_aug\n",
        "    }\n",
        "    dataset = YogaVideoDataset(csv_path, sequence_path, pose_list, video_dir, preprocessed_dir, aug_dirs)\n",
        "    train_dataset, val_dataset, test_dataset = train_val_test_split(dataset)\n",
        "    train_loader, val_loader, test_loader = create_data_loaders(train_dataset, val_dataset, test_dataset)\n",
        "    print(\"Finished Loading Data\")\n",
        "\n",
        "    model = CNNLSTM(num_classes=NUM_CLASSES)\n",
        "    criterion = nn.CrossEntropyLoss()\n",
        "    optimizer = torch.optim.Adam(model.parameters(), lr=LEARNING_RATE)\n",
        "\n",
        "    print(\"Training the model\")\n",
        "    checkpoint_path = os.path.join(save_path, 'best_model.pth')\n",
        "    model, history = train_model(\n",
        "        model,\n",
        "        train_loader,\n",
        "        val_loader,\n",
        "        criterion,\n",
        "        optimizer,\n",
        "        dataset,\n",
        "        NUM_EPOCHS,\n",
        "        patience=7,\n",
        "        log_interval=10,\n",
        "        checkpoint_path=checkpoint_path\n",
        "    )\n",
        "    # Plot the training curves\n",
        "    plot_training_curves(history)\n",
        "    if checkpoint_path and os.path.exists(checkpoint_path):\n",
        "            model, optimizer, start_epoch, history = load_checkpoint(\n",
        "                model, optimizer, checkpoint_path\n",
        "            )\n",
        "            print(f\"Resuming training from epoch {start_epoch}\")\n",
        "    evaluate_model(model, test_loader, criterion, pose_list)\n",
        "\n",
        "    model_save_path = os.path.join(save_path, 'my_model.pth')\n",
        "    torch.save(model.state_dict(), model_save_path)"
      ]
    },
    {
      "cell_type": "code",
      "source": [
        "def eval_best_model():\n",
        "    print(\"Loading Data\")\n",
        "    aug_dirs={\n",
        "        'flip': horz_aug,\n",
        "        'blur': gaussian_blur_aug,\n",
        "        'resize_crop': resize_aug\n",
        "    }\n",
        "    dataset = YogaVideoDataset(csv_path, sequence_path, pose_list, video_dir, preprocessed_dir, aug_dirs)\n",
        "    train_dataset, val_dataset, test_dataset = train_val_test_split(dataset)\n",
        "    train_loader, val_loader, test_loader = create_data_loaders(train_dataset, val_dataset, test_dataset)\n",
        "    model = CNNLSTM(num_classes=NUM_CLASSES)\n",
        "    criterion = nn.CrossEntropyLoss()\n",
        "    optimizer = torch.optim.Adam(model.parameters(), lr=LEARNING_RATE)\n",
        "    checkpoint_path = os.path.join(save_path, 'best_model.pth')\n",
        "    if checkpoint_path and os.path.exists(checkpoint_path):\n",
        "            model, optimizer, start_epoch, history = load_checkpoint(\n",
        "                model, optimizer, checkpoint_path\n",
        "            )\n",
        "            print(f\"Resuming training from epoch {start_epoch}\")\n",
        "    evaluate_model(model, test_loader, criterion, pose_list)"
      ],
      "metadata": {
        "id": "i2SzQwOvollu",
        "collapsed": true
      },
      "execution_count": 29,
      "outputs": []
    },
    {
      "cell_type": "code",
      "source": [
        "# %pip install opencv-python\n",
        "# %pip install imageio[ffmpeg]\n",
        "# %pip install tqdm"
      ],
      "metadata": {
        "id": "T9IqJISBeJbG"
      },
      "execution_count": 19,
      "outputs": []
    },
    {
      "cell_type": "code",
      "source": [
        "main()"
      ],
      "metadata": {
        "colab": {
          "base_uri": "https://localhost:8080/",
          "height": 1000
        },
        "id": "tJoK4yzae_8C",
        "outputId": "d26612c5-6415-4c63-e8c9-6de170816f4e"
      },
      "execution_count": 20,
      "outputs": [
        {
          "output_type": "stream",
          "name": "stdout",
          "text": [
            "Loading Data\n",
            "Finished Loading Data\n"
          ]
        },
        {
          "output_type": "stream",
          "name": "stderr",
          "text": [
            "Downloading: \"https://download.pytorch.org/models/resnet18-f37072fd.pth\" to /root/.cache/torch/hub/checkpoints/resnet18-f37072fd.pth\n",
            "100%|██████████| 44.7M/44.7M [00:00<00:00, 187MB/s]\n"
          ]
        },
        {
          "output_type": "stream",
          "name": "stdout",
          "text": [
            "Training the model\n",
            "Using device: cuda\n",
            "\n",
            "Epoch 1/50\n",
            "Current Learning Rate: 0.0001\n"
          ]
        },
        {
          "output_type": "stream",
          "name": "stderr",
          "text": [
            "Training:  90%|█████████ | 28/31 [04:46<00:26,  8.89s/it, loss=6.45, accuracy=25]"
          ]
        },
        {
          "output_type": "stream",
          "name": "stdout",
          "text": [
            "/content/gdrive/MyDrive/RGB_data_stream/complete_pre_processed/1011.pt\n"
          ]
        },
        {
          "output_type": "stream",
          "name": "stderr",
          "text": [
            "Training: 100%|██████████| 31/31 [05:11<00:00, 10.06s/it, loss=6.59, accuracy=26]\n",
            "Validation: 100%|██████████| 9/9 [01:24<00:00,  9.34s/it, loss=2.74, accuracy=25]\n"
          ]
        },
        {
          "output_type": "stream",
          "name": "stdout",
          "text": [
            "\n",
            "Epoch 1/50 Summary:\n",
            "Train Loss: 6.5931 | Train Acc: 25.98% | Train Precision: 0.26 | Train Recall: 0.26 | Train F1: 0.23\n",
            "Val Loss: 2.6038 | Val Acc: 27.54% | Val Precision: 0.20 | Val Recall: 0.28 | Val F1: 0.17\n",
            "Saving checkpoint to /content/gdrive/MyDrive/RGB_data_stream/nov9_equal_interval_sample/best_model.pth\n",
            "Checkpoint saved at epoch 1\n",
            "New best model saved! Validation Loss: 2.6038\n",
            "\n",
            "Epoch 2/50\n",
            "Current Learning Rate: 0.0001\n"
          ]
        },
        {
          "output_type": "stream",
          "name": "stderr",
          "text": [
            "Training:  26%|██▌       | 8/31 [00:49<02:04,  5.43s/it, loss=5, accuracy=37.5]"
          ]
        },
        {
          "output_type": "stream",
          "name": "stdout",
          "text": [
            "/content/gdrive/MyDrive/RGB_data_stream/horz_aug/1011.pt\n"
          ]
        },
        {
          "output_type": "stream",
          "name": "stderr",
          "text": [
            "Training: 100%|██████████| 31/31 [03:09<00:00,  6.11s/it, loss=6.02, accuracy=30.7]\n",
            "Validation: 100%|██████████| 9/9 [00:17<00:00,  1.90s/it, loss=3.23, accuracy=25]\n"
          ]
        },
        {
          "output_type": "stream",
          "name": "stdout",
          "text": [
            "\n",
            "Epoch 2/50 Summary:\n",
            "Train Loss: 6.0225 | Train Acc: 30.72% | Train Precision: 0.30 | Train Recall: 0.31 | Train F1: 0.26\n",
            "Val Loss: 2.5409 | Val Acc: 31.88% | Val Precision: 0.50 | Val Recall: 0.32 | Val F1: 0.23\n",
            "Saving checkpoint to /content/gdrive/MyDrive/RGB_data_stream/nov9_equal_interval_sample/best_model.pth\n",
            "Checkpoint saved at epoch 2\n",
            "New best model saved! Validation Loss: 2.5409\n",
            "\n",
            "Epoch 3/50\n",
            "Current Learning Rate: 0.0001\n"
          ]
        },
        {
          "output_type": "stream",
          "name": "stderr",
          "text": [
            "Training:  87%|████████▋ | 27/31 [02:11<00:15,  4.00s/it, loss=6.32, accuracy=29.2]"
          ]
        },
        {
          "output_type": "stream",
          "name": "stdout",
          "text": [
            "/content/gdrive/MyDrive/RGB_data_stream/complete_pre_processed/1011.pt\n"
          ]
        },
        {
          "output_type": "stream",
          "name": "stderr",
          "text": [
            "Training: 100%|██████████| 31/31 [02:26<00:00,  4.74s/it, loss=5.8, accuracy=31.3]\n",
            "Validation: 100%|██████████| 9/9 [00:17<00:00,  1.89s/it, loss=3.23, accuracy=18.8]\n"
          ]
        },
        {
          "output_type": "stream",
          "name": "stdout",
          "text": [
            "\n",
            "Epoch 3/50 Summary:\n",
            "Train Loss: 5.8021 | Train Acc: 31.34% | Train Precision: 0.32 | Train Recall: 0.31 | Train F1: 0.28\n",
            "Val Loss: 2.4845 | Val Acc: 28.99% | Val Precision: 0.38 | Val Recall: 0.29 | Val F1: 0.22\n",
            "Saving checkpoint to /content/gdrive/MyDrive/RGB_data_stream/nov9_equal_interval_sample/best_model.pth\n",
            "Checkpoint saved at epoch 3\n",
            "New best model saved! Validation Loss: 2.4845\n",
            "\n",
            "Epoch 4/50\n",
            "Current Learning Rate: 0.0001\n"
          ]
        },
        {
          "output_type": "stream",
          "name": "stderr",
          "text": [
            "Training:  58%|█████▊    | 18/31 [01:27<00:43,  3.36s/it, loss=5.86, accuracy=32.4]"
          ]
        },
        {
          "output_type": "stream",
          "name": "stdout",
          "text": [
            "/content/gdrive/MyDrive/RGB_data_stream/gaussian_blur_aug/1011.pt\n"
          ]
        },
        {
          "output_type": "stream",
          "name": "stderr",
          "text": [
            "Training: 100%|██████████| 31/31 [02:23<00:00,  4.62s/it, loss=5.43, accuracy=32.8]\n",
            "Validation: 100%|██████████| 9/9 [00:16<00:00,  1.85s/it, loss=2.48, accuracy=31.2]\n"
          ]
        },
        {
          "output_type": "stream",
          "name": "stdout",
          "text": [
            "\n",
            "Epoch 4/50 Summary:\n",
            "Train Loss: 5.4253 | Train Acc: 32.78% | Train Precision: 0.32 | Train Recall: 0.33 | Train F1: 0.29\n",
            "Val Loss: 2.3240 | Val Acc: 35.51% | Val Precision: 0.36 | Val Recall: 0.36 | Val F1: 0.30\n",
            "Saving checkpoint to /content/gdrive/MyDrive/RGB_data_stream/nov9_equal_interval_sample/best_model.pth\n",
            "Checkpoint saved at epoch 4\n",
            "New best model saved! Validation Loss: 2.3240\n",
            "\n",
            "Epoch 5/50\n",
            "Current Learning Rate: 0.0001\n"
          ]
        },
        {
          "output_type": "stream",
          "name": "stderr",
          "text": [
            "Training:  32%|███▏      | 10/31 [00:45<01:19,  3.78s/it, loss=5.1, accuracy=31.2]"
          ]
        },
        {
          "output_type": "stream",
          "name": "stdout",
          "text": [
            "/content/gdrive/MyDrive/RGB_data_stream/complete_pre_processed/1011.pt\n"
          ]
        },
        {
          "output_type": "stream",
          "name": "stderr",
          "text": [
            "Training: 100%|██████████| 31/31 [02:18<00:00,  4.46s/it, loss=5.29, accuracy=34]\n",
            "Validation: 100%|██████████| 9/9 [00:17<00:00,  1.92s/it, loss=2.56, accuracy=31.2]\n"
          ]
        },
        {
          "output_type": "stream",
          "name": "stdout",
          "text": [
            "\n",
            "Epoch 5/50 Summary:\n",
            "Train Loss: 5.2859 | Train Acc: 34.02% | Train Precision: 0.33 | Train Recall: 0.34 | Train F1: 0.31\n",
            "Val Loss: 2.2906 | Val Acc: 36.23% | Val Precision: 0.35 | Val Recall: 0.36 | Val F1: 0.29\n",
            "Saving checkpoint to /content/gdrive/MyDrive/RGB_data_stream/nov9_equal_interval_sample/best_model.pth\n",
            "Checkpoint saved at epoch 5\n",
            "New best model saved! Validation Loss: 2.2906\n",
            "Unfreezing last 3 layers of CNN\n",
            "\n",
            "Epoch 6/50\n",
            "Current Learning Rate: 0.0001\n"
          ]
        },
        {
          "output_type": "stream",
          "name": "stderr",
          "text": [
            "Training:  68%|██████▊   | 21/31 [01:31<00:28,  2.82s/it, loss=4.88, accuracy=33.3]"
          ]
        },
        {
          "output_type": "stream",
          "name": "stdout",
          "text": [
            "/content/gdrive/MyDrive/RGB_data_stream/complete_pre_processed/1011.pt\n"
          ]
        },
        {
          "output_type": "stream",
          "name": "stderr",
          "text": [
            "Training: 100%|██████████| 31/31 [02:21<00:00,  4.56s/it, loss=5.06, accuracy=33.2]\n",
            "Validation: 100%|██████████| 9/9 [00:16<00:00,  1.87s/it, loss=2.16, accuracy=25]\n"
          ]
        },
        {
          "output_type": "stream",
          "name": "stdout",
          "text": [
            "\n",
            "Epoch 6/50 Summary:\n",
            "Train Loss: 5.0591 | Train Acc: 33.20% | Train Precision: 0.32 | Train Recall: 0.33 | Train F1: 0.30\n",
            "Val Loss: 1.8499 | Val Acc: 37.68% | Val Precision: 0.39 | Val Recall: 0.38 | Val F1: 0.35\n",
            "Saving checkpoint to /content/gdrive/MyDrive/RGB_data_stream/nov9_equal_interval_sample/best_model.pth\n",
            "Checkpoint saved at epoch 6\n",
            "New best model saved! Validation Loss: 1.8499\n",
            "\n",
            "Epoch 7/50\n",
            "Current Learning Rate: 0.0001\n"
          ]
        },
        {
          "output_type": "stream",
          "name": "stderr",
          "text": [
            "Training:  84%|████████▍ | 26/31 [01:41<00:17,  3.55s/it, loss=4.37, accuracy=37.2]"
          ]
        },
        {
          "output_type": "stream",
          "name": "stdout",
          "text": [
            "/content/gdrive/MyDrive/RGB_data_stream/complete_pre_processed/1011.pt\n"
          ]
        },
        {
          "output_type": "stream",
          "name": "stderr",
          "text": [
            "Training: 100%|██████████| 31/31 [01:59<00:00,  3.87s/it, loss=4.55, accuracy=37.1]\n",
            "Validation: 100%|██████████| 9/9 [00:16<00:00,  1.89s/it, loss=2.38, accuracy=31.2]\n"
          ]
        },
        {
          "output_type": "stream",
          "name": "stdout",
          "text": [
            "\n",
            "Epoch 7/50 Summary:\n",
            "Train Loss: 4.5493 | Train Acc: 37.11% | Train Precision: 0.39 | Train Recall: 0.37 | Train F1: 0.36\n",
            "Val Loss: 1.8119 | Val Acc: 47.83% | Val Precision: 0.43 | Val Recall: 0.48 | Val F1: 0.41\n",
            "Saving checkpoint to /content/gdrive/MyDrive/RGB_data_stream/nov9_equal_interval_sample/best_model.pth\n",
            "Checkpoint saved at epoch 7\n",
            "New best model saved! Validation Loss: 1.8119\n",
            "\n",
            "Epoch 8/50\n",
            "Current Learning Rate: 0.0001\n"
          ]
        },
        {
          "output_type": "stream",
          "name": "stderr",
          "text": [
            "Training:  13%|█▎        | 4/31 [00:17<01:41,  3.75s/it, loss=6.49, accuracy=25]"
          ]
        },
        {
          "output_type": "stream",
          "name": "stdout",
          "text": [
            "/content/gdrive/MyDrive/RGB_data_stream/horz_aug/1011.pt\n"
          ]
        },
        {
          "output_type": "stream",
          "name": "stderr",
          "text": [
            "Training: 100%|██████████| 31/31 [02:09<00:00,  4.17s/it, loss=4.88, accuracy=34]\n",
            "Validation: 100%|██████████| 9/9 [00:16<00:00,  1.85s/it, loss=2.56, accuracy=37.5]\n"
          ]
        },
        {
          "output_type": "stream",
          "name": "stdout",
          "text": [
            "\n",
            "Epoch 8/50 Summary:\n",
            "Train Loss: 4.8814 | Train Acc: 34.02% | Train Precision: 0.33 | Train Recall: 0.34 | Train F1: 0.31\n",
            "Val Loss: 1.7679 | Val Acc: 50.00% | Val Precision: 0.57 | Val Recall: 0.50 | Val F1: 0.48\n",
            "Saving checkpoint to /content/gdrive/MyDrive/RGB_data_stream/nov9_equal_interval_sample/best_model.pth\n",
            "Checkpoint saved at epoch 8\n",
            "New best model saved! Validation Loss: 1.7679\n",
            "\n",
            "Epoch 9/50\n",
            "Current Learning Rate: 0.0001\n"
          ]
        },
        {
          "output_type": "stream",
          "name": "stderr",
          "text": [
            "Training:  26%|██▌       | 8/31 [00:32<01:12,  3.17s/it, loss=3.48, accuracy=43.8]"
          ]
        },
        {
          "output_type": "stream",
          "name": "stdout",
          "text": [
            "/content/gdrive/MyDrive/RGB_data_stream/gaussian_blur_aug/1011.pt\n"
          ]
        },
        {
          "output_type": "stream",
          "name": "stderr",
          "text": [
            "Training: 100%|██████████| 31/31 [02:06<00:00,  4.07s/it, loss=4.4, accuracy=37.7]\n",
            "Validation: 100%|██████████| 9/9 [00:17<00:00,  1.94s/it, loss=2.67, accuracy=18.8]\n"
          ]
        },
        {
          "output_type": "stream",
          "name": "stdout",
          "text": [
            "\n",
            "Epoch 9/50 Summary:\n",
            "Train Loss: 4.4004 | Train Acc: 37.73% | Train Precision: 0.37 | Train Recall: 0.38 | Train F1: 0.35\n",
            "Val Loss: 1.4780 | Val Acc: 50.72% | Val Precision: 0.49 | Val Recall: 0.51 | Val F1: 0.46\n",
            "Saving checkpoint to /content/gdrive/MyDrive/RGB_data_stream/nov9_equal_interval_sample/best_model.pth\n",
            "Checkpoint saved at epoch 9\n",
            "New best model saved! Validation Loss: 1.4780\n",
            "\n",
            "Epoch 10/50\n",
            "Current Learning Rate: 0.0001\n"
          ]
        },
        {
          "output_type": "stream",
          "name": "stderr",
          "text": [
            "Training:  74%|███████▍  | 23/31 [01:43<00:38,  4.79s/it, loss=3.79, accuracy=45.5]"
          ]
        },
        {
          "output_type": "stream",
          "name": "stdout",
          "text": [
            "/content/gdrive/MyDrive/RGB_data_stream/complete_pre_processed/1011.pt\n"
          ]
        },
        {
          "output_type": "stream",
          "name": "stderr",
          "text": [
            "Training: 100%|██████████| 31/31 [02:16<00:00,  4.40s/it, loss=3.83, accuracy=44.7]\n",
            "Validation: 100%|██████████| 9/9 [00:18<00:00,  2.05s/it, loss=2.21, accuracy=43.8]\n"
          ]
        },
        {
          "output_type": "stream",
          "name": "stdout",
          "text": [
            "\n",
            "Epoch 10/50 Summary:\n",
            "Train Loss: 3.8278 | Train Acc: 44.74% | Train Precision: 0.44 | Train Recall: 0.45 | Train F1: 0.43\n",
            "Val Loss: 1.3910 | Val Acc: 52.90% | Val Precision: 0.51 | Val Recall: 0.53 | Val F1: 0.48\n",
            "Saving checkpoint to /content/gdrive/MyDrive/RGB_data_stream/nov9_equal_interval_sample/best_model.pth\n",
            "Checkpoint saved at epoch 10\n",
            "New best model saved! Validation Loss: 1.3910\n",
            "\n",
            "Epoch 11/50\n",
            "Current Learning Rate: 0.0001\n"
          ]
        },
        {
          "output_type": "stream",
          "name": "stderr",
          "text": [
            "Training:  42%|████▏     | 13/31 [00:54<01:07,  3.73s/it, loss=3.16, accuracy=47.2]"
          ]
        },
        {
          "output_type": "stream",
          "name": "stdout",
          "text": [
            "/content/gdrive/MyDrive/RGB_data_stream/complete_pre_processed/1011.pt\n"
          ]
        },
        {
          "output_type": "stream",
          "name": "stderr",
          "text": [
            "Training: 100%|██████████| 31/31 [02:29<00:00,  4.81s/it, loss=3.19, accuracy=48.2]\n",
            "Validation: 100%|██████████| 9/9 [00:19<00:00,  2.12s/it, loss=2.24, accuracy=37.5]\n"
          ]
        },
        {
          "output_type": "stream",
          "name": "stdout",
          "text": [
            "\n",
            "Epoch 11/50 Summary:\n",
            "Train Loss: 3.1932 | Train Acc: 48.25% | Train Precision: 0.46 | Train Recall: 0.48 | Train F1: 0.45\n",
            "Val Loss: 1.2496 | Val Acc: 55.07% | Val Precision: 0.53 | Val Recall: 0.55 | Val F1: 0.51\n",
            "Saving checkpoint to /content/gdrive/MyDrive/RGB_data_stream/nov9_equal_interval_sample/best_model.pth\n",
            "Checkpoint saved at epoch 11\n",
            "New best model saved! Validation Loss: 1.2496\n",
            "\n",
            "Epoch 12/50\n",
            "Current Learning Rate: 0.0001\n"
          ]
        },
        {
          "output_type": "stream",
          "name": "stderr",
          "text": [
            "Training:  74%|███████▍  | 23/31 [01:49<00:31,  3.91s/it, loss=2.63, accuracy=56.8]"
          ]
        },
        {
          "output_type": "stream",
          "name": "stdout",
          "text": [
            "/content/gdrive/MyDrive/RGB_data_stream/complete_pre_processed/1011.pt\n"
          ]
        },
        {
          "output_type": "stream",
          "name": "stderr",
          "text": [
            "Training: 100%|██████████| 31/31 [02:24<00:00,  4.67s/it, loss=2.65, accuracy=55.5]\n",
            "Validation: 100%|██████████| 9/9 [00:20<00:00,  2.29s/it, loss=2.68, accuracy=37.5]"
          ]
        },
        {
          "output_type": "stream",
          "name": "stdout",
          "text": [
            "\n",
            "Epoch 12/50 Summary:\n",
            "Train Loss: 2.6535 | Train Acc: 55.46% | Train Precision: 0.55 | Train Recall: 0.55 | Train F1: 0.54\n",
            "Val Loss: 1.3052 | Val Acc: 64.49% | Val Precision: 0.64 | Val Recall: 0.64 | Val F1: 0.64\n",
            "\n",
            "Epoch 13/50\n",
            "Current Learning Rate: 0.0001\n"
          ]
        },
        {
          "output_type": "stream",
          "name": "stderr",
          "text": [
            "\n",
            "Training:   6%|▋         | 2/31 [00:09<02:08,  4.44s/it, loss=2.74, accuracy=43.8]"
          ]
        },
        {
          "output_type": "stream",
          "name": "stdout",
          "text": [
            "/content/gdrive/MyDrive/RGB_data_stream/complete_pre_processed/1011.pt\n"
          ]
        },
        {
          "output_type": "stream",
          "name": "stderr",
          "text": [
            "Training: 100%|██████████| 31/31 [02:21<00:00,  4.55s/it, loss=2.96, accuracy=52.4]\n",
            "Validation: 100%|██████████| 9/9 [00:19<00:00,  2.12s/it, loss=1.74, accuracy=37.5]\n"
          ]
        },
        {
          "output_type": "stream",
          "name": "stdout",
          "text": [
            "\n",
            "Epoch 13/50 Summary:\n",
            "Train Loss: 2.9580 | Train Acc: 52.37% | Train Precision: 0.51 | Train Recall: 0.52 | Train F1: 0.50\n",
            "Val Loss: 1.0285 | Val Acc: 64.49% | Val Precision: 0.67 | Val Recall: 0.64 | Val F1: 0.65\n",
            "Saving checkpoint to /content/gdrive/MyDrive/RGB_data_stream/nov9_equal_interval_sample/best_model.pth\n",
            "Checkpoint saved at epoch 13\n",
            "New best model saved! Validation Loss: 1.0285\n",
            "\n",
            "Epoch 14/50\n",
            "Current Learning Rate: 0.0001\n"
          ]
        },
        {
          "output_type": "stream",
          "name": "stderr",
          "text": [
            "Training:  45%|████▌     | 14/31 [01:02<01:28,  5.22s/it, loss=2.86, accuracy=54]"
          ]
        },
        {
          "output_type": "stream",
          "name": "stdout",
          "text": [
            "/content/gdrive/MyDrive/RGB_data_stream/horz_aug/1011.pt\n"
          ]
        },
        {
          "output_type": "stream",
          "name": "stderr",
          "text": [
            "Training: 100%|██████████| 31/31 [02:24<00:00,  4.68s/it, loss=2.51, accuracy=56.7]\n",
            "Validation: 100%|██████████| 9/9 [00:19<00:00,  2.16s/it, loss=1.38, accuracy=43.8]\n"
          ]
        },
        {
          "output_type": "stream",
          "name": "stdout",
          "text": [
            "\n",
            "Epoch 14/50 Summary:\n",
            "Train Loss: 2.5110 | Train Acc: 56.70% | Train Precision: 0.55 | Train Recall: 0.57 | Train F1: 0.55\n",
            "Val Loss: 1.0147 | Val Acc: 68.84% | Val Precision: 0.71 | Val Recall: 0.69 | Val F1: 0.69\n",
            "Saving checkpoint to /content/gdrive/MyDrive/RGB_data_stream/nov9_equal_interval_sample/best_model.pth\n",
            "Checkpoint saved at epoch 14\n",
            "New best model saved! Validation Loss: 1.0147\n",
            "\n",
            "Epoch 15/50\n",
            "Current Learning Rate: 0.0001\n"
          ]
        },
        {
          "output_type": "stream",
          "name": "stderr",
          "text": [
            "Training:  19%|█▉        | 6/31 [00:29<01:49,  4.40s/it, loss=0.803, accuracy=75]"
          ]
        },
        {
          "output_type": "stream",
          "name": "stdout",
          "text": [
            "/content/gdrive/MyDrive/RGB_data_stream/complete_pre_processed/1011.pt\n"
          ]
        },
        {
          "output_type": "stream",
          "name": "stderr",
          "text": [
            "Training: 100%|██████████| 31/31 [02:26<00:00,  4.72s/it, loss=2.46, accuracy=59.2]\n",
            "Validation: 100%|██████████| 9/9 [00:18<00:00,  2.11s/it, loss=1.54, accuracy=62.5]\n"
          ]
        },
        {
          "output_type": "stream",
          "name": "stdout",
          "text": [
            "\n",
            "Epoch 15/50 Summary:\n",
            "Train Loss: 2.4633 | Train Acc: 59.18% | Train Precision: 0.58 | Train Recall: 0.59 | Train F1: 0.58\n",
            "Val Loss: 0.9679 | Val Acc: 71.74% | Val Precision: 0.76 | Val Recall: 0.72 | Val F1: 0.73\n",
            "Saving checkpoint to /content/gdrive/MyDrive/RGB_data_stream/nov9_equal_interval_sample/best_model.pth\n",
            "Checkpoint saved at epoch 15\n",
            "New best model saved! Validation Loss: 0.9679\n",
            "\n",
            "Epoch 16/50\n",
            "Current Learning Rate: 0.0001\n"
          ]
        },
        {
          "output_type": "stream",
          "name": "stderr",
          "text": [
            "Training:  45%|████▌     | 14/31 [00:59<01:00,  3.59s/it, loss=2.64, accuracy=55.7]"
          ]
        },
        {
          "output_type": "stream",
          "name": "stdout",
          "text": [
            "/content/gdrive/MyDrive/RGB_data_stream/gaussian_blur_aug/1011.pt\n"
          ]
        },
        {
          "output_type": "stream",
          "name": "stderr",
          "text": [
            "Training: 100%|██████████| 31/31 [02:12<00:00,  4.28s/it, loss=2.23, accuracy=60.2]\n",
            "Validation: 100%|██████████| 9/9 [00:16<00:00,  1.89s/it, loss=1.43, accuracy=43.8]\n"
          ]
        },
        {
          "output_type": "stream",
          "name": "stdout",
          "text": [
            "\n",
            "Epoch 16/50 Summary:\n",
            "Train Loss: 2.2325 | Train Acc: 60.21% | Train Precision: 0.59 | Train Recall: 0.60 | Train F1: 0.59\n",
            "Val Loss: 0.9594 | Val Acc: 71.74% | Val Precision: 0.73 | Val Recall: 0.72 | Val F1: 0.72\n",
            "Saving checkpoint to /content/gdrive/MyDrive/RGB_data_stream/nov9_equal_interval_sample/best_model.pth\n",
            "Checkpoint saved at epoch 16\n",
            "New best model saved! Validation Loss: 0.9594\n",
            "\n",
            "Epoch 17/50\n",
            "Current Learning Rate: 0.0001\n"
          ]
        },
        {
          "output_type": "stream",
          "name": "stderr",
          "text": [
            "Training:  77%|███████▋  | 24/31 [01:58<00:32,  4.65s/it, loss=1.66, accuracy=68.2]"
          ]
        },
        {
          "output_type": "stream",
          "name": "stdout",
          "text": [
            "/content/gdrive/MyDrive/RGB_data_stream/complete_pre_processed/1011.pt\n"
          ]
        },
        {
          "output_type": "stream",
          "name": "stderr",
          "text": [
            "Training: 100%|██████████| 31/31 [02:29<00:00,  4.81s/it, loss=1.57, accuracy=67.6]\n",
            "Validation: 100%|██████████| 9/9 [00:17<00:00,  1.90s/it, loss=1.48, accuracy=50]\n"
          ]
        },
        {
          "output_type": "stream",
          "name": "stdout",
          "text": [
            "\n",
            "Epoch 17/50 Summary:\n",
            "Train Loss: 1.5736 | Train Acc: 67.63% | Train Precision: 0.67 | Train Recall: 0.68 | Train F1: 0.67\n",
            "Val Loss: 0.8695 | Val Acc: 73.91% | Val Precision: 0.76 | Val Recall: 0.74 | Val F1: 0.74\n",
            "Saving checkpoint to /content/gdrive/MyDrive/RGB_data_stream/nov9_equal_interval_sample/best_model.pth\n",
            "Checkpoint saved at epoch 17\n",
            "New best model saved! Validation Loss: 0.8695\n",
            "\n",
            "Epoch 18/50\n",
            "Current Learning Rate: 0.0001\n"
          ]
        },
        {
          "output_type": "stream",
          "name": "stderr",
          "text": [
            "Training:  94%|█████████▎| 29/31 [02:21<00:09,  4.82s/it, loss=1.97, accuracy=67]"
          ]
        },
        {
          "output_type": "stream",
          "name": "stdout",
          "text": [
            "/content/gdrive/MyDrive/RGB_data_stream/complete_pre_processed/1011.pt\n"
          ]
        },
        {
          "output_type": "stream",
          "name": "stderr",
          "text": [
            "Training: 100%|██████████| 31/31 [02:23<00:00,  4.62s/it, loss=2.03, accuracy=68.2]\n",
            "Validation: 100%|██████████| 9/9 [00:18<00:00,  2.08s/it, loss=1.01, accuracy=56.2]"
          ]
        },
        {
          "output_type": "stream",
          "name": "stdout",
          "text": [
            "\n",
            "Epoch 18/50 Summary:\n",
            "Train Loss: 2.0340 | Train Acc: 68.25% | Train Precision: 0.68 | Train Recall: 0.68 | Train F1: 0.68\n",
            "Val Loss: 0.9285 | Val Acc: 68.12% | Val Precision: 0.71 | Val Recall: 0.68 | Val F1: 0.69\n",
            "\n",
            "Epoch 19/50\n",
            "Current Learning Rate: 0.0001\n"
          ]
        },
        {
          "output_type": "stream",
          "name": "stderr",
          "text": [
            "\n",
            "Training:  32%|███▏      | 10/31 [00:41<01:08,  3.25s/it, loss=0.828, accuracy=81.2]"
          ]
        },
        {
          "output_type": "stream",
          "name": "stdout",
          "text": [
            "/content/gdrive/MyDrive/RGB_data_stream/horz_aug/1011.pt\n"
          ]
        },
        {
          "output_type": "stream",
          "name": "stderr",
          "text": [
            "Training: 100%|██████████| 31/31 [02:19<00:00,  4.51s/it, loss=1.47, accuracy=70.5]\n",
            "Validation: 100%|██████████| 9/9 [00:20<00:00,  2.24s/it, loss=1.3, accuracy=43.8]\n"
          ]
        },
        {
          "output_type": "stream",
          "name": "stdout",
          "text": [
            "\n",
            "Epoch 19/50 Summary:\n",
            "Train Loss: 1.4687 | Train Acc: 70.52% | Train Precision: 0.70 | Train Recall: 0.71 | Train F1: 0.70\n",
            "Val Loss: 0.9192 | Val Acc: 73.91% | Val Precision: 0.75 | Val Recall: 0.74 | Val F1: 0.74\n",
            "\n",
            "Epoch 20/50\n",
            "Current Learning Rate: 0.0001\n"
          ]
        },
        {
          "output_type": "stream",
          "name": "stderr",
          "text": [
            "Training:  90%|█████████ | 28/31 [02:31<00:17,  5.74s/it, loss=1.61, accuracy=64.9]"
          ]
        },
        {
          "output_type": "stream",
          "name": "stdout",
          "text": [
            "/content/gdrive/MyDrive/RGB_data_stream/complete_pre_processed/1011.pt\n"
          ]
        },
        {
          "output_type": "stream",
          "name": "stderr",
          "text": [
            "Training: 100%|██████████| 31/31 [02:40<00:00,  5.19s/it, loss=1.66, accuracy=68]\n",
            "Validation: 100%|██████████| 9/9 [00:17<00:00,  1.94s/it, loss=1.41, accuracy=62.5]"
          ]
        },
        {
          "output_type": "stream",
          "name": "stdout",
          "text": [
            "\n",
            "Epoch 20/50 Summary:\n",
            "Train Loss: 1.6649 | Train Acc: 68.04% | Train Precision: 0.68 | Train Recall: 0.68 | Train F1: 0.68\n",
            "Val Loss: 0.9392 | Val Acc: 76.09% | Val Precision: 0.78 | Val Recall: 0.76 | Val F1: 0.77\n",
            "\n",
            "Epoch 21/50\n",
            "Current Learning Rate: 0.0001\n"
          ]
        },
        {
          "output_type": "stream",
          "name": "stderr",
          "text": [
            "\n",
            "Training:  19%|█▉        | 6/31 [00:38<02:00,  4.84s/it, loss=0.827, accuracy=81.2]"
          ]
        },
        {
          "output_type": "stream",
          "name": "stdout",
          "text": [
            "/content/gdrive/MyDrive/RGB_data_stream/complete_pre_processed/1011.pt\n"
          ]
        },
        {
          "output_type": "stream",
          "name": "stderr",
          "text": [
            "Training: 100%|██████████| 31/31 [02:25<00:00,  4.69s/it, loss=1.32, accuracy=73]\n",
            "Validation: 100%|██████████| 9/9 [00:17<00:00,  1.95s/it, loss=1.35, accuracy=62.5]"
          ]
        },
        {
          "output_type": "stream",
          "name": "stdout",
          "text": [
            "\n",
            "Epoch 21/50 Summary:\n",
            "Train Loss: 1.3193 | Train Acc: 72.99% | Train Precision: 0.72 | Train Recall: 0.73 | Train F1: 0.73\n",
            "Val Loss: 0.9792 | Val Acc: 76.81% | Val Precision: 0.78 | Val Recall: 0.77 | Val F1: 0.77\n",
            "\n",
            "Epoch 22/50\n",
            "Current Learning Rate: 0.0001\n"
          ]
        },
        {
          "output_type": "stream",
          "name": "stderr",
          "text": [
            "\n",
            "Training:  35%|███▌      | 11/31 [00:51<01:21,  4.08s/it, loss=0.882, accuracy=77.8]"
          ]
        },
        {
          "output_type": "stream",
          "name": "stdout",
          "text": [
            "/content/gdrive/MyDrive/RGB_data_stream/horz_aug/1011.pt\n"
          ]
        },
        {
          "output_type": "stream",
          "name": "stderr",
          "text": [
            "Training: 100%|██████████| 31/31 [02:32<00:00,  4.93s/it, loss=1.1, accuracy=78.4]\n",
            "Validation: 100%|██████████| 9/9 [00:17<00:00,  1.94s/it, loss=1.35, accuracy=62.5]"
          ]
        },
        {
          "output_type": "stream",
          "name": "stdout",
          "text": [
            "\n",
            "Epoch 22/50 Summary:\n",
            "Train Loss: 1.0977 | Train Acc: 78.35% | Train Precision: 0.78 | Train Recall: 0.78 | Train F1: 0.78\n",
            "Val Loss: 1.2500 | Val Acc: 76.09% | Val Precision: 0.81 | Val Recall: 0.76 | Val F1: 0.76\n",
            "\n",
            "Epoch 23/50\n",
            "Current Learning Rate: 1e-05\n"
          ]
        },
        {
          "output_type": "stream",
          "name": "stderr",
          "text": [
            "\n",
            "Training:  65%|██████▍   | 20/31 [01:17<00:43,  3.92s/it, loss=0.74, accuracy=80.7]"
          ]
        },
        {
          "output_type": "stream",
          "name": "stdout",
          "text": [
            "/content/gdrive/MyDrive/RGB_data_stream/gaussian_blur_aug/1011.pt\n"
          ]
        },
        {
          "output_type": "stream",
          "name": "stderr",
          "text": [
            "Training: 100%|██████████| 31/31 [02:09<00:00,  4.19s/it, loss=0.783, accuracy=81.2]\n",
            "Validation: 100%|██████████| 9/9 [00:19<00:00,  2.14s/it, loss=1.24, accuracy=68.8]"
          ]
        },
        {
          "output_type": "stream",
          "name": "stdout",
          "text": [
            "\n",
            "Epoch 23/50 Summary:\n",
            "Train Loss: 0.7834 | Train Acc: 81.24% | Train Precision: 0.81 | Train Recall: 0.81 | Train F1: 0.81\n",
            "Val Loss: 1.2504 | Val Acc: 75.36% | Val Precision: 0.80 | Val Recall: 0.75 | Val F1: 0.76\n",
            "\n",
            "Epoch 24/50\n",
            "Current Learning Rate: 1e-05\n"
          ]
        },
        {
          "output_type": "stream",
          "name": "stderr",
          "text": [
            "\n",
            "Training:   0%|          | 0/31 [00:00<?, ?it/s]"
          ]
        },
        {
          "output_type": "stream",
          "name": "stdout",
          "text": [
            "/content/gdrive/MyDrive/RGB_data_stream/complete_pre_processed/1011.pt\n"
          ]
        },
        {
          "output_type": "stream",
          "name": "stderr",
          "text": [
            "Training: 100%|██████████| 31/31 [02:24<00:00,  4.67s/it, loss=0.914, accuracy=77.5]\n",
            "Validation: 100%|██████████| 9/9 [00:18<00:00,  2.07s/it, loss=1.06, accuracy=75]\n"
          ]
        },
        {
          "output_type": "stream",
          "name": "stdout",
          "text": [
            "\n",
            "Epoch 24/50 Summary:\n",
            "Train Loss: 0.9139 | Train Acc: 77.53% | Train Precision: 0.77 | Train Recall: 0.78 | Train F1: 0.77\n",
            "Val Loss: 1.1486 | Val Acc: 76.09% | Val Precision: 0.80 | Val Recall: 0.76 | Val F1: 0.76\n",
            "Early stopping triggered\n"
          ]
        },
        {
          "output_type": "display_data",
          "data": {
            "text/plain": [
              "<Figure size 1800x1000 with 6 Axes>"
            ],
            "image/png": "[encoded data removed]"
          },
          "metadata": {}
        },
        {
          "output_type": "stream",
          "name": "stdout",
          "text": [
            "Loading checkpoint from /content/gdrive/MyDrive/RGB_data_stream/nov9_equal_interval_sample/best_model.pth\n"
          ]
        },
        {
          "output_type": "stream",
          "name": "stderr",
          "text": [
            "<ipython-input-14-04d0bcd412bb>:6: FutureWarning: You are using `torch.load` with `weights_only=False` (the current default value), which uses the default pickle module implicitly. It is possible to construct malicious pickle data which will execute arbitrary code during unpickling (See https://github.com/pytorch/pytorch/blob/main/SECURITY.md#untrusted-models for more details). In a future release, the default value for `weights_only` will be flipped to `True`. This limits the functions that could be executed during unpickling. Arbitrary objects will no longer be allowed to be loaded via this mode unless they are explicitly allowlisted by the user via `torch.serialization.add_safe_globals`. We recommend you start setting `weights_only=True` for any use case where you don't have full control of the loaded file. Please open an issue on GitHub for any issues related to this experimental feature.\n",
            "  checkpoint = torch.load(checkpoint_path)\n"
          ]
        },
        {
          "output_type": "stream",
          "name": "stdout",
          "text": [
            "Resuming training from epoch 17\n"
          ]
        },
        {
          "output_type": "stream",
          "name": "stderr",
          "text": [
            "Testing: 100%|██████████| 5/5 [01:11<00:00, 14.28s/it]\n"
          ]
        },
        {
          "output_type": "display_data",
          "data": {
            "text/plain": [
              "<Figure size 1000x800 with 2 Axes>"
            ],
            "image/png": "[encoded data removed]"
          },
          "metadata": {}
        },
        {
          "output_type": "stream",
          "name": "stdout",
          "text": [
            "Test Loss: 1.0650\n",
            "Test Accuracy: 72.46%\n"
          ]
        }
      ]
    },
    {
      "cell_type": "code",
      "source": [
        "# plot_training_curves(history)\n",
        "# evaluate_model(model, test_loader, criterion, pose_list)"
      ],
      "metadata": {
        "colab": {
          "base_uri": "https://localhost:8080/",
          "height": 159
        },
        "id": "GQj4F6ZbfCDU",
        "outputId": "eb04ab89-413a-4128-e6c6-be52ea77ab64"
      },
      "execution_count": 21,
      "outputs": [
        {
          "output_type": "error",
          "ename": "NameError",
          "evalue": "name 'history' is not defined",
          "traceback": [
            "\u001b[0;31m---------------------------------------------------------------------------\u001b[0m",
            "\u001b[0;31mNameError\u001b[0m                                 Traceback (most recent call last)",
            "\u001b[0;32m<ipython-input-21-31a087c367e6>\u001b[0m in \u001b[0;36m<cell line: 1>\u001b[0;34m()\u001b[0m\n\u001b[0;32m----> 1\u001b[0;31m \u001b[0mplot_training_curves\u001b[0m\u001b[0;34m(\u001b[0m\u001b[0mhistory\u001b[0m\u001b[0;34m)\u001b[0m\u001b[0;34m\u001b[0m\u001b[0;34m\u001b[0m\u001b[0m\n\u001b[0m\u001b[1;32m      2\u001b[0m \u001b[0mevaluate_model\u001b[0m\u001b[0;34m(\u001b[0m\u001b[0mmodel\u001b[0m\u001b[0;34m,\u001b[0m \u001b[0mtest_loader\u001b[0m\u001b[0;34m,\u001b[0m \u001b[0mcriterion\u001b[0m\u001b[0;34m,\u001b[0m \u001b[0mpose_list\u001b[0m\u001b[0;34m)\u001b[0m\u001b[0;34m\u001b[0m\u001b[0;34m\u001b[0m\u001b[0m\n",
            "\u001b[0;31mNameError\u001b[0m: name 'history' is not defined"
          ]
        }
      ]
    },
    {
      "cell_type": "code",
      "source": [
        "eval_best_model()"
      ],
      "metadata": {
        "colab": {
          "base_uri": "https://localhost:8080/",
          "height": 877
        },
        "id": "7rQIBPV-fEnr",
        "outputId": "4a8ec235-240e-42a7-cec8-9d0603f47ea8"
      },
      "execution_count": 30,
      "outputs": [
        {
          "output_type": "stream",
          "name": "stdout",
          "text": [
            "Loading Data\n",
            "Loading checkpoint from /content/gdrive/MyDrive/RGB_data_stream/nov9_equal_interval_sample/best_model.pth\n"
          ]
        },
        {
          "output_type": "stream",
          "name": "stderr",
          "text": [
            "<ipython-input-14-04d0bcd412bb>:6: FutureWarning: You are using `torch.load` with `weights_only=False` (the current default value), which uses the default pickle module implicitly. It is possible to construct malicious pickle data which will execute arbitrary code during unpickling (See https://github.com/pytorch/pytorch/blob/main/SECURITY.md#untrusted-models for more details). In a future release, the default value for `weights_only` will be flipped to `True`. This limits the functions that could be executed during unpickling. Arbitrary objects will no longer be allowed to be loaded via this mode unless they are explicitly allowlisted by the user via `torch.serialization.add_safe_globals`. We recommend you start setting `weights_only=True` for any use case where you don't have full control of the loaded file. Please open an issue on GitHub for any issues related to this experimental feature.\n",
            "  checkpoint = torch.load(checkpoint_path)\n"
          ]
        },
        {
          "output_type": "stream",
          "name": "stdout",
          "text": [
            "Resuming training from epoch 17\n"
          ]
        },
        {
          "output_type": "stream",
          "name": "stderr",
          "text": [
            "Testing: 100%|██████████| 5/5 [00:26<00:00,  5.28s/it]\n"
          ]
        },
        {
          "output_type": "display_data",
          "data": {
            "text/plain": [
              "<Figure size 1000x800 with 2 Axes>"
            ],
            "image/png": "[encoded data removed]"
          },
          "metadata": {}
        },
        {
          "output_type": "stream",
          "name": "stdout",
          "text": [
            "Test Loss: 1.1387\n",
            "Test Accuracy: 73.91%\n"
          ]
        }
      ]
    },
    {
      "cell_type": "markdown",
      "source": [
        "# TO EXAMINE THE DATASET FOR FAULTS\n"
      ],
      "metadata": {
        "id": "CNlzK-nG9Kzn"
      }
    },
    {
      "cell_type": "code",
      "source": [
        "from tqdm import tqdm\n",
        "\n",
        "def find_potential_label_errors(model, dataset, dataloader, threshold=0.9, device='cuda'):\n",
        "    # Move model to GPU\n",
        "    model = model.to(device)\n",
        "    model.eval()\n",
        "\n",
        "    potential_errors = {\n",
        "        'sequence_id': [],\n",
        "        'predicted_pose': [],\n",
        "        'given_pose': [],\n",
        "        'confidence': []\n",
        "    }\n",
        "\n",
        "    # Reverse mapping from index to pose name\n",
        "    idx_to_pose = {v: k for k, v in dataset.pose_to_idx.items()}\n",
        "\n",
        "    with torch.no_grad():\n",
        "        for batch_idx, (sequences, labels, length) in enumerate(tqdm(dataloader, desc=\"Analyzing sequences\")):\n",
        "            # Move tensors to GPU\n",
        "            sequences = sequences.to(device)\n",
        "            labels = labels.to(device)\n",
        "            length = length.to(device)\n",
        "\n",
        "            # Get model predictions\n",
        "            logits = model(sequences,length)  # Your raw logits\n",
        "            probabilities = torch.nn.functional.softmax(logits, dim=1)\n",
        "            predictions = torch.argmax(probabilities, dim=1)\n",
        "\n",
        "            # Find high confidence disagreements\n",
        "            for idx, (pred, true_label, prob) in enumerate(zip(predictions, labels, probabilities)):\n",
        "                confidence = prob[pred].item()\n",
        "\n",
        "                if pred != true_label and confidence > threshold:\n",
        "                    # Get global index and sequence_id\n",
        "                    global_idx = batch_idx * dataloader.batch_size + idx\n",
        "                    sequence_id = dataset.df.iloc[global_idx]['sequence_id']\n",
        "\n",
        "                    potential_errors['sequence_id'].append(sequence_id)\n",
        "                    potential_errors['predicted_pose'].append(idx_to_pose[pred.item()])\n",
        "                    potential_errors['given_pose'].append(idx_to_pose[true_label.item()])\n",
        "                    potential_errors['confidence'].append(confidence)\n",
        "\n",
        "    return potential_errors\n",
        "\n",
        "def analyze_yoga_errors(potential_errors):\n",
        "    \"\"\"Analyze patterns in potential errors for yoga poses\"\"\"\n",
        "    error_df = pd.DataFrame(potential_errors)\n",
        "\n",
        "    print(f\"Found {len(error_df)} potential errors\")\n",
        "\n",
        "    # Analyze pose-wise errors\n",
        "    print(\"\\nMost common incorrect labelings:\")\n",
        "    error_counts = error_df.groupby(['given_pose', 'predicted_pose']).size().sort_values(ascending=False)\n",
        "    print(error_counts.head(10))\n",
        "\n",
        "    # High confidence errors\n",
        "    print(\"\\nHighest confidence disagreements:\")\n",
        "    high_conf_errors = error_df.sort_values('confidence', ascending=False)\n",
        "    print(high_conf_errors.head(10))\n",
        "\n",
        "    return error_df\n",
        "\n",
        "def validate_yoga_dataset(model, dataset, batch_size=8, threshold=0.9):\n",
        "    dataloader = DataLoader(\n",
        "        dataset,\n",
        "        batch_size=batch_size,\n",
        "        shuffle=False,\n",
        "        collate_fn = collate_fn\n",
        "    )\n",
        "\n",
        "    # Find potential errors\n",
        "    errors = find_potential_label_errors(model, dataset, dataloader, threshold)\n",
        "\n",
        "    # Analyze and get DataFrame of errors\n",
        "    error_df = analyze_yoga_errors(errors)\n",
        "\n",
        "    return error_df\n",
        "import torchvision.transforms as transforms\n",
        "from PIL import Image\n",
        "import torch\n",
        "\n",
        "# Define de-normalization transform\n",
        "imagenet_mean = [0.485, 0.456, 0.406]\n",
        "imagenet_std = [0.229, 0.224, 0.225]\n",
        "denormalize = transforms.Normalize(\n",
        "    mean=[-m/s for m, s in zip(imagenet_mean, imagenet_std)],\n",
        "    std=[1/s for s in imagenet_std]\n",
        ")\n",
        "\n",
        "def save_suspicious_sequences(error_df, dataset, save_dir, max_samples=5):\n",
        "    \"\"\"Save frames from suspicious sequences for manual review\"\"\"\n",
        "    os.makedirs(save_dir, exist_ok=True)\n",
        "\n",
        "    # Group by pose pairs to save examples of each type of error\n",
        "    grouped_errors = error_df.groupby(['given_pose', 'predicted_pose'])\n",
        "\n",
        "    for (given_pose, pred_pose), group in grouped_errors:\n",
        "        # Take up to max_samples highest confidence examples for each error type\n",
        "        samples = group.nlargest(max_samples, 'confidence')\n",
        "\n",
        "        for idx, row in samples.iterrows():\n",
        "            sequence_id = row['sequence_id']\n",
        "            confidence = row['confidence']\n",
        "\n",
        "            # Create directory for this error type\n",
        "            error_dir = os.path.join(save_dir, f\"{given_pose}_to_{pred_pose}\")\n",
        "            os.makedirs(error_dir, exist_ok=True)\n",
        "\n",
        "            try:\n",
        "                # Find the index in dataset.df that matches this sequence_id\n",
        "                dataset_idx = dataset.df[dataset.df['sequence_id'] == sequence_id].index\n",
        "\n",
        "                if len(dataset_idx) > 0:\n",
        "                    # Get the sequence frames\n",
        "                    frames, _ = dataset[dataset_idx[0]]\n",
        "\n",
        "                    # Move frames to CPU if they're on GPU\n",
        "                    if frames.is_cuda:\n",
        "                        frames = frames.cpu()\n",
        "\n",
        "                    # Save middle frame as representative image\n",
        "                    middle_frame = frames[len(frames)//2]\n",
        "\n",
        "                    # De-normalize the frame\n",
        "                    middle_frame = denormalize(middle_frame)\n",
        "\n",
        "                    # Clip the values to the valid range [0, 1] for image saving\n",
        "                    middle_frame = torch.clamp(middle_frame, 0, 1)\n",
        "\n",
        "                    save_path = os.path.join(error_dir, f'seq_{sequence_id}_conf_{confidence:.2f}.png')\n",
        "\n",
        "                    # Convert tensor to PIL Image and save\n",
        "                    middle_frame = transforms.ToPILImage()(middle_frame)\n",
        "                    middle_frame.save(save_path)\n",
        "                else:\n",
        "                    print(f\"Warning: Sequence ID {sequence_id} not found in dataset\")\n",
        "\n",
        "            except Exception as e:\n",
        "                print(f\"Error processing sequence {sequence_id}: {str(e)}\")\n",
        "                continue\n",
        "\n",
        "# Usage example:\n",
        "\n",
        "def search_all_the_faults():\n",
        "    model = CNNLSTM(num_classes=NUM_CLASSES)\n",
        "    aug_dirs={\n",
        "        'flip': horz_aug,\n",
        "        'blur': gaussian_blur_aug,\n",
        "        'resize_crop': resize_aug\n",
        "    }\n",
        "    dataset = YogaVideoDataset(csv_path, sequence_path, pose_list, video_dir, preprocessed_dir, aug_dirs)\n",
        "    checkpoint_path = os.path.join(save_path, 'best_model.pth')\n",
        "    optimizer = torch.optim.Adam(model.parameters(), lr=LEARNING_RATE)\n",
        "    if checkpoint_path and os.path.exists(checkpoint_path):\n",
        "      model, optimizer, start_epoch, history = load_checkpoint(\n",
        "                model, optimizer, checkpoint_path\n",
        "      )\n",
        "      print(f\"Resuming training from epoch {start_epoch}\")\n",
        "        # Find and analyze errors\n",
        "    error_df = validate_yoga_dataset(model, dataset, batch_size=8, threshold=0.9)\n",
        "\n",
        "        # Save suspicious sequences for manual review\n",
        "    save_dir=os.path.join(save_path,'suspicious_sequences')\n",
        "    save_suspicious_sequences(error_df, dataset, save_dir)\n",
        "\n",
        "    csv_path_file = os.path.join(save_path, 'potential_label_errors.csv')\n",
        "        # Export results to CSV for further analysis\n",
        "    error_df.to_csv(csv_path_file, index=False)\n",
        "\n",
        "        # Print some statistics\n",
        "    print(\"\\nMost frequently mislabeled sequences:\")\n",
        "    sequence_counts = error_df['sequence_id'].value_counts()\n",
        "    print(sequence_counts.head())"
      ],
      "metadata": {
        "id": "rFuA0ugooxk1",
        "collapsed": true
      },
      "execution_count": 33,
      "outputs": []
    },
    {
      "cell_type": "code",
      "source": [
        "search_all_the_faults()"
      ],
      "metadata": {
        "colab": {
          "base_uri": "https://localhost:8080/"
        },
        "id": "-umTOlDwfXE4",
        "outputId": "b4acf3ce-fb99-49c7-d88c-b7e15a0ab714"
      },
      "execution_count": 34,
      "outputs": [
        {
          "output_type": "stream",
          "name": "stdout",
          "text": [
            "Loading checkpoint from /content/gdrive/MyDrive/RGB_data_stream/nov9_equal_interval_sample/best_model.pth\n"
          ]
        },
        {
          "output_type": "stream",
          "name": "stderr",
          "text": [
            "<ipython-input-14-04d0bcd412bb>:6: FutureWarning: You are using `torch.load` with `weights_only=False` (the current default value), which uses the default pickle module implicitly. It is possible to construct malicious pickle data which will execute arbitrary code during unpickling (See https://github.com/pytorch/pytorch/blob/main/SECURITY.md#untrusted-models for more details). In a future release, the default value for `weights_only` will be flipped to `True`. This limits the functions that could be executed during unpickling. Arbitrary objects will no longer be allowed to be loaded via this mode unless they are explicitly allowlisted by the user via `torch.serialization.add_safe_globals`. We recommend you start setting `weights_only=True` for any use case where you don't have full control of the loaded file. Please open an issue on GitHub for any issues related to this experimental feature.\n",
            "  checkpoint = torch.load(checkpoint_path)\n"
          ]
        },
        {
          "output_type": "stream",
          "name": "stdout",
          "text": [
            "Resuming training from epoch 17\n"
          ]
        },
        {
          "output_type": "stream",
          "name": "stderr",
          "text": [
            "Analyzing sequences:   1%|          | 1/87 [00:02<04:03,  2.83s/it]"
          ]
        },
        {
          "output_type": "stream",
          "name": "stdout",
          "text": [
            "/content/gdrive/MyDrive/RGB_data_stream/complete_pre_processed/1011.pt\n"
          ]
        },
        {
          "output_type": "stream",
          "name": "stderr",
          "text": [
            "Analyzing sequences: 100%|██████████| 87/87 [07:14<00:00,  5.00s/it]\n"
          ]
        },
        {
          "output_type": "stream",
          "name": "stdout",
          "text": [
            "Found 31 potential errors\n",
            "\n",
            "Most common incorrect labelings:\n",
            "given_pose             predicted_pose       \n",
            "half-way-lift          standing-forward-bend    16\n",
            "standing-forward-bend  half-way-lift             9\n",
            "half-way-lift          downward-dog              2\n",
            "downward-dog           standing-forward-bend     1\n",
            "mountain               downward-dog              1\n",
            "                       standing-forward-bend     1\n",
            "standing-forward-bend  downward-dog              1\n",
            "dtype: int64\n",
            "\n",
            "Highest confidence disagreements:\n",
            "    sequence_id         predicted_pose             given_pose  confidence\n",
            "30         2166  standing-forward-bend           downward-dog    0.999821\n",
            "24         1831  standing-forward-bend          half-way-lift    0.999671\n",
            "23         1816           downward-dog          half-way-lift    0.998928\n",
            "1          1090           downward-dog               mountain    0.998486\n",
            "28         1909  standing-forward-bend          half-way-lift    0.996064\n",
            "5          1523          half-way-lift  standing-forward-bend    0.995890\n",
            "29         1917  standing-forward-bend          half-way-lift    0.994486\n",
            "9          1620          half-way-lift  standing-forward-bend    0.993659\n",
            "12         1699  standing-forward-bend          half-way-lift    0.992736\n",
            "26         1876  standing-forward-bend          half-way-lift    0.986820\n",
            "Error processing sequence 2166: single positional indexer is out-of-bounds\n",
            "Error processing sequence 1816: single positional indexer is out-of-bounds\n",
            "Error processing sequence 1770: single positional indexer is out-of-bounds\n",
            "Error processing sequence 1831: single positional indexer is out-of-bounds\n",
            "Error processing sequence 1909: single positional indexer is out-of-bounds\n",
            "Error processing sequence 1917: single positional indexer is out-of-bounds\n",
            "Error processing sequence 1876: single positional indexer is out-of-bounds\n",
            "\n",
            "Most frequently mislabeled sequences:\n",
            "sequence_id\n",
            "1088    1\n",
            "1090    1\n",
            "1472    1\n",
            "1519    1\n",
            "1520    1\n",
            "Name: count, dtype: int64\n"
          ]
        }
      ]
    },
    {
      "cell_type": "code",
      "source": [],
      "metadata": {
        "id": "3IrgCOYOijTs"
      },
      "execution_count": null,
      "outputs": []
    }
  ],
  "metadata": {
    "accelerator": "GPU",
    "colab": {
      "gpuType": "T4",
      "provenance": []
    },
    "kernelspec": {
      "display_name": "Python 3",
      "name": "python3"
    },
    "language_info": {
      "codemirror_mode": {
        "name": "ipython",
        "version": 3
      },
      "file_extension": ".py",
      "mimetype": "text/x-python",
      "name": "python",
      "nbconvert_exporter": "python",
      "pygments_lexer": "ipython3",
      "version": "3.12.4"
    }
  },
  "nbformat": 4,
  "nbformat_minor": 0
}